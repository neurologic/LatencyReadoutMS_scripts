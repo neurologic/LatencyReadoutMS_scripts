{
 "cells": [
  {
   "cell_type": "markdown",
   "metadata": {
    "heading_collapsed": true
   },
   "source": [
    "# import packages"
   ]
  },
  {
   "cell_type": "code",
   "execution_count": 1,
   "metadata": {
    "code_folding": [
     5
    ],
    "hidden": true
   },
   "outputs": [],
   "source": [
    "import platform\n",
    "import sys\n",
    "os_name = platform.system()\n",
    "if os_name == 'Darwin':\n",
    "    sys.path.append('/Users/kperks/mnt/engram/scripts/Python/Analysis/')\n",
    "if os_name == 'Linux':\n",
    "    sys.path.append('/mnt/engram/scripts/Python/Analysis/')\n",
    "from ClassDef_AmplitudeShift_Stable import AmpShift_Stable\n",
    "\n",
    "from brian2 import *\n",
    "import sympy\n",
    "import matplotlib.pyplot as plt\n",
    "import numpy as np\n",
    "import pandas as pd\n",
    "from pathlib import Path\n",
    "import seaborn as sns\n",
    "from scipy import signal\n",
    "from scipy import optimize\n",
    "from scipy import stats\n",
    "from scipy.stats import gaussian_kde\n",
    "import pickle\n",
    "\n",
    "\n",
    "import matplotlib\n",
    "# matplotlib.rcParams['pdf.fonttype'] = 42\n"
   ]
  },
  {
   "cell_type": "markdown",
   "metadata": {
    "heading_collapsed": true
   },
   "source": [
    "# define paths"
   ]
  },
  {
   "cell_type": "code",
   "execution_count": 2,
   "metadata": {
    "hidden": true
   },
   "outputs": [],
   "source": [
    "exptpath = Path.cwd().resolve().parents[0] #assumes running notebook from /data_processed\n",
    "data_folder = exptpath / 'data_raw'\n",
    "figure_folder = Path.cwd().resolve().parents[2] / 'engram_share' / 'GranularCellPaperResources' / 'Figure_RawEPScomponents'\n",
    "df_folder = exptpath / 'data_processed' / 'Figures_GRC_properties' / 'Unsubtracted_CvsU' / 'df_cmdintact'\n",
    "meta_data_folder = exptpath / 'data_processed' / 'GRC_properties_Meta'\n",
    "\n",
    "#for storing simulation states\n",
    "sim_filename = 'grc_model_initialized.pickle'\n",
    "sim_filepath = Path.cwd() / 'grc_model_simulations' / sim_filename #assumes running notebook from /data_processed"
   ]
  },
  {
   "cell_type": "markdown",
   "metadata": {},
   "source": [
    "# define functions"
   ]
  },
  {
   "cell_type": "markdown",
   "metadata": {},
   "source": [
    "## figure styles"
   ]
  },
  {
   "cell_type": "code",
   "execution_count": 3,
   "metadata": {
    "code_folding": []
   },
   "outputs": [],
   "source": [
    "def figsave(figure_folder,figname):\n",
    "    plt.savefig(figure_folder / (figname + '.pdf'),format='pdf',dpi=300, transparent = True)\n",
    "    \n",
    "def create_fig():\n",
    "    hfig = plt.figure(figsize=[1.5,1.5])\n",
    "    ax = hfig.add_axes([0.2,0.2,0.7,0.7],frameon=False)\n",
    "    return hfig,ax\n",
    "\n",
    "def create_fig_tuning():\n",
    "    figsize=[1.2,1.5]\n",
    "    hfig = plt.figure(figsize = figsize) \n",
    "    ax = hfig.add_axes([0.3,0.2,0.6,0.7])\n",
    "    return hfig,ax\n",
    "\n",
    "def set_fig_style():\n",
    "    rc = matplotlib.rcParams\n",
    "    fontsize = 7\n",
    "    rc['font.size'] = fontsize\n",
    "    rc['axes.labelsize'] = fontsize\n",
    "    rc['axes.titlesize'] = fontsize\n",
    "    rc['axes.linewidth'] = 0.5\n",
    "    rc['axes.labelpad'] = 0\n",
    "    rc['font.family'] = 'sans-serif'\n",
    "    rc['font.sans-serif'] = ['Helvetica','Arial','sans-serif']\n",
    "    rc['xtick.major.width'] = 0.5\n",
    "    rc['ytick.major.width'] = 0.5\n",
    "    rc['xtick.minor.width'] = 0.5\n",
    "    rc['ytick.minor.width'] = 0.5\n",
    "    rc['xtick.major.size'] = 2\n",
    "    rc['ytick.major.size'] = 2\n",
    "    rc['xtick.minor.size'] = 2\n",
    "    rc['ytick.minor.size'] = 2\n",
    "    rc['xtick.major.pad'] = 0\n",
    "    rc['ytick.major.pad'] = 0\n",
    "    rc['xtick.minor.pad'] = 0\n",
    "    rc['ytick.minor.pad'] = 0\n",
    "    rc['ytick.labelsize'] = fontsize\n",
    "    rc['xtick.labelsize'] = fontsize\n",
    "    rc['pdf.fonttype'] = 42\n",
    "    rc['ps.fonttype'] = 42\n",
    "#     matplotlib.rcParams.update(rc)\n",
    "    return rc\n",
    "\n",
    "def plot_corr_matrix_multigauss(rv):\n",
    "    hfig = plt.figure(figsize = (15,5))\n",
    "    ax1 = hfig.add_axes([0.1,0.2,0.4,0.7])\n",
    "    ax1.axis('scaled')\n",
    "    ax2 = hfig.add_axes([0.5,0.2,0.4,0.7])\n",
    "    ax2.axis('scaled')\n",
    "\n",
    "    covmat = rv.covariance\n",
    "    sns.heatmap(covmat,\n",
    "            ax = ax1,\n",
    "            annot=True,\n",
    "            cbar = False,\n",
    "            fmt=\"0.3f\",\n",
    "            cmap=\"YlGnBu\",\n",
    "            xticklabels=['stretch','tau','offset'],#range(np.shape(dataset)[1]),\n",
    "            yticklabels=['stretch','tau','offset'])\n",
    "    ax1.set_title(\"Covariance matrix\")\n",
    "\n",
    "    corrmat = correlation_from_covariance(covmat)\n",
    "    sns.heatmap(corrmat,\n",
    "            ax = ax2,\n",
    "            annot=True,\n",
    "            cbar = False,\n",
    "            fmt=\"0.3f\",\n",
    "            cmap=\"YlGnBu\",\n",
    "            xticklabels=['stretch','tau','offset'],#range(np.shape(dataset)[1]),\n",
    "            yticklabels=['stretch','tau','offset'])\n",
    "    ax2.set_title(\"Correlation matrix\")"
   ]
  },
  {
   "cell_type": "markdown",
   "metadata": {},
   "source": [
    "## analyses"
   ]
  },
  {
   "cell_type": "code",
   "execution_count": null,
   "metadata": {},
   "outputs": [],
   "source": [
    "def exp_fit(x, a, k, b):\n",
    "    return a*np.exp(x*k) + b\n",
    "\n",
    "def get_example_cmd(exptname,boutstr,sweepdur):\n",
    "#     exptname = '20191218_009'\n",
    "#     sweepdur = 0.05\n",
    "    expt = AmpShift_Stable()\n",
    "    expt.load_expt(exptname, data_folder)\n",
    "    expt.set_channels('CmdTrig','lowgain','spikes','SIU','DigMark')\n",
    "\n",
    "#     boutstr= '[expt.get_bout_win('R','Keyboard')[0],\n",
    "#             expt.get_bout_win('R','Keyboard')[1],\n",
    "#             expt.get_bout_win('N','Keyboard')[0],\n",
    "#             expt.get_bout_win('N','Keyboard')[1]]''\n",
    "    bout = eval(boutstr)\n",
    "    marker_df = expt.get_marker_table()\n",
    "    dt = expt.get_dt('lowgain')\n",
    "    bout_df = expt.filter_marker_df_time(marker_df,bout)\n",
    "\n",
    "    b_df = expt.filter_marker_df_code(bout_df,['B'])\n",
    "    u_df = expt.filter_marker_df_code(bout_df,['U'])\n",
    "\n",
    "    #from uncoupled trials get times for command responses\n",
    "    cmd_t = np.asarray([np.max(b_df.time.values[b_df.time.values<t]) for t in u_df.time.values])\n",
    "\n",
    "    xtime,sweeps = expt.get_sweepsmat('lowgain',cmd_t,sweepdur)\n",
    "    cmd_ = np.mean(sweeps,1)-np.mean(sweeps,1)[0]\n",
    "    \n",
    "    return xtime, cmd_\n",
    "\n",
    "def correlation_from_covariance(covariance):\n",
    "    v = np.sqrt(np.diag(covariance))\n",
    "    outer_v = np.outer(v, v)\n",
    "    correlation = covariance / outer_v\n",
    "    correlation[covariance == 0] = 0\n",
    "    return correlation\n",
    "\n",
    "def exclude_HighThreshAff(meta_df):\n",
    "    x = np.unique(meta_df.ampshift) #array([-40,-30,-20,-10,-5,0,5,10,20,30,40])\n",
    "    spk_thresh = 12\n",
    "\n",
    "    n_excluded = 0\n",
    "    n_included = 0\n",
    "    expt_excluded = []\n",
    "\n",
    "    meta_params_df = pd.DataFrame()\n",
    "    colors = ['blue','orange','brown','green']\n",
    "    for i,animal in enumerate(np.unique(meta_df['animalID'])):\n",
    "        animal_df = meta_df[meta_df['animalID'] == animal]\n",
    "        print(str(animal) + '(' + colors[i] + ')' + ' has a total of ' + str(len(np.unique(animal_df['exptname']))) + ' afferents recorded')\n",
    "\n",
    "        params_all = []\n",
    "        sse_all = []\n",
    "        df_all = []\n",
    "\n",
    "        for name in np.unique(animal_df['exptname']):\n",
    "            expt_df = animal_df[animal_df['exptname'] == name]\n",
    "            try:\n",
    "                x_data = expt_df.dropna(0).ampshift.values\n",
    "                y_data =  expt_df.dropna(0).fsl.values\n",
    "                if len(np.unique(x_data)) > 5 :\n",
    "                    n_included += 1\n",
    "                    spk_thresh = np.max(y_data)\n",
    "                    params, params_covariance = optimize.curve_fit(exp_fit, x_data, y_data, \n",
    "                                                                   p0=[1,-0.05, 3],\n",
    "                                                                   bounds = ([0,-1,1],[np.inf,0,10]),\n",
    "                                                                   maxfev=1000)\n",
    "                    params_all.append(params)\n",
    "                    c = []\n",
    "                    for x_,y_ in zip(x_data,y_data):\n",
    "                        yh = exp_fit(x_,params[0],params[1],params[2])\n",
    "                        s = np.std(y_data[x_data==x_]) #calc std of y measure at each x to adjust chi2\n",
    "                        c.append(((y_ - yh)**2))\n",
    "    #                     if s==0:\n",
    "    #                         c.append(((y_ - yh)**2))\n",
    "    #                     if s>0:\n",
    "    #                         c.append(((y_ - yh)**2)/s**2)\n",
    "                    sse_all.append(np.sum(c))    \n",
    "                    df_all.append(len(y_data)-3)\n",
    "                if len(np.unique(x_data)) <= 5:\n",
    "                    n_excluded += 1\n",
    "                    expt_excluded.append(name)\n",
    "                    params = array([np.NaN,np.NaN,np.NaN])\n",
    "                    params_all.append(params)\n",
    "                    sse_all.append(np.NaN)    \n",
    "                    df_all.append(len(y_data)-3)\n",
    "            except:\n",
    "                n_excluded += 1\n",
    "                expt_excluded.append(name)\n",
    "                params = array([np.NaN,np.NaN,np.NaN])\n",
    "                params_all.append(params)\n",
    "                sse_all.append(np.NaN)    \n",
    "                df_all.append(len(y_data)-3)\n",
    "                pass # doing nothing on exception\n",
    "\n",
    "        exptname = animal_df.groupby('exptname').exptname.describe().top.values\n",
    "        max_fsl = animal_df.groupby('exptname').fsl.max().values\n",
    "        a = [p[0] for p in params_all]\n",
    "        k = [p[1] for p in params_all]\n",
    "        b = [p[2] for p in params_all]\n",
    "\n",
    "        meta_params = {\n",
    "            'exptname' : exptname,\n",
    "            'animal' : animal,\n",
    "            'stretch' : a,\n",
    "            'tau' : k,\n",
    "            'offset' : b,\n",
    "            'max_fsl' : max_fsl,\n",
    "            'sse' : sse_all,\n",
    "            'df' : df_all\n",
    "        }\n",
    "        animal_df = pd.DataFrame(meta_params)\n",
    "        meta_params_df = meta_params_df.append(animal_df,sort = False,ignore_index = False)\n",
    "\n",
    "\n",
    "    print('number afferents excluded because first fsl threshold too high or could not be fit: ' + str(n_excluded))\n",
    "    print('number afferents included (spike thresh at least 0%): ' + str(n_included))\n",
    "    # plt.ylim(1.8,15)\n",
    "    # plt.legend(bbox_to_anchor=(1.1, 1.05))\n",
    "    \n",
    "    return meta_params_df,expt_excluded\n",
    "\n",
    "def assess_fits(meta_params_df):\n",
    "    un_fit = meta_params_df[meta_params_df['sse'].gt(meta_params_df['sse'].quantile(.9))]\n",
    "\n",
    "    well_fit = meta_params_df[meta_params_df['sse'].lt(meta_params_df['sse'].quantile(.9))]\n",
    "    plt.figure(figsize = (2,4))\n",
    "    well_fit.boxplot('sse')\n",
    "    \n",
    "    print(un_fit)\n",
    "\n",
    "    return well_fit,un_fit\n",
    "\n",
    "\n",
    "    \n",
    "def calc_peaks(xtime,sweeps, order, min_peakt,threshold_h,dt):\n",
    "    R = sweeps #np.mean(sweeps,1)-np.mean(sweeps,1)[0]\n",
    "    \n",
    "    nsamp=int(order/dt) #the window of comparison in nsamp for order; 2msec seemed good\n",
    "    epsp_ = signal.argrelextrema(R,np.greater_equal,order = nsamp)[0]\n",
    "    epsp_ = epsp_[np.where((epsp_*dt)>min_peakt)[0]]\n",
    "    epsp = []\n",
    "    measure = epsp_\n",
    "    for i in measure:\n",
    "        lb = int(min_peakt/dt)\n",
    "        rb = len(R)-1\n",
    "        min_height = np.min([abs(R[i]-R[lb]),abs(R[i]-R[rb])])\n",
    "        if min_height>threshold_h:\n",
    "            epsp.append(i)\n",
    "    if len(epsp)>0:\n",
    "        epsp = np.min(epsp)\n",
    "    elif len(epsp)==0:\n",
    "        epsp = np.NaN\n",
    "\n",
    "    R_filt = R #signal.medfilt(R,[11])\n",
    "    y = signal.medfilt(np.concatenate([[0],np.diff(R_filt)]),[25]) #-threshold_dvdt\n",
    "    accel = signal.medfilt(np.concatenate([[0],np.diff(y)]),[11])   \n",
    "\n",
    "    dvdt_start = int(0.002/dt)\n",
    "    if ~np.isnan([epsp]).any():\n",
    "        epsp_t = xtime[epsp]\n",
    "        max_dvdt = np.max(y[dvdt_start:epsp])\n",
    "        dvdt_threshold = np.max([0.01,0.15*max_dvdt])\n",
    "\n",
    "        onset_options = np.where((np.sign(y-dvdt_threshold)>0) & (np.sign(accel)>=0))[0]\n",
    "        valid_onsets = onset_options[(onset_options>dvdt_start)&(onset_options<epsp)]\n",
    "        if len(valid_onsets) > 0:\n",
    "            if (epsp_t-(np.min(valid_onsets)*dt)) > 0: #ensure that onset is before peak\n",
    "                epsp_onset_ind = np.min(valid_onsets) #min after stim artifact\n",
    "                epsp_amp = R[epsp]-R[epsp_onset_ind]\n",
    "                epsp_onset = xtime[epsp_onset_ind]\n",
    "            elif (epsp_t-(np.min(valid_onsets)*dt)) <= 0:\n",
    "                epsp_t = np.NaN\n",
    "                epsp_onset = np.NaN\n",
    "                epsp_amp = 0\n",
    "        elif len(valid_onsets)==0:\n",
    "            epsp_t = np.NaN\n",
    "            epsp_onset = np.NaN\n",
    "            epsp_amp = 0\n",
    "    elif np.isnan([epsp]).any():\n",
    "        epsp_t = np.NaN\n",
    "        epsp_onset = np.NaN\n",
    "        epsp_amp = 0    \n",
    "\n",
    "    return epsp_t, epsp_amp, epsp_onset\n"
   ]
  },
  {
   "cell_type": "markdown",
   "metadata": {},
   "source": [
    "## model"
   ]
  },
  {
   "cell_type": "code",
   "execution_count": 4,
   "metadata": {},
   "outputs": [],
   "source": [
    "def initialize_model(namespace_sim):    \n",
    "    start_scope()\n",
    "    ################################################################################\n",
    "    # Model definition\n",
    "    ################################################################################\n",
    "    IinjWav = namespace_sim['IinjWav']# TimedArray([0]*pA,dt=20*ms) #TimedArray([0,10,10,10,10,10,0]*pA,dt=20*ms) #\n",
    "    invpeak = (namespace_sim['tau_e2'] / namespace_sim['tau_e1']) ** \\\n",
    "            (namespace_sim['tau_e1'] / (namespace_sim['tau_e2'] - namespace_sim['tau_e1']))\n",
    "    namespace_sim['invpeak'] = invpeak\n",
    "    ### Neurons\n",
    "    neuron_eq = '''\n",
    "    dv/dt = (g_l*(E_l-v) + g_e*(E_e-v) + g_e_lmi*(E_e_lmi-v) + g_cd*(E_cd-v) + g_cd_i*(E_cd_i-v) + g_cd_lmi*(E_cd_lmi-v) + Iinj)/Cm    : volt (unless refractory)\n",
    "    dg_e/dt = (invpeak * s - g_e)/tau_e1 : siemens\n",
    "    ds/dt = -s/tau_e2 : siemens\n",
    "    dg_e_lmi/dt = -g_e_lmi/tau_e_lmi  : siemens  # post-synaptic electrosensory inhibitory conductance\n",
    "    dg_cd/dt = -g_cd/tau_cd : siemens  # post-synaptic CD excitatory conductance\n",
    "    dg_cd_i/dt = -g_cd_i/tau_cd_i : siemens  # post-synaptic CD inhibitory conductance\n",
    "    dg_cd_lmi/dt = -g_cd_lmi/tau_cd_lmi : siemens  # post-synaptic CD lmi-driven inhib conductance\n",
    "    Iinj = IinjWav(t) : amp # injected current\n",
    "    '''\n",
    "        \n",
    "    neurons = NeuronGroup(1, model=neuron_eq,\n",
    "                          threshold='v>V_th', reset='v=V_r',\n",
    "                          refractory='tau_r', method='euler',\n",
    "                         name = 'grc',namespace=namespace_sim)\n",
    "    neurons.v = namespace_sim['E_l']\n",
    "    # set up monitor of post-synaptic neuron parameters\n",
    "    state_mon = StateMonitor(neurons, ['v', 'g_e', 'g_cd','g_e_lmi','g_cd_i','g_cd_lmi','Iinj'], \n",
    "                             record=0, name = 'state_mon')\n",
    "    \n",
    "    ######### \n",
    "    #create and connect command input (direct and indirect via lmi)\n",
    "    #########\n",
    "    t_cd = array([namespace_sim['cmd_onset']])*ms\n",
    "    t_cd_i = array([namespace_sim['cmd_i_onset']])*ms\n",
    "    t_cd_lmi = array([namespace_sim['cmd_onset']+ namespace_sim['cmd_lmi_delay']])*ms\n",
    "    G_cd = SpikeGeneratorGroup(1, array([0]), t_cd, name='jxl_input')\n",
    "    G_cd_i = SpikeGeneratorGroup(1, array([0]), t_cd_i, name = 'cd_inhib_input')\n",
    "    G_cd_lmi = SpikeGeneratorGroup(1, array([0]), t_cd_lmi, name = 'cd_lmi_input')\n",
    "    #connect spike generator to neuron:\n",
    "    syn_cd = Synapses(G_cd, neurons,on_pre='g_cd_post += w_cd',\n",
    "                      name = 'jxl_syn',namespace=namespace_sim)\n",
    "    syn_cd_i = Synapses(G_cd_i, neurons,on_pre='g_cd_i_post += w_cd_i',\n",
    "                        name = 'cd_inhib_syn',namespace=namespace_sim)\n",
    "    syn_cd_lmi = Synapses(G_cd_lmi, neurons,on_pre='g_cd_lmi_post += w_cd_lmi',\n",
    "                          name = 'cd_lmi_syn',namespace=namespace_sim)\n",
    "    #Now connect the synapses...\n",
    "    syn_cd.connect(i=0,j=0)\n",
    "    syn_cd_i.connect(i=0,j=0)\n",
    "    syn_cd_lmi.connect(i=0,j=0)\n",
    "\n",
    "    ######### \n",
    "    #create and connect afferent input (direct and indirect via lmi)\n",
    "    #########\n",
    "    aff_t_default = array(np.zeros(namespace_sim['N_inputs']))*ms\n",
    "    N_aff = len(aff_t_default)\n",
    "    neuron_ind = np.arange(N_aff)\n",
    "    G_e = SpikeGeneratorGroup(N_aff, neuron_ind,aff_t_default,name='aff_input')\n",
    "    G_e_lmi = SpikeGeneratorGroup(1, array([0]),array([0])*ms,name = 'aff_lmi_input')\n",
    "    #connect spike generator to neuron:\n",
    "    syn_e = Synapses(G_e, neurons,on_pre='s += w_e',name='aff_syn',namespace=namespace_sim)\n",
    "    syn_e_lmi = Synapses(G_e_lmi, neurons,on_pre='g_e_lmi_post += \\\n",
    "                         w_e_lmi*(maxas+((minas-maxas)/(1+(((v-E_l)/mV)/midpt)**slp)))*nS',\n",
    "                         delay=namespace_sim['e_lmi_delay']*ms,\n",
    "                      name='aff_lmi_syn',namespace=namespace_sim)\n",
    "\n",
    "    #Now connect the synapses...\n",
    "    syn_e.connect(i=neuron_ind, j = 0)\n",
    "    syn_e_lmi.connect(i=0, j = 0)\n",
    "\n",
    "    net = Network(collect())\n",
    "    return net, namespace_sim\n",
    "\n",
    "\n",
    "def reset_namespace_defaults():\n",
    "    namespace_sim = {\n",
    "        'N_inputs' : 1,\n",
    "        'N_runs' : 1,\n",
    "        'sim_dt' : 0.1*ms,\n",
    "        'duration' : 0.05*second,\n",
    "        'Cm' : 12*pF,\n",
    "        'E_l' : -70*mV,\n",
    "        'g_l' : 1*nS, # a 1MOhm cell has gl = 1*nS\n",
    "        'E_e' : 0*mV,\n",
    "        'E_cd' : 0*mV,\n",
    "        'E_cd_i' : -80*mV,\n",
    "        'E_cd_lmi' : -80*mV,\n",
    "        'E_e_lmi' : -80*mV,\n",
    "        'V_th' : 0*mV,\n",
    "        'V_r' : -70*mV,\n",
    "        'tau_r' : 1*ms,\n",
    "        'w_e' : 0*nS,\n",
    "        'w_e_lmi' : 0,#either on and off... weight by logistic 0*nS,\n",
    "        'w_cd' : 0*nS,\n",
    "        'w_cd_i' : 0*nS,\n",
    "        'w_cd_lmi' : 0*nS,  \n",
    "        'tau_e1' : 4*ms,\n",
    "        'tau_e2' : 1*ms,\n",
    "        'tau_e_lmi' : 10*ms,\n",
    "        'tau_cd' : 2*ms,\n",
    "        'tau_cd_i' : 5*ms,\n",
    "        'tau_cd_lmi' : 5*ms,\n",
    "        'cmd_onset' : 5, #ms\n",
    "        'cmd_i_onset' : 4.5,\n",
    "        'cmd_lmi_delay' : 4, #ms\n",
    "        'aff_cmd_offset' : 5, # 5msec is for figure making because data plotted with 5msec pre-stimonset #4.5, #ms, time of normal stimulus onset relative to cmd\n",
    "        'e_lmi_delay' : 2, #ms\n",
    "        'IinjWav' : TimedArray([0]*pA,dt=20*ms),\n",
    "        'invpeak' : 1\n",
    "        'maxas' : 3.5 #dgc\n",
    "        'minas' : 0 #dgc\n",
    "        'midpt' : 2 #dgc\n",
    "        'slp' : 3 #dgc\n",
    "    }\n",
    "    return namespace_sim\n",
    "\n",
    "def generate_y_fit(x,n_inputs,dataset,rv):\n",
    "    #generate y_fit array on each iteration\n",
    "    stretch_min = np.min(dataset[:,0])\n",
    "    stretch_max = np.max(dataset[:,0])\n",
    "    tau_min = np.min(dataset[:,1])\n",
    "    tau_max = np.max(dataset[:,1])\n",
    "    offset_min = np.min(dataset[:,2])\n",
    "    offset_max = np.max(dataset[:,2])\n",
    "#     max_fsl = np.max(dataset[:,3])\n",
    "    max_fsl = 12\n",
    "    \n",
    "\n",
    "    # hfig = plt.figure(figsize=(3,4))\n",
    "    # ax1 = hfig.add_axes([0.1,0.1,0.8,0.8])\n",
    "#     x = array([-40,-30,-20,-10,-5,0,5,10,20,30,40])\n",
    "    i = 0\n",
    "    y_fit = []\n",
    "    while i <n_inputs:\n",
    "        [s,t,o] = rv.resample(1)\n",
    "        while (s<stretch_min)\\\n",
    "        | (s>stretch_max)\\\n",
    "        | (t<tau_min)\\\n",
    "        | (t>tau_max)\\\n",
    "        | (o<offset_min)\\\n",
    "        | (o>offset_max):\n",
    "            [s,t,o] = rv.resample(1)\n",
    "        i+=1\n",
    "        y = exp_fit(x,s,t,o)\n",
    "        spk_thresh = max_fsl\n",
    "        y[y>spk_thresh] = np.NaN\n",
    "        y_fit.append(y)\n",
    "    y_fit = np.asarray(y_fit).T\n",
    "    #     ax1.plot(x,y)\n",
    "    return x, y_fit\n",
    "\n",
    "def net_SpkGrp_update(net,name,indices,times):\n",
    "    net[name].set_spikes(indices,times)#G_e.set_spikes(neuron_ind,aff_t)\n",
    "    return net\n",
    "\n",
    "def model_ampshift(x,net,namespace_sim,filepath):\n",
    "    #filepath is path to network state storage\n",
    "    R_amp = []\n",
    "#     R_wavs = []\n",
    "    for trial in range(namespace_sim['N_runs']): \n",
    "#         x = np.linspace(-70,70,30) #array([-40,-30,-20,-10,-5,0,5,10,20,30,40])\n",
    "        x,y_fit = generate_y_fit(x,namespace_sim['N_inputs'],dataset,rv)\n",
    "        trialmax = []\n",
    "        for t_all in y_fit:\n",
    "            net.restore('intialized',filename=filepath)\n",
    "            t_ = t_all[~numpy.isnan(t_all)] + namespace_sim['aff_cmd_offset']\n",
    "            aff_t = array(t_)*ms\n",
    "            aff_ind = np.arange(len(aff_t))\n",
    "            net = net_SpkGrp_update(net,'aff_input',aff_ind,aff_t)\n",
    "            net = net_SpkGrp_update(net,'jxl_input',array([0]),array([namespace_sim['cmd_onset']])*ms)\n",
    "            net = net_SpkGrp_update(net,'cd_lmi_input',array([0]),array([namespace_sim['cmd_onset']+ namespace_sim['cmd_lmi_delay']])*ms)\n",
    "\n",
    "            try:\n",
    "                lmi_t = array([np.min(t_)+namespace_sim['e_lmi_delay']])*ms\n",
    "                lmi_ind = np.arange(len(lmi_t))\n",
    "            except (ValueError, TypeError):\n",
    "                lmi_t = array([])*ms\n",
    "                lmi_ind = np.arange(len(lmi_t))\n",
    "            net = net_SpkGrp_update(net,'aff_lmi_input',lmi_ind,lmi_t)\n",
    "\n",
    "            net.run(namespace_sim['duration'], namespace = namespace_sim, report=None)\n",
    "            post_R = net['state_mon'].v[0]/mV\n",
    "            trialmax.append(np.max(post_R,0)-post_R[0])\n",
    "#             R_wavs.append(post_R-post_R[0])\n",
    "        R_amp.append(trialmax)       \n",
    "    R_amp = np.asarray(R_amp).T    \n",
    "#     R_wavs = np.asarray(R_wavs).T  \n",
    "    return x, R_amp#,net['state_mon'].t/ms,R_wavs\n",
    "\n",
    "def example_ampshift_wavs(x,net,namespace_sim,filepath):\n",
    "    #filepath is path to network state storage\n",
    "    x,y_fit = generate_y_fit(x,namespace_sim['N_inputs'],dataset,rv)\n",
    "    R_wavs = []\n",
    "    for t_all in y_fit:\n",
    "        net.restore('intialized',filename=filepath)\n",
    "        t_ = t_all[~numpy.isnan(t_all)] + namespace_sim['aff_cmd_offset']\n",
    "        aff_t = array(t_)*ms\n",
    "        aff_ind = np.arange(len(aff_t))\n",
    "        net = net_SpkGrp_update(net,'aff_input',aff_ind,aff_t)\n",
    "        net = net_SpkGrp_update(net,'jxl_input',array([0]),array([namespace_sim['cmd_onset']])*ms)\n",
    "        net = net_SpkGrp_update(net,'cd_lmi_input',array([0]),array([namespace_sim['cmd_onset']+ namespace_sim['cmd_lmi_delay']])*ms)\n",
    "        \n",
    "        try:\n",
    "            lmi_t = array([np.min(t_)+namespace_sim['e_lmi_delay']])*ms\n",
    "            lmi_ind = np.arange(len(lmi_t))\n",
    "        except (ValueError, TypeError):\n",
    "            lmi_t = array([])*ms\n",
    "            lmi_ind = np.arange(len(lmi_t))\n",
    "        net = net_SpkGrp_update(net,'aff_lmi_input',lmi_ind,lmi_t)\n",
    "\n",
    "        net.run(namespace_sim['duration'], namespace = namespace_sim, report=None)\n",
    "        post_R = net['state_mon'].v[0]/mV\n",
    "        R_wavs.append(post_R-post_R[0])\n",
    "      \n",
    "    R_wavs = np.asarray(R_wavs).T    \n",
    "\n",
    "    return net['state_mon'].t/ms, R_wavs\n",
    "\n",
    "def model_single_run(net,namespace_sim,filepath,t_):\n",
    "    #filepath is path to network state storage\n",
    "    net.restore('intialized',filename=filepath)\n",
    "\n",
    "    aff_t = array(t_)*ms\n",
    "    aff_ind = np.arange(len(aff_t))\n",
    "    net = net_SpkGrp_update(net,'aff_input',aff_ind,aff_t)\n",
    "    try:\n",
    "        lmi_t = array([np.min(t_)+namespace_sim['e_lmi_delay']])*ms\n",
    "        lmi_ind = np.arange(len(lmi_t))\n",
    "    except (ValueError, TypeError):\n",
    "        lmi_t = array([])*ms\n",
    "        lmi_ind = np.arange(len(lmi_t))\n",
    "    net = net_SpkGrp_update(net,'aff_lmi_input',lmi_ind,lmi_t)\n",
    "\n",
    "    net.run(namespace_sim['duration'], namespace = namespace_sim, report=None)\n",
    "    post_R = net['state_mon'].v[0]/mV\n",
    "    xtime = net['state_mon'].t/ms\n",
    "    \n",
    "    return xtime,post_R\n",
    "\n",
    "def plot_modelResult(R_amp, R_wavs, xtime, y_fit):\n",
    "    x = array([-40,-30,-20,-10,-5,0,5,10,20,30,40]) ## * from 'generate y fit'\n",
    "    #####\n",
    "    hfig = plt.figure(figsize=(10,3))\n",
    "\n",
    "    ax1 = hfig.add_axes([0.1,0.1,0.2,0.8])\n",
    "    ax1.set_ylabel('msec')\n",
    "    ax1.set_xlabel('% shift stimulus amp')\n",
    "\n",
    "    ax2 = hfig.add_axes([0.4,0.1,0.2,0.8])\n",
    "    ax2.set_ylabel('mV')\n",
    "    ax2.set_xlabel('msec')\n",
    "\n",
    "    ax3 = hfig.add_axes([0.7,0.1,0.2,0.8])\n",
    "    ax3.set_ylabel('peak response amp mV')\n",
    "    ax3.set_xlabel('% shift stimulus amp')\n",
    "\n",
    "    #####\n",
    "    for yi in y_fit.T:\n",
    "        ax1.plot(x,yi,color = 'black',marker='o')\n",
    "    #####\n",
    "\n",
    "    colinds = plt.cm.plasma(np.linspace(0.2,1,np.shape(R_wavs)[1]))\n",
    "    for i,wav in enumerate(R_wavs.T):\n",
    "        ax2.plot(xtime,wav,color = colinds[i])\n",
    "    ax2.set_xlim(0,50)\n",
    "    #####\n",
    "\n",
    "    #####\n",
    "    for ramp in R_amp.T:\n",
    "        ax3.plot(x,ramp,color = 'black',marker='o')\n",
    "\n",
    "\n"
   ]
  },
  {
   "cell_type": "markdown",
   "metadata": {
    "heading_collapsed": true
   },
   "source": [
    "# configure figure styles"
   ]
  },
  {
   "cell_type": "code",
   "execution_count": 5,
   "metadata": {
    "hidden": true
   },
   "outputs": [],
   "source": [
    "sns.set_style(\"ticks\")\n",
    "sns.set_context(\"paper\")\n",
    "rc = set_fig_style()\n",
    "matplotlib.rcParams.update(rc)"
   ]
  },
  {
   "cell_type": "code",
   "execution_count": 5,
   "metadata": {
    "hidden": true,
    "scrolled": true
   },
   "outputs": [
    {
     "name": "stderr",
     "output_type": "stream",
     "text": [
      "WARNING    /anaconda3/envs/grc_study/lib/python3.6/site-packages/IPython/lib/pretty.py:684: MatplotlibDeprecationWarning: \n",
      "The examples.directory rcparam was deprecated in Matplotlib 3.0 and will be removed in 3.2. In the future, examples will be found relative to the 'datapath' directory.\n",
      "  output = repr(obj)\n",
      " [py.warnings]\n"
     ]
    },
    {
     "data": {
      "text/plain": [
       "RcParams({'_internal.classic_mode': False,\n",
       "          'agg.path.chunksize': 0,\n",
       "          'animation.avconv_args': [],\n",
       "          'animation.avconv_path': 'avconv',\n",
       "          'animation.bitrate': -1,\n",
       "          'animation.codec': 'h264',\n",
       "          'animation.convert_args': [],\n",
       "          'animation.convert_path': 'convert',\n",
       "          'animation.embed_limit': 20.0,\n",
       "          'animation.ffmpeg_args': [],\n",
       "          'animation.ffmpeg_path': 'ffmpeg',\n",
       "          'animation.frame_format': 'png',\n",
       "          'animation.html': 'none',\n",
       "          'animation.html_args': [],\n",
       "          'animation.writer': 'ffmpeg',\n",
       "          'axes.autolimit_mode': 'data',\n",
       "          'axes.axisbelow': True,\n",
       "          'axes.edgecolor': '.15',\n",
       "          'axes.facecolor': 'white',\n",
       "          'axes.formatter.limits': [-7, 7],\n",
       "          'axes.formatter.min_exponent': 0,\n",
       "          'axes.formatter.offset_threshold': 4,\n",
       "          'axes.formatter.use_locale': False,\n",
       "          'axes.formatter.use_mathtext': False,\n",
       "          'axes.formatter.useoffset': True,\n",
       "          'axes.grid': False,\n",
       "          'axes.grid.axis': 'both',\n",
       "          'axes.grid.which': 'major',\n",
       "          'axes.labelcolor': '.15',\n",
       "          'axes.labelpad': 0.0,\n",
       "          'axes.labelsize': 7.0,\n",
       "          'axes.labelweight': 'normal',\n",
       "          'axes.linewidth': 0.5,\n",
       "          'axes.prop_cycle': cycler('color', ['#1f77b4', '#ff7f0e', '#2ca02c', '#d62728', '#9467bd', '#8c564b', '#e377c2', '#7f7f7f', '#bcbd22', '#17becf']),\n",
       "          'axes.spines.bottom': True,\n",
       "          'axes.spines.left': True,\n",
       "          'axes.spines.right': True,\n",
       "          'axes.spines.top': True,\n",
       "          'axes.titlepad': 6.0,\n",
       "          'axes.titlesize': 7.0,\n",
       "          'axes.titleweight': 'normal',\n",
       "          'axes.unicode_minus': True,\n",
       "          'axes.xmargin': 0.05,\n",
       "          'axes.ymargin': 0.05,\n",
       "          'axes3d.grid': True,\n",
       "          'backend': 'module://ipykernel.pylab.backend_inline',\n",
       "          'backend_fallback': True,\n",
       "          'boxplot.bootstrap': None,\n",
       "          'boxplot.boxprops.color': 'black',\n",
       "          'boxplot.boxprops.linestyle': '-',\n",
       "          'boxplot.boxprops.linewidth': 1.0,\n",
       "          'boxplot.capprops.color': 'black',\n",
       "          'boxplot.capprops.linestyle': '-',\n",
       "          'boxplot.capprops.linewidth': 1.0,\n",
       "          'boxplot.flierprops.color': 'black',\n",
       "          'boxplot.flierprops.linestyle': 'none',\n",
       "          'boxplot.flierprops.linewidth': 1.0,\n",
       "          'boxplot.flierprops.marker': 'o',\n",
       "          'boxplot.flierprops.markeredgecolor': 'black',\n",
       "          'boxplot.flierprops.markeredgewidth': 1.0,\n",
       "          'boxplot.flierprops.markerfacecolor': 'none',\n",
       "          'boxplot.flierprops.markersize': 6.0,\n",
       "          'boxplot.meanline': False,\n",
       "          'boxplot.meanprops.color': 'C2',\n",
       "          'boxplot.meanprops.linestyle': '--',\n",
       "          'boxplot.meanprops.linewidth': 1.0,\n",
       "          'boxplot.meanprops.marker': '^',\n",
       "          'boxplot.meanprops.markeredgecolor': 'C2',\n",
       "          'boxplot.meanprops.markerfacecolor': 'C2',\n",
       "          'boxplot.meanprops.markersize': 6.0,\n",
       "          'boxplot.medianprops.color': 'C1',\n",
       "          'boxplot.medianprops.linestyle': '-',\n",
       "          'boxplot.medianprops.linewidth': 1.0,\n",
       "          'boxplot.notch': False,\n",
       "          'boxplot.patchartist': False,\n",
       "          'boxplot.showbox': True,\n",
       "          'boxplot.showcaps': True,\n",
       "          'boxplot.showfliers': True,\n",
       "          'boxplot.showmeans': False,\n",
       "          'boxplot.vertical': True,\n",
       "          'boxplot.whiskerprops.color': 'black',\n",
       "          'boxplot.whiskerprops.linestyle': '-',\n",
       "          'boxplot.whiskerprops.linewidth': 1.0,\n",
       "          'boxplot.whiskers': 1.5,\n",
       "          'contour.corner_mask': True,\n",
       "          'contour.negative_linestyle': 'dashed',\n",
       "          'datapath': '/anaconda3/envs/grc_study/lib/python3.6/site-packages/matplotlib/mpl-data',\n",
       "          'date.autoformatter.day': '%Y-%m-%d',\n",
       "          'date.autoformatter.hour': '%m-%d %H',\n",
       "          'date.autoformatter.microsecond': '%M:%S.%f',\n",
       "          'date.autoformatter.minute': '%d %H:%M',\n",
       "          'date.autoformatter.month': '%Y-%m',\n",
       "          'date.autoformatter.second': '%H:%M:%S',\n",
       "          'date.autoformatter.year': '%Y',\n",
       "          'docstring.hardcopy': False,\n",
       "          'errorbar.capsize': 0.0,\n",
       "          'examples.directory': '',\n",
       "          'figure.autolayout': False,\n",
       "          'figure.constrained_layout.h_pad': 0.04167,\n",
       "          'figure.constrained_layout.hspace': 0.02,\n",
       "          'figure.constrained_layout.use': False,\n",
       "          'figure.constrained_layout.w_pad': 0.04167,\n",
       "          'figure.constrained_layout.wspace': 0.02,\n",
       "          'figure.dpi': 72.0,\n",
       "          'figure.edgecolor': (1, 1, 1, 0),\n",
       "          'figure.facecolor': 'white',\n",
       "          'figure.figsize': [6.0, 4.0],\n",
       "          'figure.frameon': True,\n",
       "          'figure.max_open_warning': 20,\n",
       "          'figure.subplot.bottom': 0.125,\n",
       "          'figure.subplot.hspace': 0.2,\n",
       "          'figure.subplot.left': 0.125,\n",
       "          'figure.subplot.right': 0.9,\n",
       "          'figure.subplot.top': 0.88,\n",
       "          'figure.subplot.wspace': 0.2,\n",
       "          'figure.titlesize': 'large',\n",
       "          'figure.titleweight': 'normal',\n",
       "          'font.cursive': ['Apple Chancery',\n",
       "                           'Textile',\n",
       "                           'Zapf Chancery',\n",
       "                           'Sand',\n",
       "                           'Script MT',\n",
       "                           'Felipa',\n",
       "                           'cursive'],\n",
       "          'font.family': ['sans-serif'],\n",
       "          'font.fantasy': ['Comic Sans MS',\n",
       "                           'Chicago',\n",
       "                           'Charcoal',\n",
       "                           'Impact',\n",
       "                           'Western',\n",
       "                           'Humor Sans',\n",
       "                           'xkcd',\n",
       "                           'fantasy'],\n",
       "          'font.monospace': ['DejaVu Sans Mono',\n",
       "                             'Bitstream Vera Sans Mono',\n",
       "                             'Computer Modern Typewriter',\n",
       "                             'Andale Mono',\n",
       "                             'Nimbus Mono L',\n",
       "                             'Courier New',\n",
       "                             'Courier',\n",
       "                             'Fixed',\n",
       "                             'Terminal',\n",
       "                             'monospace'],\n",
       "          'font.sans-serif': ['Helvetica', 'Arial', 'sans-serif'],\n",
       "          'font.serif': ['DejaVu Serif',\n",
       "                         'Bitstream Vera Serif',\n",
       "                         'Computer Modern Roman',\n",
       "                         'New Century Schoolbook',\n",
       "                         'Century Schoolbook L',\n",
       "                         'Utopia',\n",
       "                         'ITC Bookman',\n",
       "                         'Bookman',\n",
       "                         'Nimbus Roman No9 L',\n",
       "                         'Times New Roman',\n",
       "                         'Times',\n",
       "                         'Palatino',\n",
       "                         'Charter',\n",
       "                         'serif'],\n",
       "          'font.size': 7.0,\n",
       "          'font.stretch': 'normal',\n",
       "          'font.style': 'normal',\n",
       "          'font.variant': 'normal',\n",
       "          'font.weight': 'normal',\n",
       "          'grid.alpha': 1.0,\n",
       "          'grid.color': '.8',\n",
       "          'grid.linestyle': '-',\n",
       "          'grid.linewidth': 0.8,\n",
       "          'hatch.color': 'black',\n",
       "          'hatch.linewidth': 1.0,\n",
       "          'hist.bins': 10,\n",
       "          'image.aspect': 'equal',\n",
       "          'image.cmap': 'rocket',\n",
       "          'image.composite_image': True,\n",
       "          'image.interpolation': 'nearest',\n",
       "          'image.lut': 256,\n",
       "          'image.origin': 'upper',\n",
       "          'image.resample': True,\n",
       "          'interactive': True,\n",
       "          'keymap.all_axes': ['a'],\n",
       "          'keymap.back': ['left', 'c', 'backspace', 'MouseButton.BACK'],\n",
       "          'keymap.copy': ['ctrl+c', 'cmd+c'],\n",
       "          'keymap.forward': ['right', 'v', 'MouseButton.FORWARD'],\n",
       "          'keymap.fullscreen': ['f', 'ctrl+f'],\n",
       "          'keymap.grid': ['g'],\n",
       "          'keymap.grid_minor': ['G'],\n",
       "          'keymap.help': ['f1'],\n",
       "          'keymap.home': ['h', 'r', 'home'],\n",
       "          'keymap.pan': ['p'],\n",
       "          'keymap.quit': ['ctrl+w', 'cmd+w', 'q'],\n",
       "          'keymap.quit_all': ['W', 'cmd+W', 'Q'],\n",
       "          'keymap.save': ['s', 'ctrl+s'],\n",
       "          'keymap.xscale': ['k', 'L'],\n",
       "          'keymap.yscale': ['l'],\n",
       "          'keymap.zoom': ['o'],\n",
       "          'legend.borderaxespad': 0.5,\n",
       "          'legend.borderpad': 0.4,\n",
       "          'legend.columnspacing': 2.0,\n",
       "          'legend.edgecolor': '0.8',\n",
       "          'legend.facecolor': 'inherit',\n",
       "          'legend.fancybox': True,\n",
       "          'legend.fontsize': 8.8,\n",
       "          'legend.framealpha': 0.8,\n",
       "          'legend.frameon': True,\n",
       "          'legend.handleheight': 0.7,\n",
       "          'legend.handlelength': 2.0,\n",
       "          'legend.handletextpad': 0.8,\n",
       "          'legend.labelspacing': 0.5,\n",
       "          'legend.loc': 'best',\n",
       "          'legend.markerscale': 1.0,\n",
       "          'legend.numpoints': 1,\n",
       "          'legend.scatterpoints': 1,\n",
       "          'legend.shadow': False,\n",
       "          'legend.title_fontsize': None,\n",
       "          'lines.antialiased': True,\n",
       "          'lines.color': 'C0',\n",
       "          'lines.dash_capstyle': 'butt',\n",
       "          'lines.dash_joinstyle': 'round',\n",
       "          'lines.dashdot_pattern': [6.4, 1.6, 1.0, 1.6],\n",
       "          'lines.dashed_pattern': [3.7, 1.6],\n",
       "          'lines.dotted_pattern': [1.0, 1.65],\n",
       "          'lines.linestyle': '-',\n",
       "          'lines.linewidth': 1.2000000000000002,\n",
       "          'lines.marker': 'None',\n",
       "          'lines.markeredgecolor': 'auto',\n",
       "          'lines.markeredgewidth': 1.0,\n",
       "          'lines.markerfacecolor': 'auto',\n",
       "          'lines.markersize': 4.800000000000001,\n",
       "          'lines.scale_dashes': True,\n",
       "          'lines.solid_capstyle': 'round',\n",
       "          'lines.solid_joinstyle': 'round',\n",
       "          'markers.fillstyle': 'full',\n",
       "          'mathtext.bf': 'sans:bold',\n",
       "          'mathtext.cal': 'cursive',\n",
       "          'mathtext.default': 'it',\n",
       "          'mathtext.fallback_to_cm': True,\n",
       "          'mathtext.fontset': 'dejavusans',\n",
       "          'mathtext.it': 'sans:italic',\n",
       "          'mathtext.rm': 'sans',\n",
       "          'mathtext.sf': 'sans',\n",
       "          'mathtext.tt': 'monospace',\n",
       "          'patch.antialiased': True,\n",
       "          'patch.edgecolor': 'w',\n",
       "          'patch.facecolor': 'C0',\n",
       "          'patch.force_edgecolor': True,\n",
       "          'patch.linewidth': 0.8,\n",
       "          'path.effects': [],\n",
       "          'path.simplify': True,\n",
       "          'path.simplify_threshold': 0.1111111111111111,\n",
       "          'path.sketch': None,\n",
       "          'path.snap': True,\n",
       "          'pdf.compression': 6,\n",
       "          'pdf.fonttype': 42,\n",
       "          'pdf.inheritcolor': False,\n",
       "          'pdf.use14corefonts': False,\n",
       "          'pgf.preamble': '',\n",
       "          'pgf.rcfonts': True,\n",
       "          'pgf.texsystem': 'xelatex',\n",
       "          'polaraxes.grid': True,\n",
       "          'ps.distiller.res': 6000,\n",
       "          'ps.fonttype': 42,\n",
       "          'ps.papersize': 'letter',\n",
       "          'ps.useafm': False,\n",
       "          'ps.usedistiller': False,\n",
       "          'savefig.bbox': None,\n",
       "          'savefig.directory': '~',\n",
       "          'savefig.dpi': 'figure',\n",
       "          'savefig.edgecolor': 'white',\n",
       "          'savefig.facecolor': 'white',\n",
       "          'savefig.format': 'png',\n",
       "          'savefig.frameon': True,\n",
       "          'savefig.jpeg_quality': 95,\n",
       "          'savefig.orientation': 'portrait',\n",
       "          'savefig.pad_inches': 0.1,\n",
       "          'savefig.transparent': False,\n",
       "          'scatter.edgecolors': 'face',\n",
       "          'scatter.marker': 'o',\n",
       "          'svg.fonttype': 'path',\n",
       "          'svg.hashsalt': None,\n",
       "          'svg.image_inline': True,\n",
       "          'text.antialiased': True,\n",
       "          'text.color': '.15',\n",
       "          'text.hinting': 'auto',\n",
       "          'text.hinting_factor': 8,\n",
       "          'text.latex.preamble': '',\n",
       "          'text.latex.preview': False,\n",
       "          'text.latex.unicode': True,\n",
       "          'text.usetex': False,\n",
       "          'timezone': 'UTC',\n",
       "          'tk.window_focus': False,\n",
       "          'toolbar': 'toolbar2',\n",
       "          'verbose.fileo': 'sys.stdout',\n",
       "          'verbose.level': 'silent',\n",
       "          'webagg.address': '127.0.0.1',\n",
       "          'webagg.open_in_browser': True,\n",
       "          'webagg.port': 8988,\n",
       "          'webagg.port_retries': 50,\n",
       "          'xtick.alignment': 'center',\n",
       "          'xtick.bottom': True,\n",
       "          'xtick.color': '.15',\n",
       "          'xtick.direction': 'out',\n",
       "          'xtick.labelbottom': True,\n",
       "          'xtick.labelsize': 7.0,\n",
       "          'xtick.labeltop': False,\n",
       "          'xtick.major.bottom': True,\n",
       "          'xtick.major.pad': 0.0,\n",
       "          'xtick.major.size': 0.5,\n",
       "          'xtick.major.top': True,\n",
       "          'xtick.major.width': 0.5,\n",
       "          'xtick.minor.bottom': True,\n",
       "          'xtick.minor.pad': 0.0,\n",
       "          'xtick.minor.size': 0.5,\n",
       "          'xtick.minor.top': True,\n",
       "          'xtick.minor.visible': False,\n",
       "          'xtick.minor.width': 0.5,\n",
       "          'xtick.top': False,\n",
       "          'ytick.alignment': 'center_baseline',\n",
       "          'ytick.color': '.15',\n",
       "          'ytick.direction': 'out',\n",
       "          'ytick.labelleft': True,\n",
       "          'ytick.labelright': False,\n",
       "          'ytick.labelsize': 7.0,\n",
       "          'ytick.left': True,\n",
       "          'ytick.major.left': True,\n",
       "          'ytick.major.pad': 0.0,\n",
       "          'ytick.major.right': True,\n",
       "          'ytick.major.size': 0.5,\n",
       "          'ytick.major.width': 0.5,\n",
       "          'ytick.minor.left': True,\n",
       "          'ytick.minor.pad': 0.0,\n",
       "          'ytick.minor.right': True,\n",
       "          'ytick.minor.size': 0.5,\n",
       "          'ytick.minor.visible': False,\n",
       "          'ytick.minor.width': 0.5,\n",
       "          'ytick.right': False})"
      ]
     },
     "execution_count": 5,
     "metadata": {},
     "output_type": "execute_result"
    }
   ],
   "source": [
    "matplotlib.rcParams"
   ]
  },
  {
   "cell_type": "markdown",
   "metadata": {},
   "source": [
    "# Figure 1 Example cell physiology"
   ]
  },
  {
   "cell_type": "markdown",
   "metadata": {
    "heading_collapsed": true
   },
   "source": [
    "## define metadata"
   ]
  },
  {
   "cell_type": "code",
   "execution_count": 6,
   "metadata": {
    "code_folding": [
     0
    ],
    "hidden": true
   },
   "outputs": [],
   "source": [
    "#@title cell metadata\n",
    "cell_type = {\n",
    "    '20170912_003': 's',\n",
    "    '20170912_005': 's',\n",
    "    '20170912_005_bout2': 's',\n",
    "    '20171010_002': 'd',\n",
    "    '20171010_005': 'd',\n",
    "    '20171010_006': 's',\n",
    "    '20171027_000': 'o',\n",
    "    '20171031_004': 's',\n",
    "    '20171031_004_hyperpolarized': 's',\n",
    "    '20180103_001': 's',\n",
    "    '20180103_001_bout2': 's',\n",
    "    '20180103_003': 's',\n",
    "    '20180108_004': 's',\n",
    "    '20180108_004_hyperpolarized': 's',\n",
    "    '20180122_001': 's',\n",
    "    '20180122_001_hyperpolarized': 's',\n",
    "    '20180122_002': 'd',\n",
    "    '20180130_000': 's',\n",
    "    '20181213_002': 'd',\n",
    "    '20190102_000': 's',\n",
    "    '20190104_000': 'd',\n",
    "    '20190107_000': 's',\n",
    "    '20190107_003': 'd',\n",
    "    '20190110_000': 'd',\n",
    "    '20190128_001': 'd',\n",
    "    '20190227_001': 'd',\n",
    "    '20190312_005': 'd',\n",
    "    '20190325_002': 's',\n",
    "    '20191218_005': 'd',\n",
    "    '20191218_007': 's',\n",
    "    '20191218_009': 'd',\n",
    "    '20200109_004': 's',\n",
    "    '20200113_003': 'd',\n",
    "    '20200113_004': 'd',\n",
    "    '20200115_002': 'd',\n",
    "    '20200115_004': 'd',\n",
    "    '20200121_006': 'o',\n",
    "    '20200122_001': 'd',\n",
    "    '20200122_002': 's',\n",
    "    '20200225_000': 'd',\n",
    "    '20200226_002': 'd',\n",
    "    '20200227_000': 'd',\n",
    "    '20200309_000': 's',\n",
    "    '20200312_000': 'd',\n",
    "    '20200312_002': 'd',\n",
    "    '20200309_001': 'm',\n",
    "    '20200303_000': 'm',\n",
    "    '20180105_000': 'm',\n",
    "    '20180112_003': 'm',\n",
    "    '20180108_001': 'm',\n",
    "    '20170206_003': 's',\n",
    "    '20171107_002': 'd',\n",
    "    '20171011_001': 'd',\n",
    "    '20171010_000': 'm',\n",
    "    '20171010_003': 'm',\n",
    "    '20170502_002': 's',\n",
    "    '20200524_002': 's',\n",
    "    '20200525_001': 'd',\n",
    "    '20200525_006': 'd',\n",
    "    '20200606_001': 's',\n",
    "    '20200606_005': 'd',\n",
    "    '20200607_000': 's',\n",
    "    '20200607_002': 'd',\n",
    "    '20200607_004': 'd',\n",
    "    '20200607_005': 'd'    \n",
    "    }\n",
    "\n",
    "Vm_offset = {\n",
    "    '20170912_003': -4,\n",
    "    '20170912_005': -7,\n",
    "    '20171010_002': -9,\n",
    "    '20171010_005': -3,\n",
    "    '20171010_006': -4,\n",
    "    '20171027_000': -6,\n",
    "    '20171031_004': -6,\n",
    "    '20180103_001': -4,\n",
    "    '20180103_003': -5,\n",
    "    '20180108_004': -4,\n",
    "    '20180122_001': -4,\n",
    "    '20180122_002': -4,\n",
    "    '20180130_000': -7,\n",
    "    '20181213_002': 1,\n",
    "    '20190102_000': 0,\n",
    "    '20190104_000': 5,\n",
    "    '20190107_000': 3,\n",
    "    '20190107_003': 1,\n",
    "    '20190110_000': 5,\n",
    "    '20190128_001': -4,\n",
    "    '20190227_001': -2,\n",
    "    '20190312_005': 3,\n",
    "    '20190325_002': 2,\n",
    "    '20191218_005': 0,\n",
    "    '20191218_007': -1,\n",
    "    '20191218_009': 2,\n",
    "    '20200109_004': 0,\n",
    "    '20200113_003': -3,\n",
    "    '20200113_004': 2,\n",
    "    '20200115_002': -4,\n",
    "    '20200115_004': -1,\n",
    "    '20200121_006': 4,\n",
    "    '20200122_001': -3,\n",
    "    '20200122_002': 0,\n",
    "    '20200225_000': -1,\n",
    "    '20200226_002': -3,\n",
    "    '20200227_000': -1,\n",
    "    '20200309_000': 1,\n",
    "    '20200312_000': 0,\n",
    "    '20200312_002': 0,\n",
    "    '20200309_001': 2,\n",
    "    '20200303_000': 4,\n",
    "    '20180105_000': -4,\n",
    "    '20180112_003': -5,\n",
    "    '20180108_001': -7,\n",
    "    '20170206_003': -3,\n",
    "    '20171107_002': -5,\n",
    "    '20171011_001': -5,\n",
    "    '20171010_000': -4,\n",
    "    '20171010_003': -8,\n",
    "    '20170502_002': -4,\n",
    "    '20200524_002': -1,\n",
    "    '20200525_001': -1.5,\n",
    "    '20200525_006': 3,\n",
    "    '20200606_001': -2,\n",
    "    '20200606_005': -2,\n",
    "    '20200607_000': -1,\n",
    "    '20200607_002': 0,\n",
    "    '20200607_004': 3,\n",
    "    '20200607_005': 0 \n",
    "            }"
   ]
  },
  {
   "cell_type": "markdown",
   "metadata": {},
   "source": [
    "## example cell responses"
   ]
  },
  {
   "cell_type": "markdown",
   "metadata": {
    "heading_collapsed": true
   },
   "source": [
    "### example DGC 20200607_005"
   ]
  },
  {
   "cell_type": "code",
   "execution_count": 25,
   "metadata": {
    "hidden": true
   },
   "outputs": [
    {
     "data": {
      "image/png": "[encoded data removed]",
      "text/plain": [
       "<Figure size 108x108 with 1 Axes>"
      ]
     },
     "metadata": {},
     "output_type": "display_data"
    },
    {
     "data": {
      "image/png": "[encoded data removed]",
      "text/plain": [
       "<Figure size 108x108 with 1 Axes>"
      ]
     },
     "metadata": {},
     "output_type": "display_data"
    }
   ],
   "source": [
    "exptname = '20200607_005'\n",
    "# expt = AmpShift_Stable()\n",
    "# expt.load_expt(exptname, data_folder)\n",
    "\n",
    "expt.set_amps(11,[-40,-30,-20,-10,-5,0,5,10,20,30,40])\n",
    "expt.set_channels('CmdTrig','lowgain','spikes','SIU','DigMark')\n",
    "\n",
    "bout_uc = [expt.get_bout_win('R','Keyboard')[0],\n",
    "           expt.get_bout_win('R','Keyboard')[1]]\n",
    "\n",
    "sweepdur = 0.03\n",
    "marker_df = expt.get_marker_table() #access with : getattr(expt,'marker_df')\n",
    "CmdTrig = expt.get_events('CmdTrig')\n",
    "\n",
    "bout_df = expt.filter_marker_df_time(marker_df,bout_uc)\n",
    "trial_df = expt.filter_marker_df_code(bout_df,['T'])\n",
    "\n",
    "eventDur = 0.001\n",
    "xtime,event_sweeps = expt.get_sweepsmat('SIU',trial_df['time'].values,eventDur)\n",
    "event_Amp = np.asarray([np.max(sweep) for sweep in event_sweeps.T])\n",
    "\n",
    "base_df = expt.filter_marker_df_code(bout_df,['U'])\n",
    "xtime,event_sweeps = expt.get_sweepsmat('SIU',base_df['time'].values,eventDur)\n",
    "event_0_Amp = np.median(np.asarray([np.max(sweep) for sweep in event_sweeps.T]))\n",
    "\n",
    "ampshift = np.asarray([np.round(((A/event_0_Amp)*100)-100) for A in event_Amp]).reshape(-1, 1)\n",
    "\n",
    "trial_df.insert(np.shape(trial_df)[1],'ampshift',ampshift)\n",
    "\n",
    "hfig,ax = create_fig()\n",
    "colinds = plt.cm.plasma(np.linspace(0.2,0.85,11))\n",
    "theseT = trial_df[trial_df['ampshift']==-40].time.values - 0.005\n",
    "xtime, R = expt.get_sweepsmat('lowgain',theseT,sweepdur = 0.05)\n",
    "R = R + Vm_offset[exptname]\n",
    "ax.plot(xtime,R[:,-3:],color = 'black',lw = 0.5,label='low stimulus amp')\n",
    "theseT = trial_df[trial_df['ampshift']==0].time.values - 0.005\n",
    "xtime, R = expt.get_sweepsmat('lowgain',theseT,sweepdur = 0.05)\n",
    "R = R + Vm_offset[exptname]\n",
    "ax.plot(xtime,R[:,-3:],color = colinds[5],lw = 0.5,label='baseline stimulus amp')\n",
    "ax.set_xlim(0,50)\n",
    "ax.set_ylim(-65,-25)\n",
    "# ax.set_xlabel('msec')\n",
    "# ax.set_ylabel('mV')\n",
    "ax.set_xticks([0,10])\n",
    "ax.set_yticks([np.round(np.median(R[0,:]),1),-50,-40])\n",
    "ax.vlines(4.5,-65,-60)\n",
    "\n",
    "figsave(figure_folder,'Fig1_dGRC_es')\n",
    "\n",
    "# cmd response for this cell\n",
    "bout_df = expt.filter_marker_df_time(marker_df,bout_uc)\n",
    "trial_df = expt.filter_marker_df_code(bout_df,['B'])\n",
    "\n",
    "hfig,ax = create_fig()\n",
    "theseT = trial_df.time.values - 0.0005\n",
    "xtime, R = expt.get_sweepsmat('lowgain',theseT,sweepdur = 0.05)\n",
    "R = R + Vm_offset[exptname]\n",
    "ax.plot(xtime,R[:,-3:],color = [0.302, 0.675, 0.149],lw = 0.5)\n",
    "ax.set_xlim(0,50)\n",
    "ax.set_ylim(-67,-45)\n",
    "# ax.set_xlabel('msec')\n",
    "# ax.set_ylabel('mV')\n",
    "ax.set_xticks([0,10])\n",
    "ax.set_yticks([np.round(np.median(R[0,:]),1),-55,-45])\n",
    "ax.vlines(0.5,-65,-60)\n",
    "\n",
    "figsave(figure_folder,'Fig1_dGRC_cmd_inhib')"
   ]
  },
  {
   "cell_type": "markdown",
   "metadata": {
    "heading_collapsed": true
   },
   "source": [
    "### example DGC cell 20200606_005"
   ]
  },
  {
   "cell_type": "code",
   "execution_count": null,
   "metadata": {
    "hidden": true
   },
   "outputs": [],
   "source": [
    "# example cell\n",
    "exptname = '20200606_005' \n",
    "stimamp = -20\n",
    "\n",
    "# expt = AmpShift_Stable()\n",
    "# expt.load_expt(exptname, data_folder)\n",
    "\n",
    "expt.set_amps(11,[-40,-30,-20,-10,-5,0,5,10,20,30,40])\n",
    "expt.set_channels('CmdTrig','lowgain','spikes','SIU','DigMark')\n",
    "\n",
    "marker_df = expt.get_marker_table() #access with : getattr(expt,'marker_df')\n",
    "\n",
    "# get stimulus amplitude for each trial\n",
    "eventDur = 0.001\n",
    "sweepdur = 0.05\n",
    "\n",
    "bout = [expt.get_bout_win(\"R\",\"Keyboard\")[1]]\n",
    "bout_df = expt.filter_marker_df_time(marker_df,bout)\n",
    "trial_df = expt.filter_marker_df_code(bout_df,['T'])\n",
    "\n",
    "xtime,event_sweeps = expt.get_sweepsmat('SIU',trial_df['time'].values,eventDur)\n",
    "event_Amp = np.asarray([np.max(sweep) for sweep in event_sweeps.T])\n",
    "\n",
    "base_df = expt.filter_marker_df_code(bout_df,['U'])\n",
    "xtime,event_sweeps = expt.get_sweepsmat('SIU',base_df['time'].values,eventDur)\n",
    "event_0_Amp = np.median(np.asarray([np.max(sweep) for sweep in event_sweeps.T]))\n",
    "\n",
    "ampshift = np.asarray([np.round(((A/event_0_Amp)*100)-100) for A in event_Amp]).reshape(-1, 1)\n",
    "trial_df.insert(np.shape(trial_df)[1],'ampshift',ampshift)\n",
    "\n",
    "trialT = trial_df[trial_df['ampshift']==stimamp].time.values - 0.005\n",
    "xtime,sweeps = expt.get_sweepsmat('lowgain',trialT,sweepdur)\n",
    "\n",
    "hfig,ax = create_fig()\n",
    "\n",
    "plt.plot(xtime,sweeps[:,0:4]-sweeps[0,0:4],color = 'lightgray',lw = 0.5)\n",
    "plt.plot(xtime,sweeps[:,5:7]-sweeps[0,5:7],color = 'gray',lw = 0.5)\n",
    "plt.plot(xtime,sweeps[:,4]-sweeps[0,4],color = 'black',lw = 0.5)\n",
    "# ax.set_xlabel('msec')\n",
    "# ax.set_ylabel('mV')\n",
    "ax.set_ylim(-5,35)\n",
    "ax.set_xticks([0,10])\n",
    "ax.set_yticks([10,20])\n",
    "ax.vlines(4.5,-65,-60)\n",
    "\n",
    "figsave(figure_folder,'Fig1_dGRC_es_inhib')"
   ]
  },
  {
   "cell_type": "markdown",
   "metadata": {
    "heading_collapsed": true
   },
   "source": [
    "### example SGC cell 20170502_002; ES no spikes"
   ]
  },
  {
   "cell_type": "code",
   "execution_count": 18,
   "metadata": {
    "hidden": true
   },
   "outputs": [
    {
     "data": {
      "image/png": "[encoded data removed]",
      "text/plain": [
       "<Figure size 108x108 with 1 Axes>"
      ]
     },
     "metadata": {},
     "output_type": "display_data"
    }
   ],
   "source": [
    "exptname = '20170502_002'\n",
    "\n",
    "# expt = AmpShift_Stable()\n",
    "# expt.load_expt(exptname, data_folder)\n",
    "expt.set_channels('CmdTrig','lowgain','spikes','SIU','DigMark')\n",
    "\n",
    "marker_df = expt.get_marker_table()\n",
    "dt = expt.get_dt('lowgain')\n",
    "\n",
    "bout = [expt.get_bout_win('U','Keyboard')[0]]\n",
    "bout_df = expt.filter_marker_df_time(marker_df,bout)\n",
    "u_df = expt.filter_marker_df_code(bout_df,['E'])\n",
    "u_t = u_df.time.values - 0.0003 - 0.005\n",
    "\n",
    "hfig,ax = create_fig()\n",
    "xtime, R = expt.get_sweepsmat('lowgain',u_t,sweepdur = 0.05)\n",
    "R = R + Vm_offset[exptname]\n",
    "colinds = plt.cm.plasma(np.linspace(0.2,0.85,11))\n",
    "ax.plot(xtime,R[:,-4:-2],color = colinds[5],lw = 0.5);\n",
    "ax.plot(xtime,R[:,-1],color = colinds[5],lw = 0.5);\n",
    "ax.set_xlim(0,50)\n",
    "ax.set_ylim(-65,-45)\n",
    "# ax.set_xlabel('msec')\n",
    "# ax.set_ylabel('mV')\n",
    "ax.set_xticks([0,10])\n",
    "ax.set_yticks([np.median(R[0,:]),-60,-50])\n",
    "ax.vlines(4.5,-65,-60)\n",
    "\n",
    "figsave(figure_folder,'Fig1_sGRC_es_50ms')"
   ]
  },
  {
   "cell_type": "markdown",
   "metadata": {
    "heading_collapsed": true
   },
   "source": [
    "### example SGC cell 20200524_002; ES spikes"
   ]
  },
  {
   "cell_type": "code",
   "execution_count": 129,
   "metadata": {
    "hidden": true
   },
   "outputs": [
    {
     "name": "stdout",
     "output_type": "stream",
     "text": [
      "/Users/kperks/mnt/engram/spikedata/data_raw/20200524/20200524_002.smr\n"
     ]
    },
    {
     "data": {
      "image/png": "[encoded data removed]",
      "text/plain": [
       "<Figure size 108x108 with 1 Axes>"
      ]
     },
     "metadata": {},
     "output_type": "display_data"
    }
   ],
   "source": [
    "exptname = '20200524_002'\n",
    "\n",
    "expt = AmpShift_Stable()\n",
    "expt.load_expt(exptname, data_folder)\n",
    "expt.set_channels('CmdTrig','lowgain','spikes','SIU','DigMark')\n",
    "\n",
    "marker_df = expt.get_marker_table()\n",
    "dt = expt.get_dt('lowgain')\n",
    "\n",
    "bout = [expt.get_bout_win('R','Keyboard')[0],\n",
    "           expt.get_bout_win('N','Keyboard')[0]]\n",
    "bout_df = expt.filter_marker_df_time(marker_df,bout)\n",
    "base_df = expt.filter_marker_df_code(bout_df,['U'])\n",
    "\n",
    "hfig,ax = create_fig()\n",
    "xtime, R = expt.get_sweepsmat('lowgain',base_df.time.values,sweepdur = 0.05)\n",
    "R = R + Vm_offset[exptname]\n",
    "ax.plot(xtime,R[:,-3:],color = 'green',lw = 0.5);\n",
    "ax.set_xlim(0,50)\n",
    "ax.set_ylim(-65,-25)\n",
    "ax.set_xlabel('msec',labelpad = 0)\n",
    "ax.set_ylabel('mV',labelpad = 0)\n",
    "\n",
    "figsave(figure_folder,'Fig1_sGRC_es_spikes')"
   ]
  },
  {
   "cell_type": "markdown",
   "metadata": {
    "heading_collapsed": true
   },
   "source": [
    "### example SGC cell 20180108_004; CD"
   ]
  },
  {
   "cell_type": "code",
   "execution_count": 26,
   "metadata": {
    "hidden": true
   },
   "outputs": [
    {
     "name": "stdout",
     "output_type": "stream",
     "text": [
      "/Users/kperks/mnt/engram/spikedata/data_raw/20180108/20180108_004.smr\n"
     ]
    },
    {
     "data": {
      "image/png": "[encoded data removed]",
      "text/plain": [
       "<Figure size 108x108 with 1 Axes>"
      ]
     },
     "metadata": {},
     "output_type": "display_data"
    }
   ],
   "source": [
    "exptname = '20180108_004'\n",
    "\n",
    "# expt = AmpShift_Stable()\n",
    "# expt.load_expt(exptname, data_folder)\n",
    "expt.set_channels('CmdTrig','lowgain','spikes','SIU','DigMark')\n",
    "\n",
    "marker_df = expt.get_marker_table()\n",
    "dt = expt.get_dt('lowgain')\n",
    "\n",
    "bout = [expt.get_bout_win('U','Keyboard')[0],expt.get_bout_win('B','Keyboard')[0]]\n",
    "bout_df = expt.filter_marker_df_time(marker_df,bout)\n",
    "b_df = expt.filter_marker_df_code(bout_df,['B'])\n",
    "theseT = b_df.time.values - 0.0005\n",
    "\n",
    "hfig,ax = create_fig()\n",
    "xtime, R = expt.get_sweepsmat('lowgain',theseT,sweepdur = 0.05)\n",
    "R = R + Vm_offset[exptname]\n",
    "ax.plot(xtime,R[:,-3:],color = [0.302, 0.675, 0.149],lw = 0.5)\n",
    "ax.set_xlim(0,50)\n",
    "ax.set_ylim(-67,-45)\n",
    "# ax.set_xlabel('msec')\n",
    "# ax.set_ylabel('mV')\n",
    "ax.set_xticks([0,10])\n",
    "ax.set_yticks([np.round(np.median(R[0,:]),1),-55,-45])\n",
    "ax.vlines(0.5,-65,-60)\n",
    "\n",
    "figsave(figure_folder,'Fig1_sGRC_cmd')"
   ]
  },
  {
   "cell_type": "markdown",
   "metadata": {
    "heading_collapsed": true
   },
   "source": [
    "### example SGC cell 20200524_002; CD bias Vm"
   ]
  },
  {
   "cell_type": "code",
   "execution_count": 72,
   "metadata": {
    "hidden": true
   },
   "outputs": [
    {
     "name": "stdout",
     "output_type": "stream",
     "text": [
      "-44.73877\n",
      "-89.06555\n"
     ]
    },
    {
     "data": {
      "image/png": "[encoded data removed]",
      "text/plain": [
       "<Figure size 108x108 with 1 Axes>"
      ]
     },
     "metadata": {},
     "output_type": "display_data"
    }
   ],
   "source": [
    "exptname = '20200524_002'\n",
    "# expt = AmpShift_Stable()\n",
    "# expt.load_expt(exptname, data_folder)\n",
    "\n",
    "expt.set_amps(11,[-40,-30,-20,-10,-5,0,5,10,20,30,40])\n",
    "expt.set_channels('CmdTrig','lowgain','spikes','SIU','DigMark')\n",
    "\n",
    "sweepdur = 0.1\n",
    "marker_df = expt.get_marker_table() \n",
    "\n",
    "hfig,ax = create_fig()\n",
    "# ax.set_ylabel('mV')\n",
    "# ax.set_xlabel('msec')\n",
    "\n",
    "##cmd\n",
    "bout = [expt.get_bout_win('B','Keyboard')[1]]\n",
    "bout_df = expt.filter_marker_df_time(marker_df,bout)\n",
    "trial_df = expt.filter_marker_df_code(bout_df,['B'])\n",
    "xtime, sweeps = expt.get_sweepsmat('lowgain',trial_df.time.values - 0.0005,sweepdur)\n",
    "ax.plot(xtime,np.median(sweeps,1)-np.median(sweeps,1)[0],color = 'black',lw = 0.5);\n",
    "print(np.median(sweeps,1)[0])\n",
    "\n",
    "bout = [expt.get_bout_win('B','Keyboard')[2]]\n",
    "bout_df = expt.filter_marker_df_time(marker_df,bout)\n",
    "trial_df = expt.filter_marker_df_code(bout_df,['B'])\n",
    "xtime, sweeps = expt.get_sweepsmat('lowgain',trial_df.time.values - 0.0005,sweepdur)\n",
    "ax.plot(xtime,np.median(sweeps,1)-np.median(sweeps,1)[0],color = 'gray',lw = 0.5);\n",
    "print(np.median(sweeps,1)[0])\n",
    "\n",
    "ax.set_xlim(0,100)\n",
    "ax.set_ylim(-12,-10)\n",
    "# ax.set_xlabel('msec')\n",
    "# ax.set_ylabel('mV')\n",
    "ax.set_xticks([0,10])\n",
    "ax.set_yticks([5,10])\n",
    "ax.vlines(0.5,-5,-1)\n",
    "# plt.legend(bbox_to_anchor=[1,1])\n",
    "\n",
    "\n",
    "\n",
    "figsave(figure_folder,'Fig1_sGRC_cmd_hyperpol')"
   ]
  },
  {
   "cell_type": "markdown",
   "metadata": {
    "heading_collapsed": true
   },
   "source": [
    "### example DGC cell 20191218_009; CD"
   ]
  },
  {
   "cell_type": "code",
   "execution_count": 150,
   "metadata": {
    "hidden": true
   },
   "outputs": [
    {
     "data": {
      "image/png": "[encoded data removed]",
      "text/plain": [
       "<Figure size 108x108 with 1 Axes>"
      ]
     },
     "metadata": {},
     "output_type": "display_data"
    }
   ],
   "source": [
    "exptname = '20191218_009'\n",
    "\n",
    "# expt = AmpShift_Stable()\n",
    "# expt.load_expt(exptname, data_folder)\n",
    "expt.set_channels('CmdTrig','lowgain','spikes','SIU','DigMark')\n",
    "\n",
    "marker_df = expt.get_marker_table()\n",
    "dt = expt.get_dt('lowgain')\n",
    "\n",
    "bout = [expt.get_bout_win('U','Keyboard')[0],expt.get_bout_win('B','Keyboard')[0]]\n",
    "bout_df = expt.filter_marker_df_time(marker_df,bout)\n",
    "b_df = expt.filter_marker_df_code(bout_df,['B'])\n",
    "theseT = b_df.time.values - 0.0005\n",
    "\n",
    "hfig,ax = create_fig()\n",
    "xtime, R = expt.get_sweepsmat('lowgain',theseT,sweepdur = 0.05)\n",
    "R = R + Vm_offset[exptname]\n",
    "ax.plot(xtime,R[:,-3:],color = [0.302, 0.675, 0.149],lw = 0.5)\n",
    "ax.set_xlim(0,50)\n",
    "ax.set_ylim(-67,-45)\n",
    "# ax.set_xlabel('msec')\n",
    "# ax.set_ylabel('mV')\n",
    "ax.set_xticks([0,10])\n",
    "ax.set_yticks([np.round(np.median(R[0,-3:]),1),-55,-45])\n",
    "ax.vlines(0.5,-65,-60)\n",
    "\n",
    "figsave(figure_folder,'Fig1_dGRC_cmd')"
   ]
  },
  {
   "cell_type": "markdown",
   "metadata": {},
   "source": [
    "## uncoupled population average"
   ]
  },
  {
   "cell_type": "markdown",
   "metadata": {
    "heading_collapsed": true
   },
   "source": [
    "### load uncoupled response data pickle"
   ]
  },
  {
   "cell_type": "code",
   "execution_count": 6,
   "metadata": {
    "hidden": true
   },
   "outputs": [],
   "source": [
    "# created in 'GRC_properties_Meta_ipynb'\n",
    "pickle_in = open(meta_data_folder / 'cell_data_uncoupled.pickle',\"rb\")\n",
    "cell_data = pickle.load(pickle_in)\n",
    "pickle_in.close()\n",
    "\n",
    "pickle_in = open(meta_data_folder / 'time_data_uncoupled.pickle',\"rb\")\n",
    "time_data = pickle.load(pickle_in)\n",
    "pickle_in.close()"
   ]
  },
  {
   "cell_type": "markdown",
   "metadata": {
    "heading_collapsed": true
   },
   "source": [
    "### use metadata defined in sec5.1 to create dataframe"
   ]
  },
  {
   "cell_type": "code",
   "execution_count": 7,
   "metadata": {
    "hidden": true
   },
   "outputs": [],
   "source": [
    "path = Path.cwd().resolve().parents[0] / 'data_processed' / 'df_GRC_properties'\n",
    "files = [e for e in path.iterdir() if e.is_file() and e.suffix=='.csv']\n",
    "keys = [f.name[0:-4] for f in sorted(files)]\n",
    "meta_df = pd.DataFrame(columns = None)\n",
    "for f in files:\n",
    "    thisdf = pd.read_csv(f)\n",
    "    meta_df = meta_df.append(thisdf,ignore_index = True)\n",
    "\n",
    "meta_df['cell_type'] = meta_df['exptname'].map(cell_type)"
   ]
  },
  {
   "cell_type": "markdown",
   "metadata": {
    "heading_collapsed": true
   },
   "source": [
    "### enable interactive plotting and create plot"
   ]
  },
  {
   "cell_type": "code",
   "execution_count": 195,
   "metadata": {
    "hidden": true
   },
   "outputs": [],
   "source": [
    "%matplotlib qt"
   ]
  },
  {
   "cell_type": "code",
   "execution_count": 196,
   "metadata": {
    "hidden": true
   },
   "outputs": [],
   "source": [
    "hfig = plt.figure(figsize = (5,8))\n",
    "ax = hfig.add_axes([0.2,0.2,0.7,0.7])"
   ]
  },
  {
   "cell_type": "markdown",
   "metadata": {
    "heading_collapsed": true
   },
   "source": [
    "### interactive select SGC ES response onsets; save as numpy"
   ]
  },
  {
   "cell_type": "code",
   "execution_count": 199,
   "metadata": {
    "hidden": true
   },
   "outputs": [],
   "source": [
    "# which_cells = cell_meta_df[cell_meta_df['type']=='s'].index\n",
    "which_cells = meta_df[meta_df['cell_type']=='s'].exptname.values\n",
    "\n",
    "sweeps = []\n",
    "sweepdur = 0.075\n",
    "newdt = 1/10000\n",
    "newsamp = int(sweepdur/newdt)\n",
    "for cell in which_cells:\n",
    "    sweep = signal.resample(cell_data[cell],newsamp)\n",
    "    sweeps.append(sweep-sweep[0])\n",
    "sweeps.append(np.zeros(newsamp))\n",
    "sweeps = np.asarray(sweeps).T\n",
    "xtime = np.linspace(0,75,newsamp)\n",
    "\n",
    "onset = []\n",
    "for sweep in sweeps.T:\n",
    "    ax.cla()\n",
    "    \n",
    "    ax.plot(xtime,sweep,color='black')\n",
    "    ax.set_xlim(6,20)\n",
    "    \n",
    "    x = np.asarray(hfig.ginput())\n",
    "    onset.append(x[0][0])\n",
    "#     print(x[0][0])\n",
    "\n",
    "ax.cla()\n",
    "sweeps_clip = []\n",
    "offsetT = -2\n",
    "x_clip = np.linspace(offsetT,50,int(50/1000/newdt)-int(offsetT/1000/newdt))\n",
    "for o,sweep in zip(onset[1:],sweeps[:,0:-1].T):\n",
    "    onsetind = int(o/1000/newdt)\n",
    "    startind = onsetind + int((offsetT)/1000/newdt)\n",
    "    stopind = onsetind + int((50)/1000/newdt)\n",
    "    sweeps_clip.append(sweep[startind:stopind])\n",
    "    ax.plot(x_clip,sweep[startind:stopind])\n",
    "sweeps_clip = np.asarray(sweeps_clip).T\n",
    "# ax.set_xlim()\n",
    "\n",
    "np.save(meta_data_folder / 'uncoupled_response_pop_sgrc_onset.npy',onset,allow_pickle=False)\n",
    "np.save(meta_data_folder / 'uncoupled_response_pop_sgrc_sweeps.npy',sweeps,allow_pickle=False)\n",
    "np.save(meta_data_folder / 'uncoupled_response_pop_sgrc_sweeps_clip.npy',sweeps_clip,allow_pickle=False)"
   ]
  },
  {
   "cell_type": "markdown",
   "metadata": {
    "heading_collapsed": true
   },
   "source": [
    "### interactive select DGC ES response onsets; save as numpy"
   ]
  },
  {
   "cell_type": "code",
   "execution_count": 198,
   "metadata": {
    "hidden": true
   },
   "outputs": [],
   "source": [
    "# which_cells = cell_meta_df[cell_meta_df['type']=='s'].index\n",
    "which_cells = meta_df[meta_df['cell_type']=='s'].exptname.values\n",
    "\n",
    "sweeps = []\n",
    "sweepdur = 0.075\n",
    "newdt = 1/10000\n",
    "newsamp = int(sweepdur/newdt)\n",
    "for cell in which_cells:\n",
    "    sweep = signal.resample(cell_data[cell],newsamp)\n",
    "    sweeps.append(sweep-sweep[0])\n",
    "sweeps.append(np.zeros(newsamp))\n",
    "sweeps = np.asarray(sweeps).T\n",
    "xtime = np.linspace(0,75,newsamp)\n",
    "\n",
    "onset = []\n",
    "for sweep in sweeps.T:\n",
    "    ax.cla()\n",
    "    \n",
    "    ax.plot(xtime,sweep,color='black')\n",
    "    ax.set_xlim(6,20)\n",
    "    \n",
    "    x = np.asarray(hfig.ginput())\n",
    "    onset.append(x[0][0])\n",
    "#     print(x[0][0])\n",
    "\n",
    "ax.cla()\n",
    "sweeps_clip = []\n",
    "offsetT = -2\n",
    "x_clip = np.linspace(offsetT,50,int(50/1000/newdt)-int(offsetT/1000/newdt))\n",
    "for o,sweep in zip(onset[1:],sweeps[:,0:-1].T):\n",
    "    onsetind = int(o/1000/newdt)\n",
    "    startind = onsetind + int((offsetT)/1000/newdt)\n",
    "    stopind = onsetind + int((50)/1000/newdt)\n",
    "    sweeps_clip.append(sweep[startind:stopind])\n",
    "    ax.plot(x_clip,sweep[startind:stopind])\n",
    "sweeps_clip = np.asarray(sweeps_clip).T\n",
    "# ax.set_xlim()\n",
    "\n",
    "np.save(meta_data_folder / 'uncoupled_response_pop_dgrc_onset.npy',onset,allow_pickle=False)\n",
    "np.save(meta_data_folder / 'uncoupled_response_pop_dgrc_sweeps.npy',sweeps,allow_pickle=False)\n",
    "np.save(meta_data_folder / 'uncoupled_response_pop_dgrc_sweeps_clip.npy',sweeps_clip,allow_pickle=False)"
   ]
  },
  {
   "cell_type": "markdown",
   "metadata": {
    "heading_collapsed": true
   },
   "source": [
    "### close figure and return to inline plotting"
   ]
  },
  {
   "cell_type": "code",
   "execution_count": null,
   "metadata": {
    "hidden": true
   },
   "outputs": [],
   "source": [
    "plt.close(hfig)\n",
    "\n",
    "%matplotlib inline"
   ]
  },
  {
   "cell_type": "markdown",
   "metadata": {
    "heading_collapsed": true
   },
   "source": [
    "### load GC npy arrays and plot mean/sem"
   ]
  },
  {
   "cell_type": "code",
   "execution_count": 108,
   "metadata": {
    "hidden": true
   },
   "outputs": [
    {
     "data": {
      "image/png": "[encoded data removed]",
      "text/plain": [
       "<Figure size 108x108 with 1 Axes>"
      ]
     },
     "metadata": {},
     "output_type": "display_data"
    }
   ],
   "source": [
    "dgrc_sweeps_clip = np.load(meta_data_folder / 'uncoupled_response_pop_dgrc_sweeps_clip.npy')\n",
    "sgrc_sweeps_clip = np.load(meta_data_folder / 'uncoupled_response_pop_sgrc_sweeps_clip.npy')\n",
    "newdt = 1/10000\n",
    "offsetT = -2\n",
    "x_clip = np.linspace(offsetT,50,int(50/1000/newdt)-int(offsetT/1000/newdt))\n",
    "\n",
    "hfig,ax = create_fig()\n",
    "\n",
    "ax.plot(x_clip,np.mean(sgrc_sweeps_clip,1),color = 'red',lw = 1)\n",
    "ax.fill_between(x_clip,\n",
    "                np.mean(sgrc_sweeps_clip,1)-stats.sem(sgrc_sweeps_clip,1),\n",
    "                np.mean(sgrc_sweeps_clip,1)+stats.sem(sgrc_sweeps_clip,1),\n",
    "               color='red',alpha=0.3)\n",
    "\n",
    "ax.plot(x_clip,np.mean(dgrc_sweeps_clip,1),color = 'brown',lw = 1)\n",
    "ax.fill_between(x_clip,\n",
    "                np.mean(dgrc_sweeps_clip,1)-stats.sem(dgrc_sweeps_clip,1),\n",
    "                np.mean(dgrc_sweeps_clip,1)+stats.sem(dgrc_sweeps_clip,1),\n",
    "               color='brown',alpha=0.3)\n",
    "\n",
    "ax.vlines(0,1,4,color = 'black')\n",
    "ax.set_xticks([0,10])\n",
    "ax.set_yticks([5,10])\n",
    "figsave(figure_folder,'Fig1_GRC_ES_popmean')"
   ]
  },
  {
   "cell_type": "markdown",
   "metadata": {
    "heading_collapsed": true
   },
   "source": [
    "### load GC npy arrays and quantify response width at half height"
   ]
  },
  {
   "cell_type": "code",
   "execution_count": 55,
   "metadata": {
    "hidden": true
   },
   "outputs": [
    {
     "name": "stdout",
     "output_type": "stream",
     "text": [
      "half-width at half height\n",
      "\n",
      "DGC\n",
      "mean = 3.6ms; sem = 0.3ms; n = 24\n",
      "\n",
      "SGC\n",
      "mean = 24.8ms; sem = 2.7ms; n = 18\n"
     ]
    }
   ],
   "source": [
    "dgrc_sweeps_clip = np.load(meta_data_folder / 'uncoupled_response_pop_dgrc_sweeps_clip.npy')\n",
    "sgrc_sweeps_clip = np.load(meta_data_folder / 'uncoupled_response_pop_sgrc_sweeps_clip.npy')\n",
    "newdt = 1/10000\n",
    "offsetT = -2\n",
    "x_clip = np.linspace(offsetT,50,int(50/1000/newdt)-int(offsetT/1000/newdt))\n",
    "\n",
    "\n",
    "DGC_hwhh = []\n",
    "for sweep in dgrc_sweeps_clip.T:\n",
    "    peakmv = sweep[np.argmax(sweep)]\n",
    "    halfon = np.min(x_clip[sweep>peakmv/2])\n",
    "    halfoff = np.max(x_clip[sweep>peakmv/2])\n",
    "    DGC_hwhh.append(halfoff-halfon)\n",
    "DGC_hwhh = array(DGC_hwhh)\n",
    "\n",
    "SGC_hwhh = []\n",
    "for sweep in sgrc_sweeps_clip.T:\n",
    "    peakmv = sweep[np.argmax(sweep)]\n",
    "    halfon = np.min(x_clip[sweep>peakmv/2])\n",
    "    halfoff = np.max(x_clip[sweep>peakmv/2])\n",
    "    SGC_hwhh.append(halfoff-halfon)\n",
    "SGC_hwhh = array(SGC_hwhh)\n",
    "\n",
    "print('half-width at half height')\n",
    "print('')\n",
    "print('DGC')\n",
    "print('mean = ' + str(np.round(np.mean(DGC_hwhh),1)) + 'ms; sem = ' \n",
    "     + str(np.round(stats.sem(DGC_hwhh),1)) + 'ms; n = ' + str(len(DGC_hwhh)))\n",
    "print('')\n",
    "print('SGC')\n",
    "print('mean = ' + str(np.round(np.mean(SGC_hwhh),1)) + 'ms; sem = ' \n",
    "     + str(np.round(stats.sem(SGC_hwhh),1)) + 'ms; n = ' + str(len(SGC_hwhh)))"
   ]
  },
  {
   "cell_type": "markdown",
   "metadata": {
    "heading_collapsed": true
   },
   "source": [
    "## load DF_Istep.csv to quantify I-step Rin for text"
   ]
  },
  {
   "cell_type": "code",
   "execution_count": 50,
   "metadata": {
    "hidden": true
   },
   "outputs": [],
   "source": [
    "meta_df = pd.read_csv('DF_Istep.csv')\n",
    "Rin = []\n",
    "for name in np.unique(meta_df['exptname']):\n",
    "    this_df = meta_df[meta_df['exptname']==name]\n",
    "    this_df = this_df[this_df['current_inj']<25]\n",
    "#     print(np.round(np.median(this_df['onset_peak']/this_df['current_inj']),1),\n",
    "#          np.round(np.median(this_df['offset_peak']/this_df['current_inj']),1))\n",
    "    Rin.append(np.round(np.median(this_df['offset_peak']/this_df['current_inj']),1))\n",
    "\n",
    "Rin_df = pd.DataFrame({\n",
    "    'exptname' : np.unique(meta_df['exptname']),\n",
    "    'Rin' : Rin\n",
    "})"
   ]
  },
  {
   "cell_type": "code",
   "execution_count": 51,
   "metadata": {
    "hidden": true
   },
   "outputs": [
    {
     "data": {
      "text/plain": [
       "count    25.000000\n",
       "mean      0.824000\n",
       "std       0.511762\n",
       "min       0.300000\n",
       "25%       0.400000\n",
       "50%       0.600000\n",
       "75%       1.300000\n",
       "max       2.100000\n",
       "Name: Rin, dtype: float64"
      ]
     },
     "execution_count": 51,
     "metadata": {},
     "output_type": "execute_result"
    }
   ],
   "source": [
    "Rin_df['Rin'].describe()"
   ]
  },
  {
   "cell_type": "code",
   "execution_count": 52,
   "metadata": {
    "hidden": true
   },
   "outputs": [
    {
     "data": {
      "text/plain": [
       "0.1023523326553919"
      ]
     },
     "execution_count": 52,
     "metadata": {},
     "output_type": "execute_result"
    }
   ],
   "source": [
    "stats.sem(Rin_df['Rin'])"
   ]
  },
  {
   "cell_type": "markdown",
   "metadata": {},
   "source": [
    "## prevent edge effects when resample by appending reversed signal\n",
    "https://medium.com/analytics-vidhya/edge-effects-when-resampling-a-signal-on-matlab-how-to-solve-it-cc6458ab1306"
   ]
  },
  {
   "cell_type": "markdown",
   "metadata": {},
   "source": [
    "## CD population average"
   ]
  },
  {
   "cell_type": "markdown",
   "metadata": {
    "heading_collapsed": true
   },
   "source": [
    "### load SGC pickle data and create/save nmpy array"
   ]
  },
  {
   "cell_type": "code",
   "execution_count": 7,
   "metadata": {
    "hidden": true
   },
   "outputs": [],
   "source": [
    "# created in 'GRC_properties_Meta_ipynb'\n",
    "pickle_in = open(meta_data_folder / 'cell_data_cmd_superficial.pickle',\"rb\")\n",
    "cell_data = pickle.load(pickle_in)\n",
    "pickle_in.close()\n",
    "\n",
    "pickle_in = open(meta_data_folder / 'time_data_cmd_superficial.pickle',\"rb\")\n",
    "time_data = pickle.load(pickle_in)\n",
    "pickle_in.close()"
   ]
  },
  {
   "cell_type": "code",
   "execution_count": 8,
   "metadata": {
    "hidden": true
   },
   "outputs": [],
   "source": [
    "sweeps = []\n",
    "sweepdur = 0.075\n",
    "newdt = 1/10000\n",
    "newsamp = int(sweepdur/newdt)\n",
    "for exptname,data in cell_data.items():\n",
    "    sweep = data-data[0]\n",
    "    sweep = np.concatenate([sweep[::-1],sweep,sweep[::-1]])\n",
    "    sweep = signal.resample(sweep,3*newsamp)\n",
    "    sweeps.append(sweep[newsamp:2*newsamp])\n",
    "# sweeps.append(np.zeros(newsamp))\n",
    "sweeps = np.asarray(sweeps).T\n",
    "xtime = np.linspace(0,75,newsamp)\n",
    "\n",
    "np.save(meta_data_folder / 'cmd_response_pop_sgrc_sweeps.npy',sweeps,allow_pickle=False)"
   ]
  },
  {
   "cell_type": "markdown",
   "metadata": {
    "heading_collapsed": true
   },
   "source": [
    "### load DGC pickle data and create/save nmpy array"
   ]
  },
  {
   "cell_type": "code",
   "execution_count": 9,
   "metadata": {
    "hidden": true
   },
   "outputs": [],
   "source": [
    "# created in 'GRC_properties_Meta_ipynb'\n",
    "pickle_in = open(meta_data_folder / 'cell_data_cmd_deep.pickle',\"rb\")\n",
    "cell_data = pickle.load(pickle_in)\n",
    "pickle_in.close()\n",
    "\n",
    "pickle_in = open(meta_data_folder / 'time_data_cmd_deep.pickle',\"rb\")\n",
    "time_data = pickle.load(pickle_in)\n",
    "pickle_in.close()"
   ]
  },
  {
   "cell_type": "code",
   "execution_count": 10,
   "metadata": {
    "hidden": true
   },
   "outputs": [],
   "source": [
    "sweeps = []\n",
    "sweepdur = 0.075\n",
    "newdt = 1/10000\n",
    "newsamp = int(sweepdur/newdt)\n",
    "for exptname,data in cell_data.items():\n",
    "    sweep = data-data[0]\n",
    "    sweep = np.concatenate([sweep[::-1],sweep,sweep[::-1]])\n",
    "    sweep = signal.resample(sweep,3*newsamp)\n",
    "    sweeps.append(sweep[newsamp:2*newsamp])\n",
    "# sweeps.append(np.zeros(newsamp))\n",
    "sweeps = np.asarray(sweeps).T\n",
    "xtime = np.linspace(0,75,newsamp)\n",
    "\n",
    "np.save(meta_data_folder / 'cmd_response_pop_dgrc_sweeps.npy',sweeps,allow_pickle=False)"
   ]
  },
  {
   "cell_type": "markdown",
   "metadata": {
    "heading_collapsed": true
   },
   "source": [
    "### load GC numpy arrays and plot pop mean/sem"
   ]
  },
  {
   "cell_type": "code",
   "execution_count": 27,
   "metadata": {
    "hidden": true
   },
   "outputs": [
    {
     "data": {
      "image/png": "[encoded data removed]",
      "text/plain": [
       "<Figure size 108x108 with 1 Axes>"
      ]
     },
     "metadata": {},
     "output_type": "display_data"
    }
   ],
   "source": [
    "dgrc_sweeps_cmd = np.load(meta_data_folder / 'cmd_response_pop_dgrc_sweeps.npy')\n",
    "sgrc_sweeps_cmd = np.load(meta_data_folder / 'cmd_response_pop_sgrc_sweeps.npy')\n",
    "newdt = 1/10000\n",
    "sweepclip = 0.05\n",
    "dgrc_sweeps_cmd = dgrc_sweeps_cmd[0:int(sweepclip/newdt),:]\n",
    "sgrc_sweeps_cmd = sgrc_sweeps_cmd[0:int(sweepclip/newdt),:]\n",
    "\n",
    "xtime = np.linspace(0,sweepclip*1000,int(sweepclip/newdt))-0.5\n",
    "\n",
    "hfig,ax = create_fig()\n",
    "ax.fill_between([6.5,16.5],[5,5],[-7,-7],color = 'black', alpha = 0.15)\n",
    "ax.plot(xtime,np.mean(sgrc_sweeps_cmd,1),color = 'red',lw = 1)\n",
    "ax.fill_between(xtime,\n",
    "                np.mean(sgrc_sweeps_cmd,1)-stats.sem(sgrc_sweeps_cmd,1),\n",
    "                np.mean(sgrc_sweeps_cmd,1)+stats.sem(sgrc_sweeps_cmd,1),\n",
    "               color='red',alpha=0.3)\n",
    "\n",
    "ax.plot(xtime,np.mean(dgrc_sweeps_cmd,1),color = 'brown',lw = 1)\n",
    "ax.fill_between(xtime,\n",
    "                np.mean(dgrc_sweeps_cmd,1)-stats.sem(dgrc_sweeps_cmd,1),\n",
    "                np.mean(dgrc_sweeps_cmd,1)+stats.sem(dgrc_sweeps_cmd,1),\n",
    "               color='brown',alpha=0.3)\n",
    "\n",
    "ax.vlines(0,1,4,color = 'black')\n",
    "ax.vlines(7.5,1,4,color = 'black')\n",
    "ax.set_xticks([0,10])\n",
    "ax.set_yticks([0,5])\n",
    "plt.xlim(-0.5,49.5)\n",
    "plt.ylim(-7,5)\n",
    "figsave(figure_folder,'Fig1_GRC_CMD_popmean')"
   ]
  },
  {
   "cell_type": "markdown",
   "metadata": {},
   "source": [
    "# FIGURE 2"
   ]
  },
  {
   "cell_type": "markdown",
   "metadata": {
    "heading_collapsed": true
   },
   "source": [
    "## import afferent spike data; only use well-fit data"
   ]
  },
  {
   "cell_type": "code",
   "execution_count": 7,
   "metadata": {
    "hidden": true
   },
   "outputs": [
    {
     "name": "stdout",
     "output_type": "stream",
     "text": [
      "20200129(blue) has a total of 11 afferents recorded\n",
      "20200204(orange) has a total of 11 afferents recorded\n",
      "20200531(brown) has a total of 27 afferents recorded\n",
      "20200621(green) has a total of 15 afferents recorded\n",
      "number afferents excluded because first fsl threshold too high or could not be fit: 3\n",
      "number afferents included (spike thresh at least 0%): 61\n",
      "        exptname    animal   stretch       tau    offset    max_fsl  \\\n",
      "1   20200129_003  20200129  5.002921 -0.017816  1.000000   9.532944   \n",
      "4   20200129_006  20200129  5.715809 -0.022154  1.000000   9.858215   \n",
      "7   20200129_009  20200129  5.451725 -0.015384  1.000000   9.357798   \n",
      "10  20200129_012  20200129  6.623366 -0.019459  1.000000  12.010008   \n",
      "1   20200531_001  20200531  6.964934 -0.020705  1.000000  11.347565   \n",
      "7   20200531_007  20200531  3.842939 -0.038101  2.673761  11.087392   \n",
      "\n",
      "           sse   df  \n",
      "1   103.435863   94  \n",
      "4    48.310496  108  \n",
      "7    43.739012   40  \n",
      "10   91.976468   85  \n",
      "1    56.609527  105  \n",
      "7   109.099794  105  \n"
     ]
    },
    {
     "data": {
      "image/png": "[encoded data removed]",
      "text/plain": [
       "<Figure size 144x288 with 1 Axes>"
      ]
     },
     "metadata": {},
     "output_type": "display_data"
    }
   ],
   "source": [
    "exptdate = 'all'\n",
    "# meta_df.to_csv('DF_AfferentPopulation_' + exptdate + '.csv')\n",
    "meta_df = pd.read_csv('DF_AfferentPopulation_' + exptdate + '.csv')\n",
    "\n",
    "meta_params_df,expt_excluded = exclude_HighThreshAff(meta_df)\n",
    "\n",
    "well_fit,un_fit = assess_fits(meta_params_df)\n",
    "\n",
    "# meta_params_df = meta_params_df.dropna()\n",
    "data_df = well_fit\n",
    "dataset = list(zip(\n",
    "    data_df['stretch'],\n",
    "    data_df['tau'],\n",
    "    data_df['offset'],\n",
    "    data_df['max_fsl']\n",
    "    ))\n",
    "dataset = np.asarray(dataset)\n",
    "# dataset = dataset[:,0:3]\n",
    "\n",
    "rv = gaussian_kde(dataset[:,0:3].T)\n",
    "\n",
    "max_fsl_global = np.max(meta_params_df['max_fsl'])\n",
    "\n",
    "# plot_corr_matrix_multigauss(rv)"
   ]
  },
  {
   "cell_type": "markdown",
   "metadata": {
    "heading_collapsed": true
   },
   "source": [
    "## example afferent latency tuning plot; store latency shift as vector for GC plot"
   ]
  },
  {
   "cell_type": "code",
   "execution_count": 11,
   "metadata": {
    "hidden": true
   },
   "outputs": [
    {
     "name": "stderr",
     "output_type": "stream",
     "text": [
      "WARNING    /anaconda3/envs/grc_study/lib/python3.6/site-packages/numpy/core/fromnumeric.py:3335: RuntimeWarning: Mean of empty slice.\n",
      "  out=out, **kwargs)\n",
      " [py.warnings]\n",
      "WARNING    /anaconda3/envs/grc_study/lib/python3.6/site-packages/numpy/core/_methods.py:161: RuntimeWarning: invalid value encountered in double_scalars\n",
      "  ret = ret.dtype.type(ret / rcount)\n",
      " [py.warnings]\n"
     ]
    },
    {
     "name": "stdout",
     "output_type": "stream",
     "text": [
      "0\n",
      "18\n",
      "17\n",
      "17\n",
      "17\n",
      "17\n",
      "17\n",
      "17\n",
      "17\n",
      "17\n",
      "18\n"
     ]
    },
    {
     "data": {
      "image/png": "[encoded data removed]",
      "text/plain": [
       "<Figure size 86.4x144 with 1 Axes>"
      ]
     },
     "metadata": {},
     "output_type": "display_data"
    }
   ],
   "source": [
    "name = well_fit['exptname'].values[2]\n",
    "\n",
    "expt_df = meta_df[meta_df['exptname'] == name]\n",
    "\n",
    "x = np.arange(-40,40,1)#unique(expt_df.ampshift)\n",
    "these_params = meta_params_df[meta_params_df['exptname']==name]\n",
    "y = exp_fit(x,these_params['stretch'].values,these_params['tau'].values,these_params['offset'].values)\n",
    "y[y>these_params['max_fsl'].values] = np.NaN  \n",
    "\n",
    "colinds = plt.cm.plasma(np.linspace(0.2,0.85,len(np.unique(expt_df.ampshift))))\n",
    "\n",
    "# hfig,ax = create_fig_tuning()\n",
    "figsize=[1.2,2]\n",
    "hfig = plt.figure(figsize = figsize) \n",
    "ax = hfig.add_axes([0.2,0.15,0.7,0.8])\n",
    "ax.fill_betweenx([1,8],-15,45,color='gray',alpha=0.5)\n",
    "ex_latshift = []\n",
    "for i,a in enumerate(np.unique(expt_df.ampshift)):\n",
    "    sub_df = expt_df[expt_df['ampshift']==a]\n",
    "    x_data = sub_df.dropna(0).ampshift.values\n",
    "    y_data =  sub_df.dropna(0).fsl.values\n",
    "    print(len(y_data))\n",
    "    ax.scatter(x_data,y_data,color=colinds[i],s=10)\n",
    "    ex_latshift.append(np.mean(y_data))\n",
    "ex_latshift = array(ex_latshift).T\n",
    "    \n",
    "ax.plot(x,y,color='black',lw = 0.5)\n",
    "ax.set_xlim(-47,47)\n",
    "ax.set_ylim(1,8)\n",
    "ax.set_xlabel('Stimulus amplitude \\n (% change)',linespacing=0.75)\n",
    "ax.set_ylabel('Spike latency (ms)')\n",
    "xticks([-40,-20,0,20,40])\n",
    "sns.despine(hfig)\n",
    "\n",
    "# figsave(figure_folder,'Fig2_ExampleAfferentTuning')"
   ]
  },
  {
   "cell_type": "markdown",
   "metadata": {
    "hidden": true
   },
   "source": [
    "### for text: calculate afferent shift in latency across population; plot"
   ]
  },
  {
   "cell_type": "code",
   "execution_count": 13,
   "metadata": {
    "hidden": true
   },
   "outputs": [
    {
     "name": "stdout",
     "output_type": "stream",
     "text": [
      "afferent tuning: mean ms change -2.0 sem 0.2\n"
     ]
    }
   ],
   "source": [
    "x = array([-40,-30,-20,-10,-5,0,5,10,20,30,40])\n",
    "restrict_inds = x>-20\n",
    "\n",
    "y_fit = []\n",
    "for i,animal in enumerate(np.unique(data_df['animal'])):\n",
    "    animal_df = data_df[data_df['animal'] == animal]\n",
    "    for name in np.unique(animal_df['exptname']):\n",
    "        expt_df = animal_df[animal_df['exptname'] == name]\n",
    "        y = exp_fit(x,expt_df['stretch'].values,expt_df['tau'].values,expt_df['offset'].values)\n",
    "        y[y>11] = np.NaN\n",
    "        y_fit.append(y)\n",
    "y_fit = np.asarray(y_fit).T\n",
    "\n",
    "\n",
    "dt_aff = []\n",
    "for r in y_fit.T:\n",
    "    dt_aff.append(r[restrict_inds][-1] - r[restrict_inds][0])\n",
    "dt_aff = np.asarray(dt_aff).T\n",
    "                \n",
    "\n",
    "print('afferent tuning: mean ms change ' + str(np.round(np.nanmean(dt_aff),1)) + ' sem ' \n",
    "      + str(np.round(stats.sem(dt_aff,nan_policy='omit'),1)))\n",
    "\n",
    "ax.plot(x[restrict_inds],np.nanmean(y_fit,1)[restrict_inds],color = 'green');\n",
    "ax.fill_between(x[restrict_inds],\n",
    "                np.nanmean(y_fit,1)[restrict_inds]-stats.sem(y_fit,1,nan_policy='omit')[restrict_inds],\n",
    "                np.nanmean(y_fit,1)[restrict_inds]+stats.sem(y_fit,1,nan_policy='omit')[restrict_inds],\n",
    "               color='green',alpha=0.3)\n"
   ]
  },
  {
   "cell_type": "markdown",
   "metadata": {
    "hidden": true
   },
   "source": [
    "### compare example afferent tuning to population tuning"
   ]
  },
  {
   "cell_type": "code",
   "execution_count": 22,
   "metadata": {
    "hidden": true
   },
   "outputs": [],
   "source": [
    "ex_latshift_pop = []\n",
    "for r in y_fit:\n",
    "    ex_latshift_pop.append(np.nanmean(r))\n",
    "ex_latshift_pop = array(ex_latshift_pop)"
   ]
  },
  {
   "cell_type": "code",
   "execution_count": 29,
   "metadata": {
    "hidden": true
   },
   "outputs": [
    {
     "data": {
      "image/png": "[encoded data removed]",
      "text/plain": [
       "<Figure size 86.4x108 with 1 Axes>"
      ]
     },
     "metadata": {},
     "output_type": "display_data"
    }
   ],
   "source": [
    "hfig,ax = create_fig_tuning()\n",
    "# plt.figure(figsize=(2,3))\n",
    "plt.scatter(x,ex_latshift,color = 'gray')\n",
    "plt.scatter(x,ex_latshift_pop,color = 'black')\n",
    "plt.xlim(-15,40)\n",
    "plt.ylim(1.5,6)\n",
    "plt.ylabel('ms')\n",
    "plt.xlabel('stimampshift')\n",
    "figsave(figure_folder,'Fig2_ExampleVsPop_AfferentTuning')"
   ]
  },
  {
   "cell_type": "markdown",
   "metadata": {
    "heading_collapsed": true
   },
   "source": [
    "## example DGC amplitude tuning; plot agains example afferent latency instead of stimamp"
   ]
  },
  {
   "cell_type": "code",
   "execution_count": 6,
   "metadata": {
    "hidden": true
   },
   "outputs": [
    {
     "name": "stdout",
     "output_type": "stream",
     "text": [
      "/Users/kperks/mnt/engram/spikedata/data_raw/20200607/20200607_005.smr\n"
     ]
    },
    {
     "data": {
      "text/plain": [
       "<matplotlib.collections.LineCollection at 0x1a27925358>"
      ]
     },
     "execution_count": 6,
     "metadata": {},
     "output_type": "execute_result"
    },
    {
     "data": {
      "image/png": "[encoded data removed]",
      "text/plain": [
       "<Figure size 108x108 with 1 Axes>"
      ]
     },
     "metadata": {},
     "output_type": "display_data"
    }
   ],
   "source": [
    "exptname = '20200607_005'\n",
    "expt = AmpShift_Stable()\n",
    "expt.load_expt(exptname, data_folder)\n",
    "\n",
    "expt.set_amps(11,[-40,-30,-20,-10,-5,0,5,10,20,30,40])\n",
    "expt.set_channels('CmdTrig','lowgain','spikes','SIU','DigMark')\n",
    "\n",
    "bout_uc = [expt.get_bout_win('R','Keyboard')[0],\n",
    "           expt.get_bout_win('R','Keyboard')[1]]\n",
    "\n",
    "sweepdur = 0.05\n",
    "marker_df = expt.get_marker_table() #access with : getattr(expt,'marker_df')\n",
    "CmdTrig = expt.get_events('CmdTrig')\n",
    "\n",
    "bout_df = expt.filter_marker_df_time(marker_df,bout_uc)\n",
    "trial_df = expt.filter_marker_df_code(bout_df,['T'])\n",
    "stim_t = trial_df.time.values\n",
    "\n",
    "eventDur = 0.001\n",
    "xtime,event_sweeps = expt.get_sweepsmat('SIU',trial_df['time'].values,eventDur)\n",
    "event_Amp = np.asarray([np.max(sweep) for sweep in event_sweeps.T])\n",
    "\n",
    "base_df = expt.filter_marker_df_code(bout_df,['U'])\n",
    "xtime,event_sweeps = expt.get_sweepsmat('SIU',base_df['time'].values,eventDur)\n",
    "event_0_Amp = np.median(np.asarray([np.max(sweep) for sweep in event_sweeps.T]))\n",
    "\n",
    "ampshift = np.asarray([np.round(((A/event_0_Amp)*100)-100) for A in event_Amp]).reshape(-1, 1)\n",
    "trial_df.insert(np.shape(trial_df)[1],'ampshift',ampshift)\n",
    "    \n",
    "trialmat = []\n",
    "for a in np.unique(trial_df['ampshift']):\n",
    "    theseT = trial_df[trial_df['ampshift']==a].time.values - 0.005\n",
    "    xtime, R = expt.get_sweepsmat('lowgain',theseT,sweepdur)\n",
    "    trialmat.append(np.mean(R,1))\n",
    "trialmat = np.asarray(trialmat).T \n",
    "trialmat = np.asarray([sweep-sweep[0] for sweep in trialmat.T]).T\n",
    "\n",
    "hfig,ax = create_fig()\n",
    "colinds = plt.cm.plasma(np.linspace(0.2,0.85,np.shape(trialmat)[1]))\n",
    "\n",
    "for i,sweep in enumerate(trialmat.T):\n",
    "    ax.plot(xtime,sweep,color = colinds[i],lw = 0.5);\n",
    "ax.set_xlim(0,50)\n",
    "# ax.set_xlabel('msec')\n",
    "# ax.set_ylabel('mV')\n",
    "ax.set_xticks([0,10])\n",
    "ax.set_yticks([10,20])\n",
    "ax.vlines(5,0,5)\n",
    "\n",
    "\n",
    "# figsave(figure_folder,'Fig2_ExampleDGRCwavs')"
   ]
  },
  {
   "cell_type": "code",
   "execution_count": 12,
   "metadata": {
    "hidden": true
   },
   "outputs": [
    {
     "data": {
      "image/png": "[encoded data removed]",
      "text/plain": [
       "<Figure size 72x86.4 with 1 Axes>"
      ]
     },
     "metadata": {},
     "output_type": "display_data"
    }
   ],
   "source": [
    "dt = expt.get_dt('lowgain')\n",
    "\n",
    "amp = []\n",
    "searchinds = xtime>6\n",
    "for sweep in trialmat.T:\n",
    "#     r_u = calc_peaks(xtime,sweep, order, min_peakt,threshold_h,dt)\n",
    "#     amp.append(r_u[1])\n",
    "    maxR = sweep[searchinds][np.argmax(sweep[searchinds])]\n",
    "    amp.append(maxR)\n",
    "amp = np.asarray(amp)\n",
    "\n",
    "stim_ampshift = np.unique(trial_df['ampshift'])\n",
    "restrict_inds = stim_ampshift>-20\n",
    "\n",
    "# figsize=[1.2,1.5]\n",
    "# hfig = plt.figure(figsize = [1,1.25])\n",
    "# ax = hfig.add_axes([0.3,0.2,0.6,0.7])\n",
    "# figsize = [0.75,1]\n",
    "# hfig,ax = create_fig_tuning()\n",
    "figsize=[1,1.2]\n",
    "hfig = plt.figure(figsize = figsize) \n",
    "ax = hfig.add_axes([0.3,0.3,0.5,0.6])\n",
    "# ax.plot(stim_ampshift[restrict_inds],amp[restrict_inds],color = 'black')\n",
    "colinds = plt.cm.plasma(np.linspace(0.2,0.85,11))\n",
    "i = 3\n",
    "for s,r in zip(stim_ampshift[restrict_inds],amp[restrict_inds]):\n",
    "    ax.scatter(s,r,color = colinds[i], s=10)\n",
    "    i+=1\n",
    "ax.set_xlim(-17,47)\n",
    "xticks([0,20,40]);\n",
    "ax.set_xlabel('Stimulus amplitude \\n (% change)',linespacing=0.75)\n",
    "ax.set_ylabel('Peak response (mV)');\n",
    "sns.despine(hfig)\n",
    "\n",
    "figsave(figure_folder,'Fig2_ExampleDGRCscatter')"
   ]
  },
  {
   "cell_type": "markdown",
   "metadata": {
    "heading_collapsed": true
   },
   "source": [
    "## example SGC amplitude tuning; plot agains example afferent latency instead of stimamp\n"
   ]
  },
  {
   "cell_type": "code",
   "execution_count": 13,
   "metadata": {
    "hidden": true
   },
   "outputs": [
    {
     "name": "stdout",
     "output_type": "stream",
     "text": [
      "/Users/kperks/mnt/engram/spikedata/data_raw/20200607/20200607_000.smr\n"
     ]
    },
    {
     "data": {
      "image/png": "[encoded data removed]",
      "text/plain": [
       "<Figure size 108x108 with 1 Axes>"
      ]
     },
     "metadata": {},
     "output_type": "display_data"
    }
   ],
   "source": [
    "exptname = '20200607_000'\n",
    "expt = AmpShift_Stable()\n",
    "expt.load_expt(exptname, data_folder)\n",
    "\n",
    "expt.set_amps(11,[-40,-30,-20,-10,-5,0,5,10,20,30,40])\n",
    "expt.set_channels('CmdTrig','lowgain','spikes','SIU','DigMark')\n",
    "marker_df = expt.get_marker_table()\n",
    "\n",
    "bout_uc = [expt.get_bout_win('R','Keyboard')[1],\n",
    "          expt.get_bout_win('R','Keyboard')[2]]\n",
    "\n",
    "sweepdur = 0.05\n",
    "marker_df = expt.get_marker_table() #access with : getattr(expt,'marker_df')\n",
    "CmdTrig = expt.get_events('CmdTrig')\n",
    "\n",
    "bout_df = expt.filter_marker_df_time(marker_df,bout_uc)\n",
    "trial_df = expt.filter_marker_df_code(bout_df,['T'])\n",
    "stim_t = trial_df.time.values\n",
    "\n",
    "eventDur = 0.001\n",
    "xtime,event_sweeps = expt.get_sweepsmat('SIU',trial_df['time'].values,eventDur)\n",
    "event_Amp = np.asarray([np.max(sweep) for sweep in event_sweeps.T])\n",
    "\n",
    "base_df = expt.filter_marker_df_code(bout_df,['U'])\n",
    "xtime,event_sweeps = expt.get_sweepsmat('SIU',base_df['time'].values,eventDur)\n",
    "event_0_Amp = np.median(np.asarray([np.max(sweep) for sweep in event_sweeps.T]))\n",
    "\n",
    "ampshift = np.asarray([np.round(((A/event_0_Amp)*100)-100) for A in event_Amp]).reshape(-1, 1)\n",
    "trial_df.insert(np.shape(trial_df)[1],'ampshift',ampshift)\n",
    "    \n",
    "trialmat = []\n",
    "for a in np.unique(trial_df['ampshift']):\n",
    "    theseT = trial_df[trial_df['ampshift']==a].time.values - 0.005\n",
    "    xtime, R = expt.get_sweepsmat('lowgain',theseT,sweepdur)\n",
    "    trialmat.append(np.mean(R,1))\n",
    "trialmat = np.asarray(trialmat).T \n",
    "trialmat = np.asarray([sweep-sweep[0] for sweep in trialmat.T]).T\n",
    "\n",
    "hfig,ax = create_fig()\n",
    "colinds = plt.cm.plasma(np.linspace(0.2,0.85,np.shape(trialmat)[1]))\n",
    "\n",
    "for i,sweep in enumerate(trialmat.T):\n",
    "    ax.plot(xtime,sweep,color = colinds[i],lw = 0.5);\n",
    "ax.set_xlim(0,50)\n",
    "ax.set_ylim(-1,9)\n",
    "# ax.set_xlabel('msec')\n",
    "# ax.set_ylabel('mV')\n",
    "ax.set_xticks([0,10])\n",
    "ax.set_yticks([2,7])\n",
    "ax.vlines(5,0,5)\n",
    "\n",
    "figsave(figure_folder,'Fig2_ExampleSGRCwavs')"
   ]
  },
  {
   "cell_type": "code",
   "execution_count": 14,
   "metadata": {
    "hidden": true
   },
   "outputs": [
    {
     "data": {
      "image/png": "[encoded data removed]",
      "text/plain": [
       "<Figure size 72x86.4 with 1 Axes>"
      ]
     },
     "metadata": {},
     "output_type": "display_data"
    }
   ],
   "source": [
    "dt = expt.get_dt('lowgain')\n",
    "\n",
    "amp = []\n",
    "searchinds = xtime>6\n",
    "for sweep in trialmat.T:\n",
    "#     r_u = calc_peaks(xtime,sweep, order, min_peakt,threshold_h,dt)\n",
    "#     amp.append(r_u[1])\n",
    "    maxR = sweep[searchinds][np.argmax(sweep[searchinds])]\n",
    "    amp.append(maxR)\n",
    "amp = np.asarray(amp)\n",
    "\n",
    "stim_ampshift = np.unique(trial_df['ampshift'])\n",
    "restrict_inds = stim_ampshift>-20\n",
    "\n",
    "figsize=[1,1.2]\n",
    "hfig = plt.figure(figsize = figsize) \n",
    "ax = hfig.add_axes([0.3,0.3,0.5,0.6])\n",
    "colinds = plt.cm.plasma(np.linspace(0.2,0.85,11))\n",
    "i = 3\n",
    "for s,r in zip(stim_ampshift[restrict_inds],amp[restrict_inds]):\n",
    "    ax.scatter(s,r,color = colinds[i], s=10)\n",
    "    i+=1\n",
    "ax.set_xlim(-17,47)\n",
    "xticks([0,20,40]);\n",
    "ax.set_xlabel('Stimulus amplitude \\n (% change)',linespacing=0.75)\n",
    "ax.set_ylabel('Peak response (mV)');\n",
    "sns.despine(hfig)\n",
    "\n",
    "figsave(figure_folder,'Fig2_ExampleSGRCscatter')"
   ]
  },
  {
   "cell_type": "markdown",
   "metadata": {},
   "source": [
    "## population amplitude tuning curves"
   ]
  },
  {
   "cell_type": "markdown",
   "metadata": {
    "heading_collapsed": true
   },
   "source": [
    "### DGC"
   ]
  },
  {
   "cell_type": "code",
   "execution_count": 33,
   "metadata": {
    "hidden": true
   },
   "outputs": [
    {
     "data": {
      "image/png": "[encoded data removed]",
      "text/plain": [
       "<Figure size 86.4x108 with 1 Axes>"
      ]
     },
     "metadata": {},
     "output_type": "display_data"
    }
   ],
   "source": [
    "#deep grc\n",
    "meta_df = pd.read_csv('DF_update_dGRCPopulation_UncoupledAmpShift.csv')\n",
    "R_ampshift = []\n",
    "R_ampshift_norm = []\n",
    "for a in np.unique(meta_df['exptname']):\n",
    "    subdf = meta_df[meta_df['exptname']==a].groupby('ampshift')\n",
    "    r = subdf.pspamp.mean().values\n",
    "    R_ampshift.append(r)\n",
    "#     r = (r-np.min(r))\n",
    "    r = r/np.max(r)\n",
    "    R_ampshift_norm.append(r)\n",
    "R_ampshift_dgc = np.asarray(R_ampshift)\n",
    "R_ampshift_norm_dgrc = np.asarray(R_ampshift_norm)\n",
    "stim_ampshift = np.unique(meta_df.ampshift)\n",
    "\n",
    "R_ampshift_dgrc = R_ampshift\n",
    "\n",
    "restrict_inds = stim_ampshift>-20\n",
    "hfig,ax = create_fig_tuning()\n",
    "for name,expt_result in zip(np.unique(meta_df['exptname']),R_ampshift):\n",
    "    ax.plot(stim_ampshift[restrict_inds],expt_result[restrict_inds],linestyle='-',color='black',lw=1)#,marker='o',markersize=6)\n",
    "ax.set_ylabel('Peak response (mV)')\n",
    "ax.set_xlabel('Stimulus amplitude \\n (% change)',linespacing=0.75)\n",
    "ax.set_xlim(-17,47)\n",
    "xticks([0,20,40]);\n",
    "\n",
    "# figsave(figure_folder,'Fig2_dgrcTuning_pop')"
   ]
  },
  {
   "cell_type": "markdown",
   "metadata": {
    "heading_collapsed": true
   },
   "source": [
    "### SGC "
   ]
  },
  {
   "cell_type": "code",
   "execution_count": 34,
   "metadata": {
    "hidden": true
   },
   "outputs": [
    {
     "data": {
      "image/png": "[encoded data removed]",
      "text/plain": [
       "<Figure size 86.4x108 with 1 Axes>"
      ]
     },
     "metadata": {},
     "output_type": "display_data"
    }
   ],
   "source": [
    "#superficial grc\n",
    "meta_df = pd.read_csv('DF_update_sGRCPopulation_UncoupledAmpShift.csv')\n",
    "R_ampshift = []\n",
    "R_ampshift_norm = []\n",
    "for a in np.unique(meta_df['exptname']):\n",
    "    subdf = meta_df[meta_df['exptname']==a].groupby('ampshift')\n",
    "    r = subdf.pspamp.mean().values\n",
    "    R_ampshift.append(r)\n",
    "#     r = (r-np.min(r))\n",
    "    r = r/np.max(r)\n",
    "    R_ampshift_norm.append(r)\n",
    "R_ampshift_sgc = np.asarray(R_ampshift)\n",
    "R_ampshift_norm_sgrc = np.asarray(R_ampshift_norm)\n",
    "stim_ampshift = np.unique(meta_df.ampshift)\n",
    "\n",
    "restrict_inds = stim_ampshift>-20\n",
    "hfig,ax = create_fig_tuning()\n",
    "for name,expt_result in zip(np.unique(meta_df['exptname']),R_ampshift):\n",
    "    ax.plot(stim_ampshift[restrict_inds],expt_result[restrict_inds],linestyle='-',lw=1,color='black')#,marker='o',markersize=6)\n",
    "ax.set_ylabel('Peak response (mV)')\n",
    "ax.set_xlabel('Stimulus amplitude \\n (% change)',linespacing=0.75)\n",
    "ax.set_xlim(-17,47)\n",
    "xticks([0,20,40]);\n",
    "# figsave(figure_folder,'Fig2_sgrcTuning_pop')"
   ]
  },
  {
   "cell_type": "markdown",
   "metadata": {
    "heading_collapsed": true
   },
   "source": [
    "### MF "
   ]
  },
  {
   "cell_type": "code",
   "execution_count": 35,
   "metadata": {
    "hidden": true
   },
   "outputs": [],
   "source": [
    "#medium fusiform\n",
    "meta_df = pd.read_csv('DF_MFPopulation_UncoupledAmpShift.csv')\n",
    "\n",
    "R_ampshift = []\n",
    "R_ampshift_norm = []\n",
    "# R_fsl = []\n",
    "for a in np.unique(meta_df['exptname']):\n",
    "#     subdf = meta_df[(meta_df['exptname']==a)&(meta_df['nspk']==0)].groupby('ampshift')\n",
    "    subdf = meta_df[(meta_df['exptname']==a)].groupby('ampshift')\n",
    "    r = subdf.pspamp.mean().values\n",
    "    R_ampshift.append(r)\n",
    "#     r = (r-np.min(r))\n",
    "    r = r/np.max(r)\n",
    "    R_ampshift_norm.append(r)\n",
    "#     R_fsl.append(subdf.fsl.mean().values)\n",
    "R_ampshift_mf = np.asarray(R_ampshift)\n",
    "R_ampshift_norm_mf = np.asarray(R_ampshift_norm)\n",
    "# R_fsl = np.asarray(R_fsl)\n",
    "stim_ampshift = np.unique(meta_df.ampshift)"
   ]
  },
  {
   "cell_type": "markdown",
   "metadata": {
    "heading_collapsed": true
   },
   "source": [
    "### OutputE "
   ]
  },
  {
   "cell_type": "code",
   "execution_count": null,
   "metadata": {
    "hidden": true
   },
   "outputs": [],
   "source": [
    "meta_df = pd.read_csv('DF_OutputEPopulation_UncoupledAmpShift.csv')\n",
    "\n",
    "R_ampshift = []\n",
    "R_ampshift_norm = []\n",
    "# R_fsl = []\n",
    "for a in np.unique(meta_df['exptname']):\n",
    "    subdf = meta_df[(meta_df['exptname']==a)&(meta_df['nspk']==0)].groupby('ampshift')\n",
    "    r = subdf.spkamp.mean().values\n",
    "    R_ampshift.append(r)\n",
    "#     r = (r-np.min(r))\n",
    "    r = r/np.max(r)\n",
    "    R_ampshift_norm.append(r)\n",
    "#     R_fsl.append(subdf.fsl.mean().values)\n",
    "R_ampshift = np.asarray(R_ampshift)\n",
    "R_ampshift_norm_out = np.asarray(R_ampshift_norm)\n",
    "# R_fsl = np.asarray(R_fsl)\n",
    "stim_ampshift = np.unique(meta_df.ampshift)\n",
    "\n",
    "restrict_inds = stim_ampshift>-20\n",
    "hfig,ax = create_fig_tuning()\n",
    "# plt.errorbar(stim_ampshift,np.mean(R_ampshift_norm,0),yerr=stats.sem(R_ampshift_norm,0),linestyle=\"None\",color = 'black')\n",
    "ax.scatter(stim_ampshift[restrict_inds],np.mean(R_ampshift_norm_out,0)[restrict_inds],color = 'black',s = 6**2)\n",
    "# ax.scatter(stim_ampshift[restrict_inds],np.mean(R_ampshift_norm_dgrc,0)[restrict_inds],color = 'brown',s = 6**2)\n",
    "# ax.scatter(stim_ampshift[restrict_inds],np.mean(R_ampshift_norm_sgrc,0)[restrict_inds],color = 'red',s=6**2)\n",
    "\n",
    "ax.set_ylabel('Mean peak response \\n (normalized)',linespacing=0.75)\n",
    "ax.set_xlabel('Stimulus amplitude \\n (% change)',linespacing=0.75)\n",
    "ax.set_xlim(-17,47)\n",
    "ax.set_ylim(0.35,1.05)\n",
    "xticks([0,20,40]);\n",
    "# ax.set_xscale('log')\n",
    "figsave(figure_folder,'Fig2_output_Tuning_MeanNorm')\n",
    "\n",
    "\n",
    "hfig,ax = create_fig_tuning()\n",
    "for name,expt_result in zip(np.unique(meta_df['exptname']),R_ampshift):\n",
    "    ax.plot(stim_ampshift[restrict_inds],expt_result[restrict_inds],linestyle='-',color='black',lw=1)#,marker='o',markersize=6)\n",
    "ax.set_ylabel('Peak response (mV)')\n",
    "ax.set_xlabel('Stimulus amplitude \\n (% change)',linespacing=0.75)\n",
    "ax.set_xlim(-17,47)\n",
    "xticks([0,20,40]);"
   ]
  },
  {
   "cell_type": "markdown",
   "metadata": {
    "heading_collapsed": true
   },
   "source": [
    "### GC population plot/quantify summary mean/sem scatter amplitude tuning curves"
   ]
  },
  {
   "cell_type": "code",
   "execution_count": 46,
   "metadata": {
    "hidden": true
   },
   "outputs": [
    {
     "data": {
      "image/png": "[encoded data removed]",
      "text/plain": [
       "<Figure size 86.4x144 with 1 Axes>"
      ]
     },
     "metadata": {},
     "output_type": "display_data"
    }
   ],
   "source": [
    "\n",
    "restrict_inds = stim_ampshift>-20\n",
    "# hfig,ax = create_fig_tuning()\n",
    "figsize=[1.2,2]\n",
    "hfig = plt.figure(figsize = figsize) \n",
    "ax = hfig.add_axes([0.3,0.15,0.7,0.8])\n",
    "plt.errorbar(stim_ampshift[restrict_inds],\n",
    "             np.mean(R_ampshift_norm_mf,0)[restrict_inds],\n",
    "             yerr=stats.sem(R_ampshift_norm_mf,0)[restrict_inds],\n",
    "             linestyle=\"None\",color = 'gray', capsize=2)\n",
    "ax.scatter(stim_ampshift[restrict_inds],np.mean(R_ampshift_norm_mf,0)[restrict_inds],color = 'gray',s = 10)\n",
    "plt.errorbar(stim_ampshift[restrict_inds],\n",
    "             np.mean(R_ampshift_norm_dgrc,0)[restrict_inds],\n",
    "             yerr=stats.sem(R_ampshift_norm_dgrc,0)[restrict_inds],\n",
    "             linestyle=\"None\",color = 'brown', capsize=2)\n",
    "ax.scatter(stim_ampshift[restrict_inds],np.mean(R_ampshift_norm_dgrc,0)[restrict_inds],color = 'brown',s = 10)\n",
    "plt.errorbar(stim_ampshift[restrict_inds],\n",
    "             np.mean(R_ampshift_norm_sgrc,0)[restrict_inds],\n",
    "             yerr=stats.sem(R_ampshift_norm_sgrc,0)[restrict_inds],\n",
    "             linestyle=\"None\",color = 'red', capsize=2)\n",
    "ax.scatter(stim_ampshift[restrict_inds],np.mean(R_ampshift_norm_sgrc,0)[restrict_inds],color = 'red',s=10)\n",
    "\n",
    "ax.set_ylabel('Mean peak response \\n (normalized)',linespacing=0.75)\n",
    "ax.set_xlabel('Stimulus amplitude \\n (% change)',linespacing=0.75)\n",
    "ax.set_xlim(-17,47)\n",
    "xticks([0,20,40]);\n",
    "plt.ylim(0.3,1.05)\n",
    "sns.despine(hfig)\n",
    "\n",
    "# figsave(figure_folder,'Fig2_grc_mf_Tuning_MeanNorm')"
   ]
  },
  {
   "cell_type": "code",
   "execution_count": 45,
   "metadata": {
    "hidden": true
   },
   "outputs": [
    {
     "data": {
      "image/png": "[encoded data removed]",
      "text/plain": [
       "<Figure size 86.4x144 with 1 Axes>"
      ]
     },
     "metadata": {},
     "output_type": "display_data"
    }
   ],
   "source": [
    "restrict_inds = stim_ampshift>-20\n",
    "# hfig,ax = create_fig_tuning()\n",
    "figsize=[1.2,2]\n",
    "hfig = plt.figure(figsize = figsize) \n",
    "ax = hfig.add_axes([0.3,0.15,0.7,0.8])\n",
    "plt.errorbar(ex_latshift_pop[restrict_inds],\n",
    "             np.mean(R_ampshift_mf,0)[restrict_inds],\n",
    "             yerr=stats.sem(R_ampshift_mf,0)[restrict_inds],\n",
    "             linestyle=\"None\",color = 'gray', capsize=2)\n",
    "ax.scatter(ex_latshift_pop[restrict_inds],np.mean(R_ampshift_mf,0)[restrict_inds],color = 'gray',s = 10)\n",
    "plt.errorbar(ex_latshift_pop[restrict_inds],\n",
    "             np.mean(R_ampshift_dgc,0)[restrict_inds],\n",
    "             yerr=stats.sem(R_ampshift_dgc,0)[restrict_inds],\n",
    "             linestyle=\"None\",color = 'brown', capsize=2)\n",
    "ax.scatter(ex_latshift_pop[restrict_inds],np.mean(R_ampshift_dgc,0)[restrict_inds],color = 'brown',s = 10)\n",
    "plt.errorbar(ex_latshift_pop[restrict_inds],\n",
    "             np.mean(R_ampshift_sgc,0)[restrict_inds],\n",
    "             yerr=stats.sem(R_ampshift_sgc,0)[restrict_inds],\n",
    "             linestyle=\"None\",color = 'red', capsize=2)\n",
    "ax.scatter(ex_latshift_pop[restrict_inds],np.mean(R_ampshift_sgc,0)[restrict_inds],color = 'red',s=10)\n",
    "\n",
    "ax.set_ylabel('Mean peak response (mV))',linespacing=0.75)\n",
    "# ax.set_xlabel('Stimulus amplitude \\n (% change)',linespacing=0.75)\n",
    "ax.set_xlabel('Afferent first spike \\n latency (ms)')\n",
    "# ax.set_xlim(-17,47)\n",
    "# xticks([0,20,40]);\n",
    "# plt.ylim(0.3,1.05)\n",
    "ax.invert_xaxis()\n",
    "sns.despine(hfig)\n",
    "\n",
    "figsave(figure_folder,'Fig2_grc_mf_Tuning_Mean_vs_latshift')"
   ]
  },
  {
   "cell_type": "code",
   "execution_count": 55,
   "metadata": {
    "hidden": true
   },
   "outputs": [
    {
     "name": "stdout",
     "output_type": "stream",
     "text": [
      "afferent tuning across relevant stimulus range (ms):\n",
      "mean = -2.0ms; sem = 0.2\n",
      "\n",
      "GC tuning across relevant stimulus range (mV):\n",
      "\n",
      "dgc:\n",
      "mean = 10.5mV; sem = 3.1mV\n",
      "\n",
      "sgc:\n",
      "mean = 8.7mV; sem = 0.6mV\n"
     ]
    }
   ],
   "source": [
    "dV_sgc = []\n",
    "for r in R_ampshift_sgc:\n",
    "    dV_sgc.append(r[-1]-r[3])\n",
    "dV_sgc = array(dV_sgc)\n",
    "\n",
    "dV_dgc = []\n",
    "for r in R_ampshift_dgc:\n",
    "    dV_dgc.append(r[-1]-r[3])\n",
    "dV_dgc = array(dV_dgc)\n",
    "\n",
    "\n",
    "print('afferent tuning across relevant stimulus range (ms):')\n",
    "print('mean = ' + str(np.round(np.nanmean(dt_aff),1)) + 'ms' + \n",
    "      '; sem = ' + str(np.round(stats.sem(dt_aff,nan_policy='omit'),1)))\n",
    "print('')\n",
    "print('GC tuning across relevant stimulus range (mV):')\n",
    "print('')\n",
    "print('dgc:')\n",
    "print('mean = ' + str(np.round(np.mean(dV_dgc),1)) + 'mV' +  \n",
    "     '; sem = ' + str(np.round(stats.sem(dV_dgc),1)) + 'mV')\n",
    "print('')\n",
    "print('sgc:')\n",
    "print('mean = ' + str(np.round(np.mean(dV_sgc),1)) + 'mV' + \n",
    "     '; sem = ' + str(np.round(stats.sem(dV_sgc),1)) + 'mV')\n",
    "\n"
   ]
  },
  {
   "cell_type": "markdown",
   "metadata": {},
   "source": [
    "# FIGURE 3\n"
   ]
  },
  {
   "cell_type": "markdown",
   "metadata": {
    "heading_collapsed": true
   },
   "source": [
    "## load afferent data and filter for well_fit"
   ]
  },
  {
   "cell_type": "code",
   "execution_count": 56,
   "metadata": {
    "hidden": true
   },
   "outputs": [
    {
     "name": "stdout",
     "output_type": "stream",
     "text": [
      "20200129(blue) has a total of 11 afferents recorded\n",
      "20200204(orange) has a total of 11 afferents recorded\n",
      "20200531(brown) has a total of 27 afferents recorded\n",
      "20200621(green) has a total of 15 afferents recorded\n",
      "number afferents excluded because first fsl threshold too high or could not be fit: 3\n",
      "number afferents included (spike thresh at least 0%): 61\n",
      "        exptname    animal   stretch       tau    offset    max_fsl  \\\n",
      "1   20200129_003  20200129  5.002921 -0.017816  1.000000   9.532944   \n",
      "4   20200129_006  20200129  5.715809 -0.022154  1.000000   9.858215   \n",
      "7   20200129_009  20200129  5.451725 -0.015384  1.000000   9.357798   \n",
      "10  20200129_012  20200129  6.623366 -0.019459  1.000000  12.010008   \n",
      "1   20200531_001  20200531  6.964934 -0.020705  1.000000  11.347565   \n",
      "7   20200531_007  20200531  3.842939 -0.038101  2.673761  11.087392   \n",
      "\n",
      "           sse   df  \n",
      "1   103.435863   94  \n",
      "4    48.310496  108  \n",
      "7    43.739012   40  \n",
      "10   91.976468   85  \n",
      "1    56.609527  105  \n",
      "7   109.099794  105  \n"
     ]
    },
    {
     "data": {
      "image/png": "[encoded data removed]",
      "text/plain": [
       "<Figure size 144x288 with 1 Axes>"
      ]
     },
     "metadata": {},
     "output_type": "display_data"
    }
   ],
   "source": [
    "exptdate = 'all'\n",
    "# meta_df.to_csv('DF_AfferentPopulation_' + exptdate + '.csv')\n",
    "meta_df = pd.read_csv('DF_AfferentPopulation_' + exptdate + '.csv')\n",
    "\n",
    "meta_params_df,expt_excluded = exclude_HighThreshAff(meta_df)\n",
    "\n",
    "well_fit,un_fit = assess_fits(meta_params_df)\n",
    "\n",
    "# meta_params_df = meta_params_df.dropna()\n",
    "data_df = well_fit\n",
    "dataset = list(zip(\n",
    "    data_df['stretch'],\n",
    "    data_df['tau'],\n",
    "    data_df['offset'],\n",
    "    data_df['max_fsl']\n",
    "    ))\n",
    "dataset = np.asarray(dataset)\n",
    "# dataset = dataset[:,0:3]\n",
    "\n",
    "rv = gaussian_kde(dataset[:,0:3].T)\n",
    "\n",
    "max_fsl_global = np.max(meta_params_df['max_fsl'])\n",
    "\n",
    "# plot_corr_matrix_multigauss(rv)\n",
    "filtered_df = meta_df[meta_df.exptname.str.match('|'.join(well_fit.exptname.values))]"
   ]
  },
  {
   "cell_type": "markdown",
   "metadata": {},
   "source": [
    "## plot afferent population from example animal  "
   ]
  },
  {
   "cell_type": "markdown",
   "metadata": {
    "heading_collapsed": true
   },
   "source": [
    "### print number of afferents recorded"
   ]
  },
  {
   "cell_type": "code",
   "execution_count": 23,
   "metadata": {
    "hidden": true
   },
   "outputs": [
    {
     "name": "stdout",
     "output_type": "stream",
     "text": [
      "20200531 has a total of 21 afferents recorded\n"
     ]
    }
   ],
   "source": [
    "x = np.unique(meta_df.ampshift) #array([-40,-30,-20,-10,-5,0,5,10,20,30,40])\n",
    "spk_thresh = 10\n",
    "\n",
    "animal = 20200531\n",
    "animal_df = well_fit[well_fit['animal'] == animal]\n",
    "print(str(animal) + ' has a total of ' + \n",
    "      str(len(np.unique(animal_df['exptname']))) + ' afferents recorded')"
   ]
  },
  {
   "cell_type": "markdown",
   "metadata": {
    "heading_collapsed": true
   },
   "source": [
    "### scatter percent online across stimamp"
   ]
  },
  {
   "cell_type": "code",
   "execution_count": 24,
   "metadata": {
    "hidden": true
   },
   "outputs": [
    {
     "data": {
      "image/png": "[encoded data removed]",
      "text/plain": [
       "<Figure size 86.4x108 with 1 Axes>"
      ]
     },
     "metadata": {},
     "output_type": "display_data"
    }
   ],
   "source": [
    "# for experiment in well fit (animal)\n",
    "spk_trials = []\n",
    "for cell in well_fit[well_fit['animal'] == animal].exptname:\n",
    "    spk_trials.append(meta_df[meta_df['exptname']==cell].groupby('ampshift').fsl.count().values)\n",
    "spk_trials = np.asarray(spk_trials).T\n",
    "\n",
    "n_active = np.asarray([len(np.where(t>0)[0]) for t in spk_trials])\n",
    "n_total = np.shape(spk_trials)[1]\n",
    "\n",
    "\n",
    "hfig,ax = create_fig_tuning()\n",
    "ax.fill_betweenx([0,105],-15,45,color='gray',alpha=0.5)\n",
    "\n",
    "ax.scatter(np.unique(meta_df['ampshift']),100*(n_active/n_total),\n",
    "           color='black',s=6)\n",
    "\n",
    "ax.set_xlim(-47,47)\n",
    "ax.set_ylim(0,105)\n",
    "ax.set_xlabel('Stimulus amplitude \\n (% change)',linespacing=0.75)\n",
    "ax.set_ylabel('Afferents online (%)')\n",
    "xticks([-40,-20,0,20,40]);\n",
    "sns.despine(hfig)\n",
    "\n",
    "figsave(figure_folder,'Fig3_AffOnlinePercent')"
   ]
  },
  {
   "cell_type": "markdown",
   "metadata": {
    "heading_collapsed": true
   },
   "source": [
    "### plot all tuning curves and average scatter of fsl stdev for each amplitude"
   ]
  },
  {
   "cell_type": "code",
   "execution_count": 31,
   "metadata": {
    "hidden": true
   },
   "outputs": [
    {
     "data": {
      "image/png": "[encoded data removed]",
      "text/plain": [
       "<Figure size 86.4x108 with 1 Axes>"
      ]
     },
     "metadata": {},
     "output_type": "display_data"
    },
    {
     "data": {
      "image/png": "[encoded data removed]",
      "text/plain": [
       "<Figure size 86.4x108 with 1 Axes>"
      ]
     },
     "metadata": {},
     "output_type": "display_data"
    }
   ],
   "source": [
    "\n",
    "x = np.unique(meta_df['ampshift'])\n",
    "x = x[x>-20]\n",
    "\n",
    "animal_df = well_fit[well_fit['animal'] == animal]\n",
    "\n",
    "spk_thresh = 12\n",
    "y_fit = []\n",
    "for name in np.unique(animal_df['exptname']):\n",
    "    expt_df = animal_df[animal_df['exptname'] == name]\n",
    "#     print(expt_df)\n",
    "    y = exp_fit(x,expt_df['stretch'].values,expt_df['tau'].values,expt_df['offset'].values)\n",
    "    y[y>spk_thresh] = np.NaN\n",
    "    y_fit.append(y)\n",
    "y_fit = np.asarray(y_fit).T\n",
    "\n",
    "hfig,ax = create_fig_tuning()\n",
    "ax.plot(x,y_fit,color = 'black',lw = 0.5)\n",
    "ax.set_ylabel('First spike latency (ms)')\n",
    "ax.set_xlabel('Stimulus amplitude \\n (% change)',linespacing=0.75)\n",
    "ax.set_xlim(-17,47)\n",
    "xticks([0,20,40]);\n",
    "sns.despine(hfig)\n",
    "figsave(figure_folder,'Fig3_AffTuningHeterogeneityExampleAnimal')\n",
    "\n",
    "hfig,ax = create_fig_tuning()\n",
    "colinds = plt.cm.plasma(np.linspace(0.2,0.85,11))\n",
    "i = 3\n",
    "for s,r in zip(x,np.nanstd(y_fit,1)):\n",
    "    ax.scatter(s,r,color = colinds[i], s=10)\n",
    "    i+=1\n",
    "# ax.scatter(x,np.nanstd(y_fit,1),color = 'black',s=10)\n",
    "ax.set_ylabel(' Population spread \\n spike latency (SD)',linespacing=0.75)\n",
    "ax.set_xlabel('Stimulus amplitude \\n (% change)',linespacing=0.75)\n",
    "ax.set_xlim(-17,47)\n",
    "xticks([0,20,40]);\n",
    "ax.set_ylim(0.5,1.7)\n",
    "sns.despine(hfig)\n",
    "figsave(figure_folder,'Fig3_PopLatencySTD')\n",
    "\n"
   ]
  },
  {
   "cell_type": "markdown",
   "metadata": {
    "heading_collapsed": true
   },
   "source": [
    "## tuning curve parameter scatter across all animals"
   ]
  },
  {
   "cell_type": "code",
   "execution_count": 26,
   "metadata": {
    "hidden": true
   },
   "outputs": [
    {
     "data": {
      "image/png": "[encoded data removed]",
      "text/plain": [
       "<Figure size 86.4x108 with 1 Axes>"
      ]
     },
     "metadata": {},
     "output_type": "display_data"
    },
    {
     "data": {
      "image/png": "[encoded data removed]",
      "text/plain": [
       "<Figure size 86.4x108 with 1 Axes>"
      ]
     },
     "metadata": {},
     "output_type": "display_data"
    },
    {
     "data": {
      "image/png": "[encoded data removed]",
      "text/plain": [
       "<Figure size 86.4x108 with 1 Axes>"
      ]
     },
     "metadata": {},
     "output_type": "display_data"
    }
   ],
   "source": [
    "##########################\n",
    "# split params for each animal by column in plots\n",
    "##########################\n",
    "\n",
    "hfig,ax = create_fig_tuning()\n",
    "g = sns.stripplot(x = 'animal', y = 'stretch', data=well_fit,ax=ax,jitter=0.3,size=sqrt(10),alpha = 0.65)\n",
    "g.set(xticklabels=['i','ii','iii','iv'])\n",
    "ax.set_ylabel('Stretch (a)')\n",
    "ax.set_xlabel('fish')\n",
    "sns.despine()\n",
    "figsave(figure_folder,'Fig3_ParamsStretch')\n",
    "\n",
    "\n",
    "hfig,ax = create_fig_tuning()\n",
    "g = sns.stripplot(x = 'animal', y = 'tau', data=well_fit,ax=ax,jitter=0.3,size=sqrt(10),alpha = 0.65)\n",
    "g.set(xticklabels=['i','ii','iii','iv'])\n",
    "ax.set_ylabel('Tau (k)')\n",
    "ax.set_xlabel('')\n",
    "sns.despine()\n",
    "figsave(figure_folder,'Fig3_ParamsTau')\n",
    "\n",
    "\n",
    "hfig,ax = create_fig_tuning()\n",
    "g = sns.stripplot(x = 'animal', y = 'offset', data=well_fit,ax=ax,jitter=0.3,size=sqrt(10),alpha = 0.65)\n",
    "g.set(xticklabels=['i','ii','iii','iv'])\n",
    "ax.set_ylabel('Offset (b)')\n",
    "ax.set_xlabel('')\n",
    "sns.despine()\n",
    "figsave(figure_folder,'Fig3_ParamsOffset')\n",
    "\n"
   ]
  },
  {
   "cell_type": "markdown",
   "metadata": {},
   "source": [
    "## MODEL: DGC"
   ]
  },
  {
   "cell_type": "markdown",
   "metadata": {},
   "source": [
    "###  initialize model specific for DGC"
   ]
  },
  {
   "cell_type": "code",
   "execution_count": 27,
   "metadata": {},
   "outputs": [],
   "source": [
    "namespace_sim = reset_namespace_defaults()\n",
    "\n",
    "namespace_sim['Cm'] = 6*pF\n",
    "namespace_sim['w_e'] = 0.1*nS\n",
    "namespace_sim['N_inputs'] = 8\n",
    "namespace_sim['e_lmi_delay'] = 2\n",
    "namespace_sim['maxas'] = 3.5 \n",
    "namespace_sim['minas'] = 0 \n",
    "namespace_sim['midpt'] = 2 \n",
    "namespace_sim['slp'] = 3\n",
    "\n",
    "x = np.asarray([-10,-5,0,5,10,20,30,40])"
   ]
  },
  {
   "cell_type": "markdown",
   "metadata": {
    "heading_collapsed": true
   },
   "source": [
    "### set inhibition to False (0); get example wavs and scatter data"
   ]
  },
  {
   "cell_type": "code",
   "execution_count": 45,
   "metadata": {
    "hidden": true
   },
   "outputs": [
    {
     "data": {
      "image/png": "[encoded data removed]",
      "text/plain": [
       "<Figure size 108x108 with 1 Axes>"
      ]
     },
     "metadata": {},
     "output_type": "display_data"
    }
   ],
   "source": [
    "namespace_sim['w_e_lmi'] = 0\n",
    "namespace_sim['N_runs'] = 1\n",
    "\n",
    "net, namespace_sim = initialize_model(namespace_sim)\n",
    "net.store('intialized',filename=sim_filepath)\n",
    "\n",
    "xtime,R_wavs = example_ampshift_wavs(x,net,namespace_sim,sim_filepath)\n",
    "\n",
    "hfig,ax = create_fig()\n",
    "colinds = plt.cm.plasma(np.linspace(0.2,0.85,11))\n",
    "colinds = array([c for c in reversed(colinds)])\n",
    "R_wavs = array([sweep for sweep in reversed(R_wavs.T)]).T\n",
    "for i,sweep in enumerate(R_wavs.T):\n",
    "    ax.plot(xtime,sweep-sweep[0],color = colinds[i+3],lw = 0.5);\n",
    "ax.set_xlim(0,50)\n",
    "ax.set_xticks([0,10])\n",
    "ax.set_yticks([5,10])\n",
    "ax.vlines(5,0,5)\n",
    "\n",
    "figsave(figure_folder,'Fig3_ExampleModel_deep_NoInhib')\n",
    "\n",
    "# multiple runs to get amp readout estimate\n",
    "namespace_sim['N_runs'] = 15\n",
    "\n",
    "net, namespace_sim = initialize_model(namespace_sim)\n",
    "net.store('intialized',filename=sim_filepath)\n",
    "\n",
    "x, R_amp = model_ampshift(x,net,namespace_sim,sim_filepath)\n",
    "R_norm_deep_noinhib = np.asarray([r/np.max(r) for r in R_amp.T]).T"
   ]
  },
  {
   "cell_type": "markdown",
   "metadata": {
    "heading_collapsed": true
   },
   "source": [
    "### set inhibition to True (1); get example wavs and scatter data"
   ]
  },
  {
   "cell_type": "code",
   "execution_count": 48,
   "metadata": {
    "hidden": true
   },
   "outputs": [
    {
     "data": {
      "image/png": "[encoded data removed]",
      "text/plain": [
       "<Figure size 108x108 with 1 Axes>"
      ]
     },
     "metadata": {},
     "output_type": "display_data"
    }
   ],
   "source": [
    "namespace_sim['w_e_lmi'] = 1\n",
    "\n",
    "#sinlge run to get example wavs\n",
    "namespace_sim['N_runs'] = 1\n",
    "\n",
    "net, namespace_sim = initialize_model(namespace_sim)\n",
    "net.store('intialized',filename=sim_filepath)\n",
    "\n",
    "xtime,R_wavs = example_ampshift_wavs(x,net,namespace_sim,sim_filepath)\n",
    "\n",
    "hfig,ax = create_fig()\n",
    "colinds = plt.cm.plasma(np.linspace(0.2,0.85,11))\n",
    "colinds = array([c for c in reversed(colinds)])\n",
    "R_wavs = array([sweep for sweep in reversed(R_wavs.T)]).T\n",
    "for i,sweep in enumerate(R_wavs.T):\n",
    "    ax.plot(xtime,sweep-sweep[0],color = colinds[i],lw = 0.5);\n",
    "ax.set_xlim(0,50)\n",
    "ax.set_xticks([0,10])\n",
    "ax.set_yticks([5,10])\n",
    "ax.vlines(5,0,5)\n",
    "\n",
    "figsave(figure_folder,'Fig3_ExampleModel_deep_WithInhib')\n",
    "\n",
    "# multiple runs to get amp readout\n",
    "namespace_sim['N_runs'] = 15\n",
    "\n",
    "net, namespace_sim = initialize_model(namespace_sim)\n",
    "net.store('intialized',filename=sim_filepath)\n",
    "\n",
    "x, R_amp = model_ampshift(x,net,namespace_sim,sim_filepath)\n",
    "R_norm_deep_inhib = np.asarray([r/np.max(r) for r in R_amp.T]).T"
   ]
  },
  {
   "cell_type": "markdown",
   "metadata": {
    "hidden": true
   },
   "source": [
    "#### plot scatter of model (+/- inhib) against data"
   ]
  },
  {
   "cell_type": "code",
   "execution_count": 30,
   "metadata": {
    "hidden": true
   },
   "outputs": [
    {
     "data": {
      "image/png": "[encoded data removed]",
      "text/plain": [
       "<Figure size 86.4x108 with 1 Axes>"
      ]
     },
     "metadata": {},
     "output_type": "display_data"
    }
   ],
   "source": [
    "hfig,ax = create_fig_tuning()\n",
    "plt.errorbar(stim_ampshift[restrict_inds],\n",
    "             np.mean(R_ampshift_norm_dgrc,0)[restrict_inds],\n",
    "             yerr=stats.sem(R_ampshift_norm_dgrc,0)[restrict_inds],\n",
    "             linestyle=\"None\",color = 'brown', capsize=2)\n",
    "ax.scatter(stim_ampshift[restrict_inds],np.mean(R_ampshift_norm_dgrc,0)[restrict_inds],color = 'brown',s = 10)\n",
    "plt.errorbar(x,np.mean(R_norm_deep_noinhib,1),yerr=stats.sem(R_norm_deep_noinhib,1),linestyle=\"None\",color = 'black', capsize=2)\n",
    "ax.scatter(x,np.mean(R_norm_deep_noinhib,1),color = 'black',s=10)\n",
    "plt.errorbar(x,np.mean(R_norm_deep_inhib,1),yerr=stats.sem(R_norm_deep_inhib,1),linestyle=\"None\",color = 'blue', capsize=2)\n",
    "ax.scatter(x,np.mean(R_norm_deep_inhib,1),color = 'blue',s=10)\n",
    "ax.set_ylabel('Mean peak response \\n (normalized)',linespacing=0.75)\n",
    "ax.set_xlabel('Stimulus amplitude \\n (% change)',linespacing=0.75)\n",
    "ax.set_xlim(-17,47)\n",
    "xticks([0,20,40]);\n",
    "plt.ylim(0.3,1.05)\n",
    "sns.despine(hfig)\n",
    "figsave(figure_folder,'Fig3_deep_norm_inhibVSnot')"
   ]
  },
  {
   "cell_type": "markdown",
   "metadata": {
    "heading_collapsed": true
   },
   "source": [
    "### in what way does model not capture response amplitude amplification? ...plot raw amplitudes (rather than normalized) and compare"
   ]
  },
  {
   "cell_type": "code",
   "execution_count": 19,
   "metadata": {
    "hidden": true
   },
   "outputs": [],
   "source": [
    "x = np.asarray([-40,-30,-20,-10,-5,0,5,10,20,30,40])\n",
    "\n",
    "namespace_sim['N_runs'] = 15\n",
    "namespace_sim['w_e_lmi'] = 1\n",
    "\n",
    "net, namespace_sim = initialize_model(namespace_sim)\n",
    "net.store('intialized',filename=sim_filepath)\n",
    "\n",
    "x, R_amp = model_ampshift(x,net,namespace_sim,sim_filepath)\n",
    "\n",
    "hfig,ax = create_fig_tuning()\n",
    "plt.errorbar(stim_ampshift,np.mean(R_ampshift_dgrc,0),yerr=stats.sem(R_ampshift_dgrc,0),linestyle=\"None\",color = 'brown', capsize=2)\n",
    "ax.scatter(stim_ampshift,np.mean(R_ampshift_dgrc,0),color = 'brown',s = 10)\n",
    "plt.errorbar(x,np.mean(R_amp,1),yerr=stats.sem(R_amp,1),linestyle=\"None\",color = 'blue', capsize=2)\n",
    "ax.scatter(x,np.mean(R_amp,1),color = 'blue',s=10)\n",
    "ax.set_ylabel('Mean peak response (mV)',linespacing=0.75)\n",
    "ax.set_xlabel('Stimulus amplitude \\n (% change)',linespacing=0.75)\n",
    "ax.set_xlim(-47,47)\n",
    "xticks([-40,-20,0,20,40]);\n",
    "# plt.ylim(0.3,1.05)\n",
    "sns.despine(hfig)\n",
    "figsave(figure_folder,'Fig3_deep_absolute_modelVSdata')"
   ]
  },
  {
   "cell_type": "markdown",
   "metadata": {
    "heading_collapsed": true
   },
   "source": [
    "### dependence of effect on cell model parameters"
   ]
  },
  {
   "cell_type": "code",
   "execution_count": null,
   "metadata": {
    "hidden": true
   },
   "outputs": [],
   "source": [
    "x = np.asarray([-10,-5,0,5,10,20,30,40])"
   ]
  },
  {
   "cell_type": "markdown",
   "metadata": {
    "hidden": true
   },
   "source": [
    "#### Cm"
   ]
  },
  {
   "cell_type": "code",
   "execution_count": 71,
   "metadata": {
    "hidden": true
   },
   "outputs": [],
   "source": [
    "Cm = [2,4,6,8,10,12,14,16,18,20]\n",
    "R_norm = []\n",
    "for c in Cm:\n",
    "    namespace_sim = reset_namespace_defaults()\n",
    "\n",
    "    namespace_sim['Cm'] = c*pF\n",
    "    namespace_sim['w_e'] = 0.1*nS\n",
    "    namespace_sim['N_runs'] = 5\n",
    "    namespace_sim['N_inputs'] = 8\n",
    "    namespace_sim['w_e_lmi'] = 1\n",
    "    namespace_sim['e_lmi_delay'] = 2\n",
    "\n",
    "    net, namespace_sim = initialize_model(namespace_sim)\n",
    "    net.store('intialized',filename=sim_filepath)\n",
    "\n",
    "    x, R_amp = model_ampshift(x,net,namespace_sim,sim_filepath)\n",
    "    R_norm.append(np.mean(np.asarray([r/np.max(r) for r in R_amp.T]).T,1))\n",
    "R_norm = np.asarray(R_norm).T"
   ]
  },
  {
   "cell_type": "code",
   "execution_count": 73,
   "metadata": {
    "hidden": true
   },
   "outputs": [
    {
     "data": {
      "text/plain": [
       "<matplotlib.collections.PathCollection at 0x7fbff2c2e640>"
      ]
     },
     "execution_count": 73,
     "metadata": {},
     "output_type": "execute_result"
    },
    {
     "data": {
      "image/png": "[encoded data removed]",
      "text/plain": [
       "<Figure size 432x288 with 1 Axes>"
      ]
     },
     "metadata": {},
     "output_type": "display_data"
    },
    {
     "data": {
      "image/png": "[encoded data removed]",
      "text/plain": [
       "<Figure size 432x288 with 1 Axes>"
      ]
     },
     "metadata": {},
     "output_type": "display_data"
    }
   ],
   "source": [
    "colinds = plt.cm.plasma(np.linspace(0.2,0.85,np.shape(R_norm)[1]))\n",
    "\n",
    "for i,r in enumerate(R_norm.T):\n",
    "    plt.scatter(x,r,color = colinds[i])\n",
    "plt.ylim(0,1)\n",
    "\n",
    "plt.figure()\n",
    "plt.scatter(Cm,array([r[-1]-r[0] for r in R_norm.T]))"
   ]
  },
  {
   "cell_type": "markdown",
   "metadata": {
    "hidden": true
   },
   "source": [
    "#### tau rise"
   ]
  },
  {
   "cell_type": "code",
   "execution_count": 59,
   "metadata": {
    "hidden": true
   },
   "outputs": [],
   "source": [
    "rise = [1,2,3,4,5,6,7,8,9,10]\n",
    "R_norm = []\n",
    "for r in rise:\n",
    "    namespace_sim = reset_namespace_defaults()\n",
    "    namespace_sim['taue_1'] = r*ms\n",
    "    namespace_sim['Cm'] = 12*pF\n",
    "    namespace_sim['w_e'] = 0.1*nS\n",
    "    namespace_sim['N_runs'] = 5\n",
    "    namespace_sim['N_inputs'] = 8\n",
    "    namespace_sim['w_e_lmi'] = 1\n",
    "    namespace_sim['e_lmi_delay'] = 2\n",
    "\n",
    "    net, namespace_sim = initialize_model(namespace_sim)\n",
    "    net.store('intialized',filename=sim_filepath)\n",
    "\n",
    "    x = np.asarray([-10,-5,0,5,10,20,30,40])\n",
    "    x, R_amp = model_ampshift(x,net,namespace_sim,sim_filepath)\n",
    "    R_norm.append(np.mean(np.asarray([r/np.max(r) for r in R_amp.T]).T,1))\n",
    "R_norm = np.asarray(R_norm).T"
   ]
  },
  {
   "cell_type": "code",
   "execution_count": 70,
   "metadata": {
    "hidden": true
   },
   "outputs": [
    {
     "data": {
      "text/plain": [
       "<matplotlib.collections.PathCollection at 0x7fbff289f280>"
      ]
     },
     "execution_count": 70,
     "metadata": {},
     "output_type": "execute_result"
    },
    {
     "data": {
      "image/png": "[encoded data removed]",
      "text/plain": [
       "<Figure size 432x288 with 1 Axes>"
      ]
     },
     "metadata": {},
     "output_type": "display_data"
    },
    {
     "data": {
      "image/png": "[encoded data removed]",
      "text/plain": [
       "<Figure size 432x288 with 1 Axes>"
      ]
     },
     "metadata": {},
     "output_type": "display_data"
    }
   ],
   "source": [
    "colinds = plt.cm.plasma(np.linspace(0.2,0.85,np.shape(R_norm)[1]))\n",
    "\n",
    "for i,r in enumerate(R_norm.T):\n",
    "    plt.scatter(x,r,color = colinds[i])\n",
    "plt.ylim(0,1)\n",
    "\n",
    "plt.figure()\n",
    "plt.scatter(rise,array([r[-1]-r[0] for r in R_norm.T]))\n",
    "# plt.scatter(rise,[np.max(np.diff(r)) for r in R_norm.T])"
   ]
  },
  {
   "cell_type": "markdown",
   "metadata": {},
   "source": [
    "## MODEL : SGC "
   ]
  },
  {
   "cell_type": "markdown",
   "metadata": {},
   "source": [
    "### model initialization; modify Cm and inhib dependence on Vm and tau_lmi"
   ]
  },
  {
   "cell_type": "code",
   "execution_count": 10,
   "metadata": {
    "code_folding": []
   },
   "outputs": [],
   "source": [
    "namespace_sim = reset_namespace_defaults()\n",
    "\n",
    "namespace_sim['Cm'] = 12*pF\n",
    "namespace_sim['w_e'] = 0.1*nS\n",
    "namespace_sim['N_inputs'] = 8\n",
    "namespace_sim['e_lmi_delay'] = 2\n",
    "namespace_sim['minas_'] = 1\n",
    "namespace_sim['maxas_'] = 1.75\n",
    "namespace_sim['midpt_'] = 1 #1\n",
    "namespace_sim['slp_'] = 3\n",
    "namespace_sim['tau_e_lmi'] = 10*ms\n",
    "\n",
    "x = np.asarray([-10,-5,0,5,10,20,30,40])"
   ]
  },
  {
   "cell_type": "markdown",
   "metadata": {
    "heading_collapsed": true
   },
   "source": [
    "### set inhibition to False(0); get example wavs and scatter data"
   ]
  },
  {
   "cell_type": "code",
   "execution_count": 195,
   "metadata": {
    "hidden": true
   },
   "outputs": [
    {
     "data": {
      "image/png": "[encoded data removed]",
      "text/plain": [
       "<Figure size 108x108 with 1 Axes>"
      ]
     },
     "metadata": {},
     "output_type": "display_data"
    }
   ],
   "source": [
    "namespace_sim['w_e_lmi'] = 0\n",
    "namespace_sim['N_runs'] = 1\n",
    "\n",
    "net, namespace_sim = initialize_model(namespace_sim)\n",
    "net.store('intialized',filename=sim_filepath)\n",
    "\n",
    "xtime,R_wavs = example_ampshift_wavs(x,net,namespace_sim,sim_filepath)\n",
    "\n",
    "hfig,ax = create_fig()\n",
    "colinds = plt.cm.plasma(np.linspace(0.2,0.85,np.shape(R_wavs)[1]))\n",
    "\n",
    "for i,sweep in enumerate(R_wavs.T):\n",
    "    ax.plot(xtime,sweep-sweep[0],color = colinds[i],lw = 0.5);\n",
    "ax.set_xlim(0,50)\n",
    "ax.set_xticks([0,10])\n",
    "ax.set_yticks([5,10])\n",
    "ax.vlines(5,0,5)\n",
    "\n",
    "\n",
    "figsave(figure_folder,'Fig3_ExampleModel_sup_NoInhib')\n",
    "\n",
    "\n",
    "# scatter data for multiple runs\n",
    "namespace_sim['N_runs'] = 15\n",
    "\n",
    "net, namespace_sim = initialize_model(namespace_sim)\n",
    "net.store('intialized',filename=sim_filepath)\n",
    "\n",
    "x, R_amp = model_ampshift(x,net,namespace_sim,sim_filepath)\n",
    "R_norm_sup_noinhib = np.asarray([r/np.max(r) for r in R_amp.T]).T"
   ]
  },
  {
   "cell_type": "markdown",
   "metadata": {
    "heading_collapsed": true
   },
   "source": [
    "### set inhibition to True(1); get example waves and scatter data"
   ]
  },
  {
   "cell_type": "code",
   "execution_count": 155,
   "metadata": {
    "hidden": true
   },
   "outputs": [
    {
     "data": {
      "image/png": "[encoded data removed]",
      "text/plain": [
       "<Figure size 108x108 with 1 Axes>"
      ]
     },
     "metadata": {},
     "output_type": "display_data"
    }
   ],
   "source": [
    "namespace_sim['N_runs'] = 1\n",
    "namespace_sim['w_e_lmi'] = 1\n",
    "\n",
    "net, namespace_sim = initialize_model(namespace_sim)\n",
    "net.store('intialized',filename=sim_filepath)\n",
    " \n",
    "\n",
    "xtime,R_wavs = example_ampshift_wavs(x,net,namespace_sim,sim_filepath)\n",
    "\n",
    "hfig,ax = create_fig()\n",
    "colinds = plt.cm.plasma(np.linspace(0.2,0.85,np.shape(R_wavs)[1]))\n",
    "\n",
    "for i,sweep in enumerate(R_wavs.T):\n",
    "    ax.plot(xtime,sweep-sweep[0],color = colinds[i],lw = 0.5);\n",
    "ax.set_xlim(0,50)\n",
    "ax.set_xticks([0,10])\n",
    "ax.set_yticks([5,10])\n",
    "ax.vlines(5,0,5)\n",
    "\n",
    "\n",
    "figsave(figure_folder,'Fig3_ExampleModel_sup_WithInhib_max1p75')\n",
    "\n",
    "# multiple runs to get amp radout estimat\n",
    "namespace_sim['N_runs'] = 1\n",
    "\n",
    "net, namespace_sim = initialize_model(namespace_sim)\n",
    "net.store('intialized',filename=sim_filepath)\n",
    "\n",
    "x, R_amp = model_ampshift(x,net,namespace_sim,sim_filepath)\n",
    "R_norm_sup_inhib = np.asarray([r/np.max(r) for r in R_amp.T]).T"
   ]
  },
  {
   "cell_type": "markdown",
   "metadata": {
    "heading_collapsed": true
   },
   "source": [
    "### plot scatter of model (+/- inhib) against data"
   ]
  },
  {
   "cell_type": "code",
   "execution_count": 19,
   "metadata": {
    "hidden": true
   },
   "outputs": [
    {
     "data": {
      "image/png": "[encoded data removed]",
      "text/plain": [
       "<Figure size 86.4x108 with 1 Axes>"
      ]
     },
     "metadata": {},
     "output_type": "display_data"
    }
   ],
   "source": [
    "hfig,ax = create_fig_tuning()\n",
    "plt.errorbar(stim_ampshift,np.mean(R_ampshift_norm_sgrc,0),yerr=stats.sem(R_ampshift_norm_sgrc,0),linestyle=\"None\",color = 'red', capsize=2)\n",
    "ax.scatter(stim_ampshift[restrict_inds],np.mean(R_ampshift_norm_sgrc,0)[restrict_inds],color = 'red',s = 10)\n",
    "plt.errorbar(x,np.mean(R_norm_sup_noinhib,1),yerr=stats.sem(R_norm_sup_noinhib,1),linestyle=\"None\",color = 'black', capsize=2)\n",
    "ax.scatter(x,np.mean(R_norm_sup_noinhib,1),color = 'black',s=10)\n",
    "plt.errorbar(x,np.mean(R_norm_sup_inhib,1),yerr=stats.sem(R_norm_sup_inhib,1),linestyle=\"None\",color = 'blue', capsize=2)\n",
    "ax.scatter(x,np.mean(R_norm_sup_inhib,1),color = 'blue',s=10)\n",
    "ax.set_ylabel('Mean peak response \\n (normalized)',linespacing=0.75)\n",
    "ax.set_xlabel('Stimulus amplitude \\n (% change)',linespacing=0.75)\n",
    "ax.set_xlim(-17,47)\n",
    "xticks([0,20,40]);\n",
    "ax.set_ylim(0.3,1.05)\n",
    "sns.despine(hfig)\n",
    "figsave(figure_folder,'Fig3_sup_norm_inhibVSnot_max1p75')"
   ]
  },
  {
   "cell_type": "markdown",
   "metadata": {},
   "source": [
    "### dependence of effect on cell model parameters"
   ]
  },
  {
   "cell_type": "markdown",
   "metadata": {
    "heading_collapsed": true
   },
   "source": [
    "#### tau lmi"
   ]
  },
  {
   "cell_type": "code",
   "execution_count": 140,
   "metadata": {
    "hidden": true
   },
   "outputs": [
    {
     "data": {
      "text/plain": [
       "<matplotlib.collections.PathCollection at 0x7fbff0174700>"
      ]
     },
     "execution_count": 140,
     "metadata": {},
     "output_type": "execute_result"
    },
    {
     "data": {
      "image/png": "[encoded data removed]",
      "text/plain": [
       "<Figure size 432x288 with 1 Axes>"
      ]
     },
     "metadata": {},
     "output_type": "display_data"
    },
    {
     "data": {
      "image/png": "[encoded data removed]",
      "text/plain": [
       "<Figure size 432x288 with 1 Axes>"
      ]
     },
     "metadata": {},
     "output_type": "display_data"
    }
   ],
   "source": [
    "v_ = np.arange(2,20,2)\n",
    "R_norm = []\n",
    "for v in v_:\n",
    "    namespace_sim['tau_e_lmi'] = v*ms\n",
    "\n",
    "    net, namespace_sim = initialize_model(namespace_sim)\n",
    "    net.store('intialized',filename=sim_filepath)\n",
    "\n",
    "    x = np.asarray([-10,-5,0,5,10,20,30,40])\n",
    "    x, R_amp = model_ampshift(x,net,namespace_sim,sim_filepath)\n",
    "    R_norm.append(np.mean(np.asarray([r/np.max(r) for r in R_amp.T]).T,1))\n",
    "R_norm = np.asarray(R_norm).T\n",
    "\n",
    "colinds = plt.cm.plasma(np.linspace(0.2,0.85,np.shape(R_norm)[1]))\n",
    "for i,r in enumerate(R_norm.T):\n",
    "    plt.scatter(x,r,color = colinds[i])\n",
    "plt.ylim(0,1)\n",
    "\n",
    "plt.figure()\n",
    "plt.scatter(v_,array([r[-1]-r[0] for r in R_norm.T]))"
   ]
  },
  {
   "cell_type": "markdown",
   "metadata": {
    "heading_collapsed": true
   },
   "source": [
    "#### maximum asymptote of inhibition synapse weight"
   ]
  },
  {
   "cell_type": "code",
   "execution_count": 85,
   "metadata": {
    "hidden": true
   },
   "outputs": [],
   "source": [
    "v_ = np.arange(1,4,0.5)\n",
    "R_norm = []\n",
    "\n",
    "namespace_sim = reset_namespace_defaults()\n",
    "\n",
    "namespace_sim['Cm'] = 12*pF\n",
    "namespace_sim['w_e'] = 0.1*nS\n",
    "namespace_sim['N_runs'] = 10\n",
    "namespace_sim['N_inputs'] = 8\n",
    "namespace_sim['w_e_lmi'] = 1\n",
    "namespace_sim['e_lmi_delay'] = 2\n",
    "namespace_sim['minas_'] = 1\n",
    "for v in v_:\n",
    "    namespace_sim['maxas_'] = v\n",
    "\n",
    "    net, namespace_sim = initialize_model(namespace_sim)\n",
    "    net.store('intialized',filename=sim_filepath)\n",
    "\n",
    "    x = np.asarray([-10,-5,0,5,10,20,30,40])\n",
    "    x, R_amp = model_ampshift(x,net,namespace_sim,sim_filepath)\n",
    "    R_norm.append(np.mean(np.asarray([r/np.max(r) for r in R_amp.T]).T,1))\n",
    "R_norm = np.asarray(R_norm).T"
   ]
  },
  {
   "cell_type": "code",
   "execution_count": 86,
   "metadata": {
    "hidden": true
   },
   "outputs": [
    {
     "data": {
      "text/plain": [
       "<matplotlib.collections.PathCollection at 0x7fbff03bce20>"
      ]
     },
     "execution_count": 86,
     "metadata": {},
     "output_type": "execute_result"
    },
    {
     "data": {
      "image/png": "[encoded data removed]",
      "text/plain": [
       "<Figure size 432x288 with 1 Axes>"
      ]
     },
     "metadata": {},
     "output_type": "display_data"
    },
    {
     "data": {
      "image/png": "[encoded data removed]",
      "text/plain": [
       "<Figure size 432x288 with 1 Axes>"
      ]
     },
     "metadata": {},
     "output_type": "display_data"
    }
   ],
   "source": [
    "colinds = plt.cm.plasma(np.linspace(0.2,0.85,np.shape(R_norm)[1]))\n",
    "\n",
    "for i,r in enumerate(R_norm.T):\n",
    "    plt.scatter(x,r,color = colinds[i])\n",
    "plt.ylim(0,1)\n",
    "plt.figure()\n",
    "plt.scatter(v_,array([r[-1]-r[0] for r in R_norm.T]))"
   ]
  },
  {
   "cell_type": "markdown",
   "metadata": {
    "heading_collapsed": true
   },
   "source": [
    "#### Cm"
   ]
  },
  {
   "cell_type": "code",
   "execution_count": 47,
   "metadata": {
    "hidden": true
   },
   "outputs": [],
   "source": [
    "Cm = [2,4,6,8,10,12,14,16,18,20]\n",
    "R_norm = []\n",
    "for c in Cm:\n",
    "    namespace_sim = reset_namespace_defaults()\n",
    "\n",
    "    namespace_sim['Cm'] = c*pF\n",
    "    namespace_sim['w_e'] = 0.1*nS\n",
    "    namespace_sim['N_runs'] = 5\n",
    "    namespace_sim['N_inputs'] = 8\n",
    "    namespace_sim['w_e_lmi'] = 1\n",
    "    namespace_sim['e_lmi_delay'] = 2\n",
    "\n",
    "    net, namespace_sim = initialize_model(namespace_sim)\n",
    "    net.store('intialized',filename=sim_filepath)\n",
    "\n",
    "    x = np.asarray([-10,-5,0,5,10,20,30,40])\n",
    "    x, R_amp = model_ampshift(x,net,namespace_sim,sim_filepath)\n",
    "    R_norm.append(np.mean(np.asarray([r/np.max(r) for r in R_amp.T]).T,1))\n",
    "R_norm = np.asarray(R_norm).T"
   ]
  },
  {
   "cell_type": "code",
   "execution_count": 52,
   "metadata": {
    "hidden": true
   },
   "outputs": [
    {
     "data": {
      "text/plain": [
       "(0.0, 1.0)"
      ]
     },
     "execution_count": 52,
     "metadata": {},
     "output_type": "execute_result"
    },
    {
     "data": {
      "image/png": "[encoded data removed]",
      "text/plain": [
       "<Figure size 432x288 with 1 Axes>"
      ]
     },
     "metadata": {},
     "output_type": "display_data"
    }
   ],
   "source": [
    "colinds = plt.cm.plasma(np.linspace(0.2,0.85,np.shape(R_norm)[1]))\n",
    "\n",
    "for i,r in enumerate(R_norm.T):\n",
    "    plt.scatter(x,r,color = colinds[i])\n",
    "plt.ylim(0,1)"
   ]
  },
  {
   "cell_type": "markdown",
   "metadata": {
    "heading_collapsed": true
   },
   "source": [
    "#### tau rise"
   ]
  },
  {
   "cell_type": "code",
   "execution_count": 53,
   "metadata": {
    "hidden": true
   },
   "outputs": [],
   "source": [
    "rise = [1,2,3,4,5,6,7,8,9,10]\n",
    "R_norm = []\n",
    "for r in rise:\n",
    "    namespace_sim = reset_namespace_defaults()\n",
    "    namespace_sim['taue_1'] = r*ms\n",
    "    namespace_sim['Cm'] = 12*pF\n",
    "    namespace_sim['w_e'] = 0.1*nS\n",
    "    namespace_sim['N_runs'] = 5\n",
    "    namespace_sim['N_inputs'] = 8\n",
    "    namespace_sim['w_e_lmi'] = 1\n",
    "    namespace_sim['e_lmi_delay'] = 2\n",
    "\n",
    "    net, namespace_sim = initialize_model(namespace_sim)\n",
    "    net.store('intialized',filename=sim_filepath)\n",
    "\n",
    "    x = np.asarray([-10,-5,0,5,10,20,30,40])\n",
    "    x, R_amp = model_ampshift(x,net,namespace_sim,sim_filepath)\n",
    "    R_norm.append(np.mean(np.asarray([r/np.max(r) for r in R_amp.T]).T,1))\n",
    "R_norm = np.asarray(R_norm).T"
   ]
  },
  {
   "cell_type": "code",
   "execution_count": 55,
   "metadata": {
    "hidden": true
   },
   "outputs": [
    {
     "data": {
      "image/png": "[encoded data removed]",
      "text/plain": [
       "<Figure size 432x288 with 1 Axes>"
      ]
     },
     "metadata": {},
     "output_type": "display_data"
    }
   ],
   "source": [
    "colinds = plt.cm.plasma(np.linspace(0.2,0.85,np.shape(R_norm)[1]))\n",
    "\n",
    "for i,r in enumerate(R_norm.T):\n",
    "    plt.scatter(x,r,color = colinds[i])\n",
    "# plt.ylim(0,1)"
   ]
  },
  {
   "cell_type": "markdown",
   "metadata": {},
   "source": [
    "## multiple spikes "
   ]
  },
  {
   "cell_type": "markdown",
   "metadata": {},
   "source": [
    "### import csv data for each animal containing all afferent spikes"
   ]
  },
  {
   "cell_type": "code",
   "execution_count": null,
   "metadata": {},
   "outputs": [],
   "source": [
    "# created using ipynb 'Afferent_MultiSpikeConcern'\n",
    "meta_df = pd.DataFrame\n",
    "meta_df.append(pd.read_csv('DF_Afferent_MultiSpikePop_20200129.csv'))\n",
    "meta_df.append(pd.read_csv('DF_Afferent_MultiSpikePop_20200204.csv'))\n",
    "meta_df.append(pd.read_csv('DF_Afferent_MultiSpikePop_20200531.csv'))\n",
    "meta_df.append(pd.read_csv('DF_Afferent_MultiSpikePop_20200621.csv'))"
   ]
  },
  {
   "cell_type": "markdown",
   "metadata": {},
   "source": [
    "### for each afferent and spike number, fit params"
   ]
  },
  {
   "cell_type": "code",
   "execution_count": null,
   "metadata": {},
   "outputs": [],
   "source": [
    "params_df = pd.DataFrame(columns = ['a','k','b','cell','spk'])\n",
    "for name in np.unique(meta_df['exptname']):\n",
    "#     hfig,ax = create_fig_tuning()\n",
    "    # name = np.unique(meta_df.exptname)[0]\n",
    "    exptdf = meta_df[meta_df['exptname']==name]\n",
    "    for spkt in ['s0t','s1t','s2t']:\n",
    "        spkdf = exptdf[['ampshift',spkt]].dropna(0)\n",
    "    \n",
    "        if len(np.unique(spkdf['ampshift']))>=5: #if at least x stim that resopnds to, try to fit data\n",
    "            x_data = spkdf['ampshift'].values\n",
    "            y_data =  spkdf[spkt].values\n",
    "            spk_thresh = np.max(y_data)\n",
    "            params, params_covariance = optimize.curve_fit(exp_fit, x_data, y_data, \n",
    "                                                           p0=[1,-0.05, 3],\n",
    "                                                           bounds = ([0,-1,1],[np.inf,0,10]),\n",
    "                                                           maxfev=1000)\n",
    "        if len(np.unique(spkdf['ampshift']))<5:\n",
    "            params = [np.NaN,np.NaN,np.NaN]\n",
    "            \n",
    "        cell_df = {\n",
    "            'a' : params[0],\n",
    "            'k' : params[1],\n",
    "            'b' : params[2],\n",
    "            'cell' : name,\n",
    "            'spk' : spkt[1]\n",
    "        }\n",
    "        params_df = params_df.append(cell_df,ignore_index=True)"
   ]
  },
  {
   "cell_type": "markdown",
   "metadata": {},
   "source": [
    "### example afferents first and second spike scatters"
   ]
  },
  {
   "cell_type": "code",
   "execution_count": null,
   "metadata": {},
   "outputs": [],
   "source": [
    "spk0_data = {}\n",
    "spk1_data = {}\n",
    "for name in np.unique(meta_df['exptname']):\n",
    "    exptdf = meta_df[meta_df['exptname']==name]\n",
    "    \n",
    "    spkt = 's0t'\n",
    "    spkdf = exptdf[['ampshift',spkt]]\n",
    "    t_ = spkdf.groupby('ampshift')[spkt].mean().values\n",
    "    spk0_data[name]=t_\n",
    "    \n",
    "    spkt = 's1t'\n",
    "    spkdf = exptdf[['ampshift',spkt]]\n",
    "    t_ = spkdf.groupby('ampshift')[spkt].mean().values\n",
    "    spk1_data[name]=t_"
   ]
  },
  {
   "cell_type": "code",
   "execution_count": null,
   "metadata": {},
   "outputs": [],
   "source": [
    "hfig,ax = create_fig_tuning()\n",
    "\n",
    "name = '20200531_020'\n",
    "ax.scatter(amps,spk0_data[name],color = 'orange',s=10)\n",
    "ax.scatter(amps,spk1_data[name],color = 'purple',s=10)\n",
    "\n",
    "name = '20200531_024'\n",
    "ax.scatter(amps,spk0_data[name],color = 'orange',facecolors='none',s=10)\n",
    "ax.scatter(amps,spk1_data[name],color = 'purple',facecolors='none',s=10)\n",
    "\n",
    "plt.ylim(2,10)\n",
    "\n",
    "ax.set_ylabel('Spike latency (ms)',linespacing=0.75)\n",
    "ax.set_xlabel('Stimulus amplitude \\n (% change)',linespacing=0.75)\n",
    "ax.set_xlim(-47,47)\n",
    "xticks([-40,-20,0,20,40]);\n",
    "ax.set_ylim(2,12)\n",
    "sns.despine(hfig)\n",
    "figsave(figure_folder,'Supp_MultSpikes_TuningCurves_ExampleCells')"
   ]
  },
  {
   "cell_type": "markdown",
   "metadata": {},
   "source": [
    "### tuning across afferents and within afferents"
   ]
  },
  {
   "cell_type": "code",
   "execution_count": null,
   "metadata": {},
   "outputs": [],
   "source": [
    "min_n_spikes = 5\n",
    "\n",
    "across = []\n",
    "tuning0 = []\n",
    "for i,x in enumerate(np.unique(meta_df['exptname'])):\n",
    "    for j,y in enumerate(np.unique(meta_df['exptname'])):\n",
    "        if j>i:\n",
    "            if ((len(spk0_data[x][~isnan(spk0_data[x])])>min_n_spikes) & \n",
    "                (len(spk0_data[y][~isnan(spk0_data[y])])>min_n_spikes)):\n",
    "                if ((len(spk1_data[x][~isnan(spk1_data[x])])>min_n_spikes) & \n",
    "                    (len(spk1_data[y][~isnan(spk1_data[y])])>min_n_spikes)):\n",
    "                    tuning0.append(spk0_data[x])\n",
    "                    \n",
    "                    if spk0_data[x][-1]>spk0_data[y][-1]:\n",
    "                        across.append(spk0_data[x]-spk0_data[y])\n",
    "        #                 across.append(spk1_data[x]-spk1_data[y])\n",
    "                    if spk0_data[y][-1]>spk0_data[x][-1]:\n",
    "                        across.append(spk0_data[y]-spk0_data[x])\n",
    "        #                 across.append(spk1_data[y]-spk1_data[x])\n",
    "tuning0 = array(tuning0).T\n",
    "across = array(across).T\n",
    "\n",
    "within = []\n",
    "tuning1 = []\n",
    "for i,x in enumerate(np.unique(meta_df['exptname'])):\n",
    "    if ((len(spk0_data[x][~isnan(spk0_data[x])])>min_n_spikes)):\n",
    "        if ((len(spk1_data[x][~isnan(spk1_data[x])])>min_n_spikes)):\n",
    "            tuning1.append(spk1_data[x])\n",
    "            within.append(spk1_data[x]-spk0_data[x])\n",
    "tuning1 = array(tuning1).T\n",
    "within = array(within).T"
   ]
  },
  {
   "cell_type": "code",
   "execution_count": null,
   "metadata": {},
   "outputs": [],
   "source": [
    "hfig,ax = create_fig_tuning()\n",
    "x = meta_df.groupby('ampshift').mean().index\n",
    "ax.plot(x,np.nanmean(tuning0,1),color = 'orange')\n",
    "ax.fill_between(x,\n",
    "                np.nanmean(tuning0,1)-stats.sem(tuning0,1,nan_policy='omit'),\n",
    "                np.nanmean(tuning0,1)+stats.sem(tuning0,1,nan_policy='omit'),\n",
    "                color = 'orange',alpha = 0.25\n",
    "               )\n",
    "ax.plot(x,np.nanmean(tuning1,1),color = 'purple')\n",
    "ax.fill_between(x,\n",
    "                np.nanmean(tuning1,1)-stats.sem(tuning1,1,nan_policy='omit'),\n",
    "                np.nanmean(tuning1,1)+stats.sem(tuning1,1,nan_policy='omit'),\n",
    "                color = 'purple',alpha = 0.25\n",
    "               )\n",
    "ax.set_ylabel('Spike latency (ms)',linespacing=0.75)\n",
    "ax.set_xlabel('Stimulus amplitude \\n (% change)',linespacing=0.75)\n",
    "ax.set_xlim(-47,47)\n",
    "xticks([-40,-20,0,20,40]);\n",
    "ax.set_ylim(2,8)\n",
    "sns.despine(hfig)\n",
    "figsave(figure_folder,'Supp_MultSpikes_TuningCurves_FirstVSSecondSpike')"
   ]
  },
  {
   "cell_type": "code",
   "execution_count": null,
   "metadata": {},
   "outputs": [],
   "source": [
    "hfig,ax = create_fig_tuning()\n",
    "\n",
    "x = meta_df.groupby('ampshift').mean().index\n",
    "ax.plot(x,np.nanmean(within,1),color = 'gray');\n",
    "ax.fill_between(x,\n",
    "                np.nanmean(within,1)-stats.sem(within,1,nan_policy='omit'),\n",
    "                np.nanmean(within,1)+stats.sem(within,1,nan_policy='omit'),\n",
    "                color = 'gray',alpha = 0.25\n",
    "               )\n",
    "\n",
    "inds = x>-20\n",
    "ax.plot(x,np.nanmean(across,1),color = 'black');\n",
    "ax.fill_between(x,\n",
    "                np.nanmean(across,1)-stats.sem(across,1,nan_policy='omit'),\n",
    "                np.nanmean(across,1)+stats.sem(across,1,nan_policy='omit'),\n",
    "                color = 'black',alpha = 0.25\n",
    "               )\n",
    "\n",
    "ax.set_ylabel('Spike time difference (ms)',linespacing=0.75)\n",
    "ax.set_xlabel('Stimulus amplitude \\n (% change)',linespacing=0.75)\n",
    "ax.set_xlim(-47,47)\n",
    "xticks([-40,-20,0,20,40]);\n",
    "ax.set_ylim(0,3)\n",
    "sns.despine(hfig)\n",
    "figsave(figure_folder,'Supp_MultSpikes_TuningCurveDiff_WithinVSAcross')"
   ]
  },
  {
   "cell_type": "markdown",
   "metadata": {},
   "source": [
    "### example afferents from same animal to test model"
   ]
  },
  {
   "cell_type": "markdown",
   "metadata": {},
   "source": [
    "#### get arrays of all spikes and first spikes"
   ]
  },
  {
   "cell_type": "code",
   "execution_count": null,
   "metadata": {},
   "outputs": [],
   "source": [
    "input_id = {    \n",
    "    '20200129_002',\n",
    "    '20200129_004',\n",
    "    '20200129_005',\n",
    "    '20200129_006',\n",
    "    '20200129_007',\n",
    "    '20200129_008',\n",
    "    '20200129_010',\n",
    "    '20200129_011'\n",
    "             }\n",
    "x = [-10,-5,0,5,10,20,30,40]\n",
    "\n",
    "input_t_allspk = {}\n",
    "for a in x:\n",
    "    ampdf = meta_df[meta_df['ampshift']==a]\n",
    "    t = []\n",
    "    for name in input_id:\n",
    "        exptdf = ampdf[ampdf['exptname']==name]\n",
    "        for nspk in ['s0t','s1t','s2t']:\n",
    "            if len(exptdf[nspk].dropna()) > 0:\n",
    "                t.append(np.nanmean(exptdf[nspk]))\n",
    "    input_t_allspk.update({str(a) : array(t)})\n",
    "    \n",
    "input_t_firstspk = {}\n",
    "for a in x:\n",
    "    ampdf = meta_df[meta_df['ampshift']==a]\n",
    "    t = []\n",
    "    for name in input_id:\n",
    "        exptdf = ampdf[ampdf['exptname']==name]\n",
    "        for nspk in ['s0t']:\n",
    "            if len(exptdf[nspk].dropna()) > 0:\n",
    "                t.append(np.nanmean(exptdf[nspk]))\n",
    "    input_t_firstspk.update({str(a) : array(t)})\n",
    "    \n",
    "\n",
    "input_t_firsttwospk = {}\n",
    "for a in x:\n",
    "    ampdf = meta_df[meta_df['ampshift']==a]\n",
    "    t = []\n",
    "    for name in input_id:\n",
    "        exptdf = ampdf[ampdf['exptname']==name]\n",
    "        for nspk in ['s0t','s1t']:\n",
    "            if len(exptdf[nspk].dropna()) > 0:\n",
    "                t.append(np.nanmean(exptdf[nspk]))\n",
    "    input_t_firsttwospk.update({str(a) : array(t)})"
   ]
  },
  {
   "cell_type": "markdown",
   "metadata": {},
   "source": [
    "### DGC model"
   ]
  },
  {
   "cell_type": "markdown",
   "metadata": {},
   "source": [
    "#### initialize"
   ]
  },
  {
   "cell_type": "code",
   "execution_count": null,
   "metadata": {},
   "outputs": [],
   "source": [
    "namespace_sim = reset_namespace_defaults()\n",
    "\n",
    "namespace_sim['Cm'] = 6*pF\n",
    "namespace_sim['w_e'] = 0.1*nS\n",
    "namespace_sim['N_inputs'] = 8*3 #to account for up to 3 spikes in each afferent\n",
    "namespace_sim['N_runs'] = 1\n",
    "namespace_sim['w_e_lmi'] = 1\n",
    "namespace_sim['e_lmi_delay'] = 2\n",
    "namespace_sim['maxas'] = 3.5 \n",
    "namespace_sim['minas'] = 0 \n",
    "namespace_sim['midpt'] = 2 \n",
    "namespace_sim['slp'] = 3\n",
    "\n",
    "net, namespace_sim = initialize_model(namespace_sim)\n",
    "net.store('intialized',filename=sim_filepath)\n",
    "\n",
    "x = [-10,-5,0,5,10,20,30,40]"
   ]
  },
  {
   "cell_type": "markdown",
   "metadata": {},
   "source": [
    "#### first spike only"
   ]
  },
  {
   "cell_type": "code",
   "execution_count": null,
   "metadata": {},
   "outputs": [],
   "source": [
    "# with inhibition... first spike only            \n",
    "R_wavs = []\n",
    "R_amp_firstspk = []\n",
    "for a,t_ in input_t_firstspk.items():\n",
    "#     net.restore('intialized',filename=sim_filepath)\n",
    "    t_ = sort(t_) + + namespace_sim['aff_cmd_offset']\n",
    "    xtime,R = model_single_run(net,namespace_sim,sim_filepath,t_)\n",
    "    R_wavs.append(R-R[0])\n",
    "    R_amp_firstspk.append(R[np.argmax(R)]-R[0])\n",
    "R_amp_firstspk = np.asarray(R_amp_firstspk).T \n",
    "R_wavs = np.asarray(R_wavs).T    \n",
    "\n",
    "hfig,ax = create_fig()\n",
    "colinds = plt.cm.plasma(np.linspace(0.2,0.85,11))\n",
    "colinds = array([c for c in reversed(colinds)])\n",
    "R_wavs = array([sweep for sweep in reversed(R_wavs.T)]).T\n",
    "for i,sweep in enumerate(R_wavs.T):\n",
    "    ax.plot(xtime,sweep-sweep[0],color = colinds[i],lw = 0.5);\n",
    "ax.set_xlim(0,50)\n",
    "ax.set_xticks([0,10])\n",
    "ax.set_yticks([5,10])\n",
    "ax.vlines(5,0,5)\n",
    "\n",
    "figsave(figure_folder,'Supp_MultSpikes_Inhib_FirstSpk')"
   ]
  },
  {
   "cell_type": "markdown",
   "metadata": {},
   "source": [
    "#### all spikes"
   ]
  },
  {
   "cell_type": "code",
   "execution_count": null,
   "metadata": {},
   "outputs": [],
   "source": [
    "# with inhibition... all spikes           \n",
    "R_wavs = []\n",
    "R_amp_allspk = []\n",
    "for a,t_ in input_t_allspk.items():\n",
    "#     net.restore('intialized',filename=sim_filepath)\n",
    "    t_ = sort(t_) + + namespace_sim['aff_cmd_offset']\n",
    "    xtime,R = model_single_run(net,namespace_sim,sim_filepath,t_)\n",
    "    R_wavs.append(R-R[0])\n",
    "    R_amp_allspk.append(R[np.argmax(R)]-R[0])\n",
    "R_amp_allspk = np.asarray(R_amp_allspk).T \n",
    "R_wavs = np.asarray(R_wavs).T    \n",
    "\n",
    "hfig,ax = create_fig()\n",
    "colinds = plt.cm.plasma(np.linspace(0.2,0.85,11))\n",
    "colinds = array([c for c in reversed(colinds)])\n",
    "R_wavs = array([sweep for sweep in reversed(R_wavs.T)]).T\n",
    "for i,sweep in enumerate(R_wavs.T):\n",
    "    ax.plot(xtime,sweep-sweep[0],color = colinds[i],lw = 0.5);\n",
    "ax.set_xlim(0,50)\n",
    "ax.set_xticks([0,10])\n",
    "ax.set_yticks([5,10])\n",
    "ax.vlines(5,0,5)\n",
    "\n",
    "figsave(figure_folder,'Supp_MultSpikes_Inhib_AllSpk')"
   ]
  },
  {
   "cell_type": "markdown",
   "metadata": {},
   "source": [
    "#### first two spikes only"
   ]
  },
  {
   "cell_type": "code",
   "execution_count": null,
   "metadata": {},
   "outputs": [],
   "source": [
    "# without inhibition... first two spikes           \n",
    "R_wavs = []\n",
    "R_amp_firsttwospk = []\n",
    "for a,t_ in input_t_firsttwospk.items():\n",
    "#     net.restore('intialized',filename=sim_filepath)\n",
    "    t_ = sort(t_) + + namespace_sim['aff_cmd_offset']\n",
    "    xtime,R = model_single_run(net,namespace_sim,sim_filepath,t_)\n",
    "    R_wavs.append(R-R[0])\n",
    "    R_amp_firsttwospk.append(R[np.argmax(R)]-R[0])\n",
    "R_amp_firsttwospk = np.asarray(R_amp_firsttwospk).T \n",
    "R_wavs = np.asarray(R_wavs).T    \n",
    "\n",
    "hfig,ax = create_fig()\n",
    "colinds = plt.cm.plasma(np.linspace(0.2,0.85,11))\n",
    "colinds = array([c for c in reversed(colinds)])\n",
    "R_wavs = array([sweep for sweep in reversed(R_wavs.T)]).T\n",
    "for i,sweep in enumerate(R_wavs.T):\n",
    "    ax.plot(xtime,sweep-sweep[0],color = colinds[i],lw = 0.5);\n",
    "ax.set_xlim(0,50)\n",
    "ax.set_xticks([0,10])\n",
    "ax.set_yticks([5,10])\n",
    "ax.vlines(5,0,5)\n",
    "\n",
    "figsave(figure_folder,'Supp_MultSpikes_Inhib_FirstTwoSpk')"
   ]
  },
  {
   "cell_type": "markdown",
   "metadata": {},
   "source": [
    "#### plot results"
   ]
  },
  {
   "cell_type": "code",
   "execution_count": null,
   "metadata": {},
   "outputs": [],
   "source": [
    "hfig,ax = create_fig_tuning()\n",
    "ax.scatter(x,R_amp_firstspk,color = 'black')\n",
    "ax.scatter(x,R_amp_allspk,color = 'green')\n",
    "ax.scatter(x,R_amp_firsttwospk,color = 'blue')\n",
    "\n",
    "ax.set_ylabel('Mean peak response \\n (mV))',linespacing=0.75)\n",
    "ax.set_xlabel('Stimulus amplitude \\n (% change)',linespacing=0.75)\n",
    "ax.set_xlim(-17,47)\n",
    "xticks([0,20,40]);\n",
    "# ax.set_ylim(0.3,1.05)\n",
    "sns.despine(hfig)\n",
    "figsave(figure_folder,'Supp_MultSpikes_Inhib_Scatter')\n",
    "\n",
    "hfig,ax = create_fig_tuning()\n",
    "ax.scatter(x,R_amp_firstspk/np.max(R_amp_firstspk),color = 'black')\n",
    "ax.scatter(x,R_amp_allspk/np.max(R_amp_allspk),color = 'green')\n",
    "ax.scatter(x,R_amp_firsttwospk/np.max(R_amp_firsttwospk),color = 'blue')\n",
    "\n",
    "ax.set_ylabel('Mean peak response \\n (normalized)',linespacing=0.75)\n",
    "ax.set_xlabel('Stimulus amplitude \\n (% change)',linespacing=0.75)\n",
    "ax.set_xlim(-17,47)\n",
    "xticks([0,20,40]);\n",
    "ax.set_ylim(0.3,1.05)\n",
    "sns.despine(hfig)\n",
    "figsave(figure_folder,'Supp_MultSpikes_Inhib_Scatter_norm')\n"
   ]
  },
  {
   "cell_type": "markdown",
   "metadata": {},
   "source": [
    "### SGCC model"
   ]
  },
  {
   "cell_type": "markdown",
   "metadata": {},
   "source": [
    "#### initialize"
   ]
  },
  {
   "cell_type": "code",
   "execution_count": null,
   "metadata": {},
   "outputs": [],
   "source": [
    "# 'extreme' verion of SGC without any inhibition... then can play with weak inhibition too\n",
    "namespace_sim = reset_namespace_defaults()\n",
    "\n",
    "namespace_sim['Cm'] = 12*pF\n",
    "namespace_sim['w_e'] = 0.1*nS\n",
    "namespace_sim['N_inputs'] = 8*3\n",
    "namespace_sim['N_runs'] = 1\n",
    "namespace_sim['w_e_lmi'] = 0 \n",
    "namespace_sim['e_lmi_delay'] = 2\n",
    "namespace_sim['minas_'] = 1\n",
    "namespace_sim['maxas_'] = 1.75\n",
    "namespace_sim['midpt_'] = 1 \n",
    "namespace_sim['slp_'] = 3\n",
    "namespace_sim['tau_e_lmi'] = 10*ms\n",
    "\n",
    "net, namespace_sim = initialize_model(namespace_sim)\n",
    "net.store('intialized',filename=sim_filepath)"
   ]
  },
  {
   "cell_type": "markdown",
   "metadata": {},
   "source": [
    "#### first spike only"
   ]
  },
  {
   "cell_type": "code",
   "execution_count": null,
   "metadata": {},
   "outputs": [],
   "source": [
    "# without inhibition... first spike only            \n",
    "R_wavs = []\n",
    "R_amp_firstspk = []\n",
    "for a,t_ in input_t_firstspk.items():\n",
    "#     net.restore('intialized',filename=sim_filepath)\n",
    "    t_ = sort(t_) + + namespace_sim['aff_cmd_offset']\n",
    "    xtime,R = model_single_run(net,namespace_sim,sim_filepath,t_)\n",
    "    R_wavs.append(R-R[0])\n",
    "    R_amp_firstspk.append(R[np.argmax(R)]-R[0])\n",
    "R_amp_firstspk = np.asarray(R_amp_firstspk).T \n",
    "R_wavs = np.asarray(R_wavs).T    \n",
    "\n",
    "hfig,ax = create_fig()\n",
    "colinds = plt.cm.plasma(np.linspace(0.2,0.85,11))\n",
    "colinds = array([c for c in reversed(colinds)])\n",
    "R_wavs = array([sweep for sweep in reversed(R_wavs.T)]).T\n",
    "for i,sweep in enumerate(R_wavs.T):\n",
    "    ax.plot(xtime,sweep-sweep[0],color = colinds[i],lw = 0.5);\n",
    "ax.set_xlim(0,50)\n",
    "ax.set_xticks([0,10])\n",
    "ax.set_yticks([5,10])\n",
    "ax.vlines(5,0,5)\n",
    "\n",
    "figsave(figure_folder,'Supp_MultSpikes_NoInhib_FirstSpk')"
   ]
  },
  {
   "cell_type": "markdown",
   "metadata": {},
   "source": [
    "#### all spikes"
   ]
  },
  {
   "cell_type": "code",
   "execution_count": null,
   "metadata": {},
   "outputs": [],
   "source": [
    "# without inhibition... all spikes           \n",
    "R_wavs = []\n",
    "R_amp_allspk = []\n",
    "for a,t_ in input_t_allspk.items():\n",
    "#     net.restore('intialized',filename=sim_filepath)\n",
    "    t_ = sort(t_) + + namespace_sim['aff_cmd_offset']\n",
    "    xtime,R = model_single_run(net,namespace_sim,sim_filepath,t_)\n",
    "    R_wavs.append(R-R[0])\n",
    "    R_amp_allspk.append(R[np.argmax(R)]-R[0])\n",
    "R_amp_allspk = np.asarray(R_amp_allspk).T \n",
    "R_wavs = np.asarray(R_wavs).T    \n",
    "\n",
    "hfig,ax = create_fig()\n",
    "colinds = plt.cm.plasma(np.linspace(0.2,0.85,11))\n",
    "colinds = array([c for c in reversed(colinds)])\n",
    "R_wavs = array([sweep for sweep in reversed(R_wavs.T)]).T\n",
    "for i,sweep in enumerate(R_wavs.T):\n",
    "    ax.plot(xtime,sweep-sweep[0],color = colinds[i],lw = 0.5);\n",
    "ax.set_xlim(0,50)\n",
    "ax.set_xticks([0,10])\n",
    "ax.set_yticks([5,10])\n",
    "ax.vlines(5,0,5)\n",
    "\n",
    "figsave(figure_folder,'Supp_MultSpikes_NoInhib_AllSpk')"
   ]
  },
  {
   "cell_type": "markdown",
   "metadata": {},
   "source": [
    "#### first and second spike only"
   ]
  },
  {
   "cell_type": "code",
   "execution_count": null,
   "metadata": {},
   "outputs": [],
   "source": [
    "# without inhibition... first two spikes           \n",
    "R_wavs = []\n",
    "R_amp_firsttwospk = []\n",
    "for a,t_ in input_t_firsttwospk.items():\n",
    "#     net.restore('intialized',filename=sim_filepath)\n",
    "    t_ = sort(t_) + + namespace_sim['aff_cmd_offset']\n",
    "    xtime,R = model_single_run(net,namespace_sim,sim_filepath,t_)\n",
    "    R_wavs.append(R-R[0])\n",
    "    R_amp_firsttwospk.append(R[np.argmax(R)]-R[0])\n",
    "R_amp_firsttwospk = np.asarray(R_amp_firsttwospk).T \n",
    "R_wavs = np.asarray(R_wavs).T    \n",
    "\n",
    "hfig,ax = create_fig()\n",
    "colinds = plt.cm.plasma(np.linspace(0.2,0.85,11))\n",
    "colinds = array([c for c in reversed(colinds)])\n",
    "R_wavs = array([sweep for sweep in reversed(R_wavs.T)]).T\n",
    "for i,sweep in enumerate(R_wavs.T):\n",
    "    ax.plot(xtime,sweep-sweep[0],color = colinds[i],lw = 0.5);\n",
    "ax.set_xlim(0,50)\n",
    "ax.set_xticks([0,10])\n",
    "ax.set_yticks([5,10])\n",
    "ax.vlines(5,0,5)\n",
    "\n",
    "figsave(figure_folder,'Supp_MultSpikes_NoInhib_FirstTwoSpk')"
   ]
  },
  {
   "cell_type": "markdown",
   "metadata": {},
   "source": [
    "#### plot results"
   ]
  },
  {
   "cell_type": "code",
   "execution_count": null,
   "metadata": {},
   "outputs": [],
   "source": [
    "hfig,ax = create_fig_tuning()\n",
    "ax.scatter(x,R_amp_firstspk,color = 'black')\n",
    "ax.scatter(x,R_amp_allspk,color = 'green')\n",
    "ax.scatter(x,R_amp_firsttwospk,color = 'blue')\n",
    "\n",
    "ax.set_ylabel('Mean peak response \\n (mV))',linespacing=0.75)\n",
    "ax.set_xlabel('Stimulus amplitude \\n (% change)',linespacing=0.75)\n",
    "ax.set_xlim(-17,47)\n",
    "xticks([0,20,40]);\n",
    "# ax.set_ylim(0.3,1.05)\n",
    "sns.despine(hfig)\n",
    "figsave(figure_folder,'Supp_MultSpikes_NoInhib_Scatter')\n",
    "\n",
    "hfig,ax = create_fig_tuning()\n",
    "ax.scatter(x,R_amp_firstspk/np.max(R_amp_firstspk),color = 'black')\n",
    "ax.scatter(x,R_amp_allspk/np.max(R_amp_allspk),color = 'green')\n",
    "ax.scatter(x,R_amp_firsttwospk/np.max(R_amp_firsttwospk),color = 'blue')\n",
    "\n",
    "ax.set_ylabel('Mean peak response \\n (normalized)',linespacing=0.75)\n",
    "ax.set_xlabel('Stimulus amplitude \\n (% change)',linespacing=0.75)\n",
    "ax.set_xlim(-17,47)\n",
    "xticks([0,20,40]);\n",
    "ax.set_ylim(0.3,1.05)\n",
    "sns.despine(hfig)\n",
    "figsave(figure_folder,'Supp_MultSpikes_NoInhib_Scatter_norm')"
   ]
  },
  {
   "cell_type": "markdown",
   "metadata": {},
   "source": [
    "# FIGURE 4"
   ]
  },
  {
   "cell_type": "markdown",
   "metadata": {},
   "source": [
    "## import dataframe for GC properties (unsubtracted CvsU)"
   ]
  },
  {
   "cell_type": "code",
   "execution_count": 6,
   "metadata": {},
   "outputs": [],
   "source": [
    "path = Path.cwd().resolve().parents[0] / 'data_processed' / 'Figures_GRC_properties' / 'Unsubtracted_CvsU' / 'df_cmdintact'\n",
    "files = [e for e in path.iterdir() if e.is_file() and e.suffix=='.csv']\n",
    "keys = [f.name[0:-4] for f in sorted(files)]\n",
    "meta_df = pd.DataFrame(columns = None)\n",
    "for f in files:\n",
    "    thisdf = pd.read_csv(f)\n",
    "    meta_df = meta_df.append(thisdf,ignore_index = True)\n",
    "\n",
    "meta_df['cell_type'] = meta_df['exptname'].map(cell_type)"
   ]
  },
  {
   "cell_type": "code",
   "execution_count": 7,
   "metadata": {},
   "outputs": [],
   "source": [
    "grc_df = meta_df[(meta_df['cell_type']=='s') | (meta_df['cell_type']=='d')]"
   ]
  },
  {
   "cell_type": "markdown",
   "metadata": {},
   "source": [
    "## coupled versus prediction at baseline amp split by cell type"
   ]
  },
  {
   "cell_type": "code",
   "execution_count": 8,
   "metadata": {},
   "outputs": [
    {
     "data": {
      "image/png": "[encoded data removed]",
      "text/plain": [
       "<Figure size 86.4x108 with 1 Axes>"
      ]
     },
     "metadata": {},
     "output_type": "display_data"
    }
   ],
   "source": [
    "hfig,ax = create_fig_tuning()\n",
    "sns.despine(hfig)\n",
    "ax.hlines(0,-0.5,1.5,color = 'gray',lw = 1,linestyle='--')\n",
    "ax.set_xlim(-0.5,1.5)\n",
    "ax.set_ylim(-1,4.2)\n",
    "ax.set_ylabel('coupled - predicted \\n (normalized)',linespacing=0.75)\n",
    "ax.set_xticklabels('')\n",
    "sns.stripplot(y=(grc_df['c_epsp_amp']-grc_df['p_epsp_amp'])/grc_df['p_epsp_amp'],\n",
    "              x = grc_df['cell_type'],\n",
    "              palette = sns.color_palette(['red','brown']),\n",
    "             jitter=0.25,alpha = 0.75,s = sqrt(10))\n",
    "ax.set_xlabel('')\n",
    "ax.set_xticklabels(['SGC','DGC'])\n",
    "figsave(figure_folder,'Fig4_baseline_CDcoupleVpredict')"
   ]
  },
  {
   "cell_type": "markdown",
   "metadata": {},
   "source": [
    "## coupled versus uncoupled ampshift"
   ]
  },
  {
   "cell_type": "markdown",
   "metadata": {},
   "source": [
    "### SGC"
   ]
  },
  {
   "cell_type": "code",
   "execution_count": 23,
   "metadata": {},
   "outputs": [
    {
     "data": {
      "image/png": "[encoded data removed]",
      "text/plain": [
       "<Figure size 86.4x108 with 1 Axes>"
      ]
     },
     "metadata": {},
     "output_type": "display_data"
    },
    {
     "data": {
      "image/png": "[encoded data removed]",
      "text/plain": [
       "<Figure size 86.4x108 with 1 Axes>"
      ]
     },
     "metadata": {},
     "output_type": "display_data"
    },
    {
     "data": {
      "image/png": "[encoded data removed]",
      "text/plain": [
       "<Figure size 86.4x108 with 1 Axes>"
      ]
     },
     "metadata": {},
     "output_type": "display_data"
    }
   ],
   "source": [
    "#superficial grc\n",
    "# meta_df_uc = pd.read_csv('DF_update_sGRCPopulation_UncoupledAmpShift.csv')\n",
    "# meta_df_c = pd.read_csv('DF_sGRCPopulation_CoupledAmpShift.csv')\n",
    "meta_df_uc = pd.read_csv('DF_SGC_UncoupledAmpShift_revised10Sept.csv')\n",
    "meta_df_c = pd.read_csv('DF_SGC_CoupledAmpShift_revised10Sept.csv')\n",
    "\n",
    "R_ampshift_u = []\n",
    "R_ampshift_norm_u = []\n",
    "R_ampshift_c = []\n",
    "R_ampshift_norm_c = []\n",
    "for a in np.unique(meta_df_uc['exptname']):\n",
    "    subdf = meta_df_uc[meta_df_uc['exptname']==a].groupby('ampshift')\n",
    "    r = subdf.peakAmp.mean().values\n",
    "    R_ampshift_u.append(r)\n",
    "    r_scale = np.max(r)\n",
    "    r = r/r_scale\n",
    "    R_ampshift_norm_u.append(r)\n",
    "    \n",
    "    subdf = meta_df_c[meta_df_c['exptname']==a].groupby('ampshift')\n",
    "    r = subdf.peakAmp.mean().values\n",
    "    R_ampshift_c.append(r)\n",
    "    r = r/r_scale\n",
    "    R_ampshift_norm_c.append(r)\n",
    "    \n",
    "R_ampshift_u = np.asarray(R_ampshift_u)\n",
    "R_ampshift_norm_sgrc_u = np.asarray(R_ampshift_norm_u)\n",
    "R_ampshift_c = np.asarray(R_ampshift_c)\n",
    "R_ampshift_norm_sgrc_c = np.asarray(R_ampshift_norm_c)\n",
    "stim_ampshift = np.unique(meta_df_uc.ampshift)\n",
    "\n",
    "restrict_inds = stim_ampshift>-20\n",
    "hfig,ax = create_fig_tuning()\n",
    "# hfig = plt.figure(figsize = (4,6))\n",
    "# ax = hfig.add_axes([0.2,0.2,0.7,0.7])\n",
    "for expt_result in R_ampshift_norm_sgrc_u:\n",
    "    ax.plot(stim_ampshift[restrict_inds],expt_result[restrict_inds],linestyle='-',lw=1,color='black')#,marker='o',markersize=6)\n",
    "for expt_result in R_ampshift_norm_sgrc_c:\n",
    "    ax.plot(stim_ampshift[restrict_inds],expt_result[restrict_inds],linestyle='--',lw=1,color='black')#,marker='o',markersize=6)\n",
    "ax.set_ylabel('Peak response (normalized)')\n",
    "ax.set_xlabel('Stimulus amplitude \\n (% change)',linespacing=0.75)\n",
    "ax.set_xlim(-17,47)\n",
    "xticks([0,20,40]);\n",
    "figsave(figure_folder,'Fig4_sgrcTuningCurves_UvC')\n",
    "\n",
    "restrict_inds = stim_ampshift>-20\n",
    "hfig,ax = create_fig_tuning()\n",
    "ax.errorbar(stim_ampshift[restrict_inds],np.mean(R_ampshift_norm_sgrc_c[:,restrict_inds],0),\n",
    "            yerr=stats.sem(R_ampshift_norm_sgrc_c[:,restrict_inds],0),linestyle=\"None\",color = 'orange', capsize=2)\n",
    "ax.scatter(stim_ampshift[restrict_inds],np.mean(R_ampshift_norm_sgrc_c[:,restrict_inds],0),color = 'orange',s = 10)\n",
    "ax.errorbar(stim_ampshift[restrict_inds],np.mean(R_ampshift_norm_sgrc_u[:,restrict_inds],0),\n",
    "            yerr=stats.sem(R_ampshift_norm_sgrc_u[:,restrict_inds],0),linestyle=\"None\",color = 'green', capsize=2)\n",
    "ax.scatter(stim_ampshift[restrict_inds],np.mean(R_ampshift_norm_sgrc_u[:,restrict_inds],0),color = 'green',s = 10)\n",
    "ax.set_ylabel('Peak response (normalized)')\n",
    "ax.set_xlabel('Stimulus amplitude \\n (% change)',linespacing=0.75)\n",
    "ax.set_xlim(-17,47)\n",
    "xticks([0,20,40]);\n",
    "ax.set_ylim(0.3,1.6)\n",
    "sns.despine(hfig)\n",
    "figsave(figure_folder,'Fig4_sgrcTuningCurves_UvC_mean')\n",
    "\n",
    "dv_u = []\n",
    "for r in R_ampshift_u:\n",
    "    dv_u.append(r[restrict_inds][-1] - r[restrict_inds][0])\n",
    "dv_u = np.asarray(dv_u).T\n",
    "                \n",
    "dv_c = []\n",
    "for r in R_ampshift_c:\n",
    "    dv_c.append(r[restrict_inds][-1] - r[restrict_inds][0])\n",
    "dv_c = np.asarray(dv_c).T\n",
    "\n",
    "\n",
    "hfig,ax = create_fig_tuning()\n",
    "sns.boxplot(y=np.round(dv_c - dv_u), whis=np.inf,saturation = 0.5,ax=ax)\n",
    "ax.hlines(0,-1,1,linestyle = '--',color = 'gray')\n",
    "sns.stripplot(y=np.round(dv_c - dv_u),s= sqrt(10),color = 'black',jitter = 0.4,ax=ax)\n",
    "ax.set_ylabel('dv min/max \\n coupled-uncoupled (mV)',linespacing=0.75)\n",
    "ax.set_xlabel('Stimulus amplitude \\n (% change)',linespacing=0.75)\n",
    "figsave(figure_folder,'Fig4_sgrcTuningScatter_UvC')"
   ]
  },
  {
   "cell_type": "code",
   "execution_count": 24,
   "metadata": {},
   "outputs": [
    {
     "name": "stdout",
     "output_type": "stream",
     "text": [
      "uncoupled: mean mV change 8.7 sem 0.6\n",
      "coupled: mean mV change 16.1 sem 1.6\n"
     ]
    }
   ],
   "source": [
    "print('uncoupled: mean mV change ' + str(np.round(np.mean(dv_u),1)) + ' sem ' + str(np.round(stats.sem(dv_u),1)))\n",
    "print('coupled: mean mV change ' + str(np.round(np.mean(dv_c),1)) + ' sem ' + str(np.round(stats.sem(dv_c),1)))"
   ]
  },
  {
   "cell_type": "markdown",
   "metadata": {},
   "source": [
    "### DGC"
   ]
  },
  {
   "cell_type": "code",
   "execution_count": 12,
   "metadata": {},
   "outputs": [
    {
     "data": {
      "image/png": "[encoded data removed]",
      "text/plain": [
       "<Figure size 86.4x108 with 1 Axes>"
      ]
     },
     "metadata": {},
     "output_type": "display_data"
    },
    {
     "data": {
      "image/png": "[encoded data removed]",
      "text/plain": [
       "<Figure size 86.4x108 with 1 Axes>"
      ]
     },
     "metadata": {},
     "output_type": "display_data"
    },
    {
     "data": {
      "image/png": "[encoded data removed]",
      "text/plain": [
       "<Figure size 86.4x108 with 1 Axes>"
      ]
     },
     "metadata": {},
     "output_type": "display_data"
    }
   ],
   "source": [
    "#deep grc\n",
    "meta_df_uc = pd.read_csv('DF_DGC_UncoupledAmpShift_revised10Sept.csv')\n",
    "meta_df_c = pd.read_csv('DF_DGC_CoupledAmpShift_revised10Sept.csv')\n",
    "R_ampshift_u = []\n",
    "R_ampshift_norm_u = []\n",
    "R_ampshift_c = []\n",
    "R_ampshift_norm_c = []\n",
    "for a in np.unique(meta_df_uc['exptname']):\n",
    "    subdf = meta_df_uc[meta_df_uc['exptname']==a].groupby('ampshift')\n",
    "    r = subdf.peakAmp.mean().values\n",
    "    R_ampshift_u.append(r)\n",
    "    r_scale = np.max(r)\n",
    "    r = r/r_scale\n",
    "    R_ampshift_norm_u.append(r)\n",
    "    \n",
    "    subdf = meta_df_c[meta_df_c['exptname']==a].groupby('ampshift')\n",
    "    r = subdf.peakAmp.mean().values\n",
    "    R_ampshift_c.append(r)\n",
    "    r = r/r_scale\n",
    "    R_ampshift_norm_c.append(r)\n",
    "    \n",
    "R_ampshift_u = np.asarray(R_ampshift_u)\n",
    "R_ampshift_norm_sgrc_u = np.asarray(R_ampshift_norm_u)\n",
    "R_ampshift_c = np.asarray(R_ampshift_c)\n",
    "R_ampshift_norm_sgrc_c = np.asarray(R_ampshift_norm_c)\n",
    "stim_ampshift = np.unique(meta_df_uc.ampshift)\n",
    "\n",
    "restrict_inds = stim_ampshift>-20\n",
    "hfig,ax = create_fig_tuning()\n",
    "# hfig = plt.figure(figsize = (4,6))\n",
    "# ax = hfig.add_axes([0.2,0.2,0.7,0.7])\n",
    "for expt_result in R_ampshift_norm_sgrc_u:\n",
    "    ax.plot(stim_ampshift[restrict_inds],expt_result[restrict_inds],linestyle='-',lw=1,color='black')#,marker='o',markersize=6)\n",
    "for expt_result in R_ampshift_norm_sgrc_c:\n",
    "    ax.plot(stim_ampshift[restrict_inds],expt_result[restrict_inds],linestyle='--',lw=1,color='black')#,marker='o',markersize=6)\n",
    "ax.set_ylabel('Peak response (normalized)')\n",
    "ax.set_xlabel('Stimulus amplitude \\n (% change)',linespacing=0.75)\n",
    "ax.set_xlim(-17,47)\n",
    "xticks([0,20,40]);\n",
    "figsave(figure_folder,'Fig4_dgrcTuningCurves_UvC')\n",
    "\n",
    "restrict_inds = stim_ampshift>-20\n",
    "hfig,ax = create_fig_tuning()\n",
    "ax.errorbar(stim_ampshift[restrict_inds],np.mean(R_ampshift_norm_sgrc_c[:,restrict_inds],0),\n",
    "            yerr=stats.sem(R_ampshift_norm_sgrc_c[:,restrict_inds],0),linestyle=\"None\",color = 'orange', capsize=2)\n",
    "ax.scatter(stim_ampshift[restrict_inds],np.mean(R_ampshift_norm_sgrc_c[:,restrict_inds],0),color = 'orange',s = 10)\n",
    "ax.errorbar(stim_ampshift[restrict_inds],np.mean(R_ampshift_norm_sgrc_u[:,restrict_inds],0),\n",
    "            yerr=stats.sem(R_ampshift_norm_sgrc_u[:,restrict_inds],0),linestyle=\"None\",color = 'green', capsize=2)\n",
    "ax.scatter(stim_ampshift[restrict_inds],np.mean(R_ampshift_norm_sgrc_u[:,restrict_inds],0),color = 'green',s = 10)\n",
    "ax.set_ylabel('Peak response (normalized)')\n",
    "ax.set_xlabel('Stimulus amplitude \\n (% change)',linespacing=0.75)\n",
    "ax.set_xlim(-17,47)\n",
    "xticks([0,20,40]);\n",
    "ax.set_ylim(0.3,1.6)\n",
    "sns.despine(hfig)\n",
    "figsave(figure_folder,'Fig4_dgrcTuningCurves_UvC_mean')\n",
    "\n",
    "dv_u = []\n",
    "for r in R_ampshift_u:\n",
    "    dv_u.append(r[restrict_inds][-1] - r[restrict_inds][0])\n",
    "dv_u = np.asarray(dv_u).T\n",
    "                \n",
    "dv_c = []\n",
    "for r in R_ampshift_c:\n",
    "    dv_c.append(r[restrict_inds][-1] - r[restrict_inds][0])\n",
    "dv_c = np.asarray(dv_c).T\n",
    "\n",
    "\n",
    "hfig,ax = create_fig_tuning()\n",
    "sns.boxplot(y=np.round(dv_c - dv_u), whis=np.inf,saturation = 0.5,ax=ax)\n",
    "ax.hlines(0,-1,1,linestyle = '--',color = 'gray')\n",
    "sns.stripplot(y=np.round(dv_c - dv_u),s= sqrt(10),color = 'black',jitter = 0.4,ax=ax)\n",
    "ax.set_ylabel('dv min/max \\n coupled-uncoupled (mV)',linespacing=0.75)\n",
    "ax.set_xlabel('Stimulus amplitude \\n (% change)',linespacing=0.75)\n",
    "figsave(figure_folder,'Fig4_dgrcTuningScatter_UvC')"
   ]
  },
  {
   "cell_type": "code",
   "execution_count": 19,
   "metadata": {},
   "outputs": [
    {
     "name": "stdout",
     "output_type": "stream",
     "text": [
      "mean mV change 10.734546693981205 sem 3.3387383770804395\n"
     ]
    }
   ],
   "source": [
    "print('uncoupled: mean mV change ' + str(np.round(np.mean(dv_u),1)) + ' sem ' + str(np.round(stats.sem(dv_u),1)))\n",
    "print('coupled: mean mV change ' + str(np.round(np.mean(dv_c),1)) + ' sem ' + str(np.round(stats.sem(dv_c),1)))"
   ]
  },
  {
   "cell_type": "markdown",
   "metadata": {},
   "source": [
    "### Output E"
   ]
  },
  {
   "cell_type": "code",
   "execution_count": 25,
   "metadata": {},
   "outputs": [
    {
     "data": {
      "image/png": "[encoded data removed]",
      "text/plain": [
       "<Figure size 86.4x108 with 1 Axes>"
      ]
     },
     "metadata": {},
     "output_type": "display_data"
    },
    {
     "data": {
      "image/png": "[encoded data removed]",
      "text/plain": [
       "<Figure size 86.4x108 with 1 Axes>"
      ]
     },
     "metadata": {},
     "output_type": "display_data"
    },
    {
     "data": {
      "image/png": "[encoded data removed]",
      "text/plain": [
       "<Figure size 86.4x108 with 1 Axes>"
      ]
     },
     "metadata": {},
     "output_type": "display_data"
    }
   ],
   "source": [
    "#Output E\n",
    "meta_df_uc = pd.read_csv('DF_OutputEPopulation_SubUncoupledAmpShift.csv')\n",
    "meta_df_c = pd.read_csv('DF_OutputPopulation_CoupledAmpShift.csv')\n",
    "R_ampshift_u = []\n",
    "R_ampshift_norm_u = []\n",
    "R_ampshift_c = []\n",
    "R_ampshift_norm_c = []\n",
    "for a in np.unique(meta_df_uc['exptname']):\n",
    "    subdf = meta_df_uc[meta_df_uc['exptname']==a].groupby('ampshift')\n",
    "    r = subdf.pspamp.mean().values\n",
    "    R_ampshift_u.append(r)\n",
    "    r_scale = np.max(r)\n",
    "    r = r/r_scale\n",
    "    R_ampshift_norm_u.append(r)\n",
    "    \n",
    "    subdf = meta_df_c[meta_df_c['exptname']==a].groupby('ampshift')\n",
    "    r = subdf.pspamp.mean().values\n",
    "    R_ampshift_c.append(r)\n",
    "    r = r/r_scale\n",
    "    R_ampshift_norm_c.append(r)\n",
    "    \n",
    "R_ampshift_u = np.asarray(R_ampshift_u)\n",
    "R_ampshift_norm_sgrc_u = np.asarray(R_ampshift_norm_u)\n",
    "R_ampshift_c = np.asarray(R_ampshift_c)\n",
    "R_ampshift_norm_sgrc_c = np.asarray(R_ampshift_norm_c)\n",
    "stim_ampshift = np.unique(meta_df_uc.ampshift)\n",
    "\n",
    "restrict_inds = stim_ampshift>-20\n",
    "hfig,ax = create_fig_tuning()\n",
    "# hfig = plt.figure(figsize = (4,6))\n",
    "# ax = hfig.add_axes([0.2,0.2,0.7,0.7])\n",
    "for expt_result in R_ampshift_norm_sgrc_u:\n",
    "    ax.plot(stim_ampshift[restrict_inds],expt_result[restrict_inds],linestyle='-',lw=1,color='black')#,marker='o',markersize=6)\n",
    "for expt_result in R_ampshift_norm_sgrc_c:\n",
    "    ax.plot(stim_ampshift[restrict_inds],expt_result[restrict_inds],linestyle='--',lw=1,color='black')#,marker='o',markersize=6)\n",
    "ax.set_ylabel('Peak response (normalized)')\n",
    "ax.set_xlabel('Stimulus amplitude \\n (% change)',linespacing=0.75)\n",
    "ax.set_xlim(-17,47)\n",
    "xticks([0,20,40]);\n",
    "sns.despine(hfig)\n",
    "figsave(figure_folder,'Fig4_outputTuningCurves_UvC')\n",
    "\n",
    "restrict_inds = stim_ampshift>-20\n",
    "hfig,ax = create_fig_tuning()\n",
    "ax.errorbar(stim_ampshift[restrict_inds],np.mean(R_ampshift_norm_sgrc_c[:,restrict_inds],0),\n",
    "            yerr=stats.sem(R_ampshift_norm_sgrc_c[:,restrict_inds],0),linestyle=\"None\",color = 'orange', capsize=2)\n",
    "ax.scatter(stim_ampshift[restrict_inds],np.mean(R_ampshift_norm_sgrc_c[:,restrict_inds],0),color = 'orange',s = 10)\n",
    "ax.errorbar(stim_ampshift[restrict_inds],np.mean(R_ampshift_norm_sgrc_u[:,restrict_inds],0),\n",
    "            yerr=stats.sem(R_ampshift_norm_sgrc_u[:,restrict_inds],0),linestyle=\"None\",color = 'green', capsize=2)\n",
    "ax.scatter(stim_ampshift[restrict_inds],np.mean(R_ampshift_norm_sgrc_u[:,restrict_inds],0),color = 'green',s = 10)\n",
    "ax.set_ylabel('Peak response (normalized)')\n",
    "ax.set_xlabel('Stimulus amplitude \\n (% change)',linespacing=0.75)\n",
    "ax.set_xlim(-17,47)\n",
    "xticks([0,20,40]);\n",
    "sns.despine(hfig)\n",
    "figsave(figure_folder,'Fig4_outputTuningCurves_UvC_mean')\n",
    "\n",
    "dv_u = []\n",
    "for r in R_ampshift_u:\n",
    "    dv_u.append(r[restrict_inds][-1] - r[restrict_inds][0])\n",
    "dv_u = np.asarray(dv_u).T\n",
    "                \n",
    "dv_c = []\n",
    "for r in R_ampshift_c:\n",
    "    dv_c.append(r[restrict_inds][-1] - r[restrict_inds][0])\n",
    "dv_c = np.asarray(dv_c).T\n",
    "\n",
    "\n",
    "hfig,ax = create_fig_tuning()\n",
    "sns.boxplot(y=np.round(dv_c - dv_u), whis=np.inf,saturation = 0.5,ax=ax)\n",
    "ax.hlines(0,-1,1,linestyle = '--',color = 'gray')\n",
    "sns.stripplot(y=np.round(dv_c - dv_u),s= sqrt(10),color = 'black',jitter = 0.4,ax=ax)\n",
    "ax.set_ylabel('dv min/max \\n coupled-uncoupled (mV)',linespacing=0.75)\n",
    "ax.set_xlabel('Stimulus amplitude \\n (% change)',linespacing=0.75)\n",
    "figsave(figure_folder,'Fig4_outputTuningScatter_UvC')"
   ]
  },
  {
   "cell_type": "code",
   "execution_count": 26,
   "metadata": {},
   "outputs": [
    {
     "name": "stdout",
     "output_type": "stream",
     "text": [
      "uncoupled: mean mV change 6.0 sem 1.4\n",
      "coupled: mean mV change 8.8 sem 1.7\n"
     ]
    }
   ],
   "source": [
    "print('uncoupled: mean mV change ' + str(np.round(np.mean(dv_u),1)) + ' sem ' + str(np.round(stats.sem(dv_u),1)))\n",
    "print('coupled: mean mV change ' + str(np.round(np.mean(dv_c),1)) + ' sem ' + str(np.round(stats.sem(dv_c),1)))"
   ]
  },
  {
   "cell_type": "markdown",
   "metadata": {},
   "source": [
    "### example cells"
   ]
  },
  {
   "cell_type": "markdown",
   "metadata": {},
   "source": [
    "#### SGC 20200718_000"
   ]
  },
  {
   "cell_type": "code",
   "execution_count": 35,
   "metadata": {},
   "outputs": [
    {
     "data": {
      "image/png": "[encoded data removed]",
      "text/plain": [
       "<Figure size 108x108 with 1 Axes>"
      ]
     },
     "metadata": {},
     "output_type": "display_data"
    },
    {
     "data": {
      "image/png": "[encoded data removed]",
      "text/plain": [
       "<Figure size 108x108 with 1 Axes>"
      ]
     },
     "metadata": {},
     "output_type": "display_data"
    },
    {
     "data": {
      "image/png": "[encoded data removed]",
      "text/plain": [
       "<Figure size 108x108 with 1 Axes>"
      ]
     },
     "metadata": {},
     "output_type": "display_data"
    },
    {
     "data": {
      "image/png": "[encoded data removed]",
      "text/plain": [
       "<Figure size 108x108 with 1 Axes>"
      ]
     },
     "metadata": {},
     "output_type": "display_data"
    },
    {
     "data": {
      "image/png": "[encoded data removed]",
      "text/plain": [
       "<Figure size 86.4x108 with 1 Axes>"
      ]
     },
     "metadata": {},
     "output_type": "display_data"
    }
   ],
   "source": [
    "exptname = '20200718_000'\n",
    "colinds = plt.cm.plasma(np.linspace(0.2,0.85,11))\n",
    "# expt = AmpShift_Stable()\n",
    "# expt.load_expt(exptname, data_folder)\n",
    "dt = expt.get_dt('lowgain')\n",
    "expt.set_amps(11,[-40,-30,-20,-10,-5,0,5,10,20,30,40])\n",
    "expt.set_channels('CmdTrig','lowgain','spikes','SIU','DigMark')\n",
    "marker_df = expt.get_marker_table()\n",
    "\n",
    "# bias -65\n",
    "########\n",
    "bout_uc = [expt.get_bout_win('R','Keyboard')[0],\n",
    "          expt.get_bout_win('R','Keyboard')[1]]\n",
    "bout_c = [expt.get_bout_win('N','Keyboard')[0]]\n",
    "\n",
    "sweepdur = 0.05\n",
    "r_onset = int(0.006/dt)\n",
    "\n",
    "bout_df = expt.filter_marker_df_time(marker_df,bout_uc)\n",
    "trial_df = expt.filter_marker_df_code(bout_df,['T'])\n",
    "stim_t = trial_df.time.values\n",
    "\n",
    "eventDur = 0.001\n",
    "xtime,event_sweeps = expt.get_sweepsmat('SIU',trial_df['time'].values,eventDur)\n",
    "event_Amp = np.asarray([np.max(sweep) for sweep in event_sweeps.T])\n",
    "\n",
    "base_df = expt.filter_marker_df_code(bout_df,['U'])\n",
    "xtime,event_sweeps = expt.get_sweepsmat('SIU',base_df['time'].values,eventDur)\n",
    "event_0_Amp = np.median(np.asarray([np.max(sweep) for sweep in event_sweeps.T]))\n",
    "\n",
    "ampshift = np.asarray([np.round(((A/event_0_Amp)*100)-100) for A in event_Amp]).reshape(-1, 1)\n",
    "trial_df.insert(np.shape(trial_df)[1],'ampshift',ampshift)\n",
    "    \n",
    "trialmat = []\n",
    "for a in np.unique(trial_df['ampshift']):\n",
    "    theseT = trial_df[trial_df['ampshift']==a].time.values - 0.005\n",
    "    xtime, R = expt.get_sweepsmat('lowgain',theseT,sweepdur)\n",
    "    trialmat.append(np.mean(R,1))\n",
    "trialmat = np.asarray(trialmat).T \n",
    "trialmat = np.asarray([sweep-sweep[0] for sweep in trialmat.T]).T\n",
    "\n",
    "stim_ampshift = np.unique(trial_df['ampshift'])\n",
    "restrict_inds = stim_ampshift>-20\n",
    "\n",
    "hfig,ax = create_fig()\n",
    "colinds = plt.cm.plasma(np.linspace(0.2,0.85,11))\n",
    "colinds = array([c for c in reversed(colinds)])\n",
    "trialmat = trialmat[:,restrict_inds]\n",
    "trialmat = array([sweep for sweep in reversed(trialmat.T)]).T\n",
    "for i,sweep in enumerate(trialmat.T):\n",
    "    ax.plot(xtime,sweep,color = colinds[i],lw = 0.5);\n",
    "ax.set_xlim(0,50)\n",
    "ax.set_ylim(-5,35)\n",
    "ax.set_xticks([0,10])\n",
    "ax.set_yticks([5,15])\n",
    "ax.vlines(5,0,5)\n",
    "figsave(figure_folder,'Fig4_grcExample1_uncoupled')\n",
    "\n",
    "Ramp_uc = []\n",
    "for sweep in trialmat[r_onset:,:].T:\n",
    "    Ramp_uc.append(np.max(sweep))\n",
    "Ramp_uc = np.asarray(Ramp_uc)\n",
    "\n",
    "#get CD offset pre-coupled stim\n",
    "bout_df = expt.filter_marker_df_time(marker_df,bout_c)\n",
    "trial_df = expt.filter_marker_df_code(bout_df,['T'])\n",
    "stim_t = trial_df.time.values\n",
    "trial_df = expt.filter_marker_df_code(bout_df,['B'])\n",
    "cd_t = trial_df.time.values\n",
    "cd_offset = np.mean([s-np.max(cd_t[cd_t<s]) for s in stim_t])\n",
    "# offset = np.mean(stim_t-cd_t)\n",
    "\n",
    "#get CD response\n",
    "bout_df = expt.filter_marker_df_time(marker_df,bout_uc)\n",
    "\n",
    "trial_df = expt.filter_marker_df_code(bout_df,['U'])\n",
    "stim_t = trial_df.time.values\n",
    "trial_df = expt.filter_marker_df_code(bout_df,['B'])\n",
    "cd_t_all = trial_df.time.values\n",
    "cd_t = np.asarray([np.max(cd_t_all[cd_t_all<s]) for s in stim_t]) - (0.005 - cd_offset)\n",
    "\n",
    "xtime, R = expt.get_sweepsmat('lowgain',cd_t,sweepdur)\n",
    "cd_R = np.mean(R,1)-np.mean(R,1)[0]\n",
    "\n",
    "hfig,ax = create_fig()\n",
    "ax.plot(xtime,cd_R,color = 'black',lw = 0.5);\n",
    "ax.set_xlim(0,50)\n",
    "ax.set_ylim(-5,35)\n",
    "ax.set_xticks([0,10])\n",
    "ax.set_yticks([5,15])\n",
    "ax.vlines((0.005 - cd_offset)*1000,0,3)\n",
    "figsave(figure_folder,'Fig4_grcExample1_cd')\n",
    "\n",
    "Ramp_p = []\n",
    "cd_restrict = cd_R[r_onset:]\n",
    "for sweep in trialmat[r_onset:,:].T:\n",
    "    Ramp_p.append(np.max(sweep+cd_restrict))\n",
    "Ramp_p = np.asarray(Ramp_p)\n",
    "\n",
    "hfig,ax = create_fig()\n",
    "# colinds = plt.cm.plasma(np.linspace(0.2,0.85,11))\n",
    "# colinds = array([c for c in reversed(colinds)])\n",
    "# trialmat = trialmat[:,restrict_inds]\n",
    "# trialmat = array([sweep for sweep in reversed(trialmat.T)]).T\n",
    "for i,sweep in enumerate(trialmat.T):\n",
    "    ax.plot(xtime,sweep+cd_R,color = colinds[i],lw = 0.5);\n",
    "ax.set_xlim(0,50)\n",
    "ax.set_ylim(-5,35)\n",
    "ax.set_xticks([0,10])\n",
    "ax.set_yticks([5,15])\n",
    "ax.vlines(5,0,5)\n",
    "figsave(figure_folder,'Fig4_grcExample1_predicted')\n",
    "\n",
    "bout_df = expt.filter_marker_df_time(marker_df,bout_c)\n",
    "trial_df = expt.filter_marker_df_code(bout_df,['T'])\n",
    "stim_t = trial_df.time.values\n",
    "\n",
    "eventDur = 0.001\n",
    "xtime,event_sweeps = expt.get_sweepsmat('SIU',trial_df['time'].values,eventDur)\n",
    "event_Amp = np.asarray([np.max(sweep) for sweep in event_sweeps.T])\n",
    "\n",
    "base_df = expt.filter_marker_df_code(bout_df,['C'])\n",
    "xtime,event_sweeps = expt.get_sweepsmat('SIU',base_df['time'].values,eventDur)\n",
    "event_0_Amp = np.median(np.asarray([np.max(sweep) for sweep in event_sweeps.T]))\n",
    "\n",
    "ampshift = np.asarray([np.round(((A/event_0_Amp)*100)-100) for A in event_Amp]).reshape(-1, 1)\n",
    "trial_df.insert(np.shape(trial_df)[1],'ampshift',ampshift)\n",
    "    \n",
    "trialmat = []\n",
    "for a in np.unique(trial_df['ampshift']):\n",
    "    theseT = trial_df[trial_df['ampshift']==a].time.values - 0.005\n",
    "    xtime, R = expt.get_sweepsmat('lowgain',theseT,sweepdur)\n",
    "    trialmat.append(np.mean(R,1))\n",
    "trialmat = np.asarray(trialmat).T \n",
    "trialmat = np.asarray([sweep-sweep[0] for sweep in trialmat.T]).T\n",
    "\n",
    "hfig,ax = create_fig()\n",
    "trialmat = trialmat[:,restrict_inds]\n",
    "trialmat = array([sweep for sweep in reversed(trialmat.T)]).T\n",
    "for i,sweep in enumerate(trialmat.T):\n",
    "    ax.plot(xtime,sweep,color = colinds[i],lw = 0.5);\n",
    "ax.set_xlim(0,50)\n",
    "ax.set_ylim(-5,35)\n",
    "ax.set_xticks([0,10])\n",
    "ax.set_yticks([5,15])\n",
    "ax.vlines(5,0,5)\n",
    "figsave(figure_folder,'Fig4_grcExample1_coupled')\n",
    "\n",
    "Ramp_c = []\n",
    "for sweep in trialmat[r_onset:,:].T:\n",
    "    Ramp_c.append(np.max(sweep))\n",
    "Ramp_c = np.asarray(Ramp_c)\n",
    "\n",
    "hfig,ax = create_fig_tuning()\n",
    "plt.scatter(stim_ampshift[restrict_inds],[a for a in reversed(Ramp_uc)],color = 'green')\n",
    "plt.scatter(stim_ampshift[restrict_inds],[a for a in reversed(Ramp_p)],color = 'gray')\n",
    "plt.scatter(stim_ampshift[restrict_inds],[a for a in reversed(Ramp_c)],color = 'orange')\n",
    "ax.set_ylabel('Peak response (mV)')\n",
    "ax.set_xlabel('Stimulus amplitude \\n (% change)',linespacing=0.75)\n",
    "ax.set_xlim(-17,47)\n",
    "xticks([0,20,40]);\n",
    "sns.despine(hfig)\n",
    "figsave(figure_folder,'Fig4_grcExample1_scatter')"
   ]
  },
  {
   "cell_type": "markdown",
   "metadata": {},
   "source": [
    "#### DGC 20200719_004"
   ]
  },
  {
   "cell_type": "code",
   "execution_count": 36,
   "metadata": {},
   "outputs": [
    {
     "name": "stdout",
     "output_type": "stream",
     "text": [
      "/Users/kperks/mnt/engram/spikedata/data_raw/20200719/20200719_004.smr\n"
     ]
    },
    {
     "data": {
      "image/png": "[encoded data removed]",
      "text/plain": [
       "<Figure size 108x108 with 1 Axes>"
      ]
     },
     "metadata": {},
     "output_type": "display_data"
    },
    {
     "data": {
      "image/png": "[encoded data removed]",
      "text/plain": [
       "<Figure size 108x108 with 1 Axes>"
      ]
     },
     "metadata": {},
     "output_type": "display_data"
    },
    {
     "data": {
      "image/png": "[encoded data removed]",
      "text/plain": [
       "<Figure size 108x108 with 1 Axes>"
      ]
     },
     "metadata": {},
     "output_type": "display_data"
    },
    {
     "data": {
      "image/png": "[encoded data removed]",
      "text/plain": [
       "<Figure size 108x108 with 1 Axes>"
      ]
     },
     "metadata": {},
     "output_type": "display_data"
    },
    {
     "data": {
      "image/png": "[encoded data removed]",
      "text/plain": [
       "<Figure size 86.4x108 with 1 Axes>"
      ]
     },
     "metadata": {},
     "output_type": "display_data"
    }
   ],
   "source": [
    "exptname = '20200719_004'\n",
    "colinds = plt.cm.plasma(np.linspace(0.2,0.85,11))\n",
    "colinds = array([c for c in reversed(colinds)])\n",
    "expt = AmpShift_Stable()\n",
    "expt.load_expt(exptname, data_folder)\n",
    "dt = expt.get_dt('lowgain')\n",
    "expt.set_amps(11,[-40,-30,-20,-10,-5,0,5,10,20,30,40])\n",
    "expt.set_channels('CmdTrig','lowgain','spikes','SIU','DigMark')\n",
    "marker_df = expt.get_marker_table()\n",
    "\n",
    "#hyperpolarized\n",
    "bout_uc = [expt.get_bout_win('R','Keyboard')[3]]\n",
    "bout_c = [expt.get_bout_win('N','Keyboard')[1]]\n",
    "\n",
    "sweepdur = 0.05\n",
    "r_onset = int(0.006/dt)\n",
    "\n",
    "bout_df = expt.filter_marker_df_time(marker_df,bout_uc)\n",
    "trial_df = expt.filter_marker_df_code(bout_df,['T'])\n",
    "stim_t = trial_df.time.values\n",
    "\n",
    "eventDur = 0.001\n",
    "xtime,event_sweeps = expt.get_sweepsmat('SIU',trial_df['time'].values,eventDur)\n",
    "event_Amp = np.asarray([np.max(sweep) for sweep in event_sweeps.T])\n",
    "\n",
    "base_df = expt.filter_marker_df_code(bout_df,['U'])\n",
    "xtime,event_sweeps = expt.get_sweepsmat('SIU',base_df['time'].values,eventDur)\n",
    "event_0_Amp = np.median(np.asarray([np.max(sweep) for sweep in event_sweeps.T]))\n",
    "\n",
    "ampshift = np.asarray([np.round(((A/event_0_Amp)*100)-100) for A in event_Amp]).reshape(-1, 1)\n",
    "trial_df.insert(np.shape(trial_df)[1],'ampshift',ampshift)\n",
    "    \n",
    "trialmat = []\n",
    "for a in np.unique(trial_df['ampshift']):\n",
    "    theseT = trial_df[trial_df['ampshift']==a].time.values - 0.005\n",
    "    xtime, R = expt.get_sweepsmat('lowgain',theseT,sweepdur)\n",
    "    trialmat.append(np.mean(R,1))\n",
    "trialmat = np.asarray(trialmat).T \n",
    "trialmat = np.asarray([sweep-sweep[0] for sweep in trialmat.T]).T\n",
    "\n",
    "stim_ampshift = np.unique(trial_df['ampshift'])\n",
    "restrict_inds = stim_ampshift>-20\n",
    "\n",
    "hfig,ax = create_fig()\n",
    "trialmat = trialmat[:,restrict_inds]\n",
    "trialmat = array([sweep for sweep in reversed(trialmat.T)]).T\n",
    "for i,sweep in enumerate(trialmat.T):\n",
    "    ax.plot(xtime,sweep,color = colinds[i],lw = 0.5);\n",
    "ax.set_xlim(0,50)\n",
    "ax.set_ylim(-5,25)\n",
    "ax.set_xticks([0,10])\n",
    "ax.set_yticks([5,15])\n",
    "ax.vlines(5,0,5)\n",
    "figsave(figure_folder,'Fig4_grcExample2_uncoupled')\n",
    "\n",
    "Ramp_uc = []\n",
    "for sweep in trialmat[r_onset:,:].T:\n",
    "    Ramp_uc.append(np.max(sweep))\n",
    "Ramp_uc = np.asarray(Ramp_uc)\n",
    "\n",
    "#get CD offset pre-coupled stim\n",
    "bout_df = expt.filter_marker_df_time(marker_df,bout_c)\n",
    "trial_df = expt.filter_marker_df_code(bout_df,['T'])\n",
    "stim_t = trial_df.time.values\n",
    "trial_df = expt.filter_marker_df_code(bout_df,['B'])\n",
    "cd_t = trial_df.time.values\n",
    "cd_offset = np.mean([s-np.max(cd_t[cd_t<s]) for s in stim_t])\n",
    "# offset = np.mean(stim_t-cd_t)\n",
    "\n",
    "#get CD response\n",
    "bout_df = expt.filter_marker_df_time(marker_df,bout_uc)\n",
    "\n",
    "trial_df = expt.filter_marker_df_code(bout_df,['U'])\n",
    "stim_t = trial_df.time.values\n",
    "trial_df = expt.filter_marker_df_code(bout_df,['B'])\n",
    "cd_t_all = trial_df.time.values\n",
    "cd_t = np.asarray([np.max(cd_t_all[cd_t_all<s]) for s in stim_t]) - (0.005 - cd_offset)\n",
    "\n",
    "xtime, R = expt.get_sweepsmat('lowgain',cd_t,sweepdur)\n",
    "cd_R = np.mean(R,1)-np.mean(R,1)[0]\n",
    "\n",
    "hfig,ax = create_fig()\n",
    "ax.plot(xtime,cd_R,color = 'black',lw = 0.5);\n",
    "ax.set_xlim(0,50)\n",
    "ax.set_ylim(-5,25)\n",
    "ax.set_xticks([0,10])\n",
    "ax.set_yticks([5,15])\n",
    "ax.vlines((0.005 - cd_offset)*1000,0,3)\n",
    "figsave(figure_folder,'Fig4_grcExample2_cd')\n",
    "\n",
    "Ramp_p = []\n",
    "cd_restrict = cd_R[r_onset:]\n",
    "for sweep in trialmat[r_onset:,:].T:\n",
    "    Ramp_p.append(np.max(sweep+cd_restrict))\n",
    "Ramp_p = np.asarray(Ramp_p)\n",
    "\n",
    "hfig,ax = create_fig()\n",
    "for i,sweep in enumerate(trialmat.T):\n",
    "    ax.plot(xtime,sweep+cd_R,color = colinds[i],lw = 0.5);\n",
    "ax.set_xlim(0,50)\n",
    "ax.set_ylim(-5,25)\n",
    "ax.set_xticks([0,10])\n",
    "ax.set_yticks([5,15])\n",
    "ax.vlines(5,0,5)\n",
    "figsave(figure_folder,'Fig4_grcExample2_predicted')\n",
    "\n",
    "bout_df = expt.filter_marker_df_time(marker_df,bout_c)\n",
    "trial_df = expt.filter_marker_df_code(bout_df,['T'])\n",
    "stim_t = trial_df.time.values\n",
    "\n",
    "eventDur = 0.001\n",
    "xtime,event_sweeps = expt.get_sweepsmat('SIU',trial_df['time'].values,eventDur)\n",
    "event_Amp = np.asarray([np.max(sweep) for sweep in event_sweeps.T])\n",
    "\n",
    "base_df = expt.filter_marker_df_code(bout_df,['C'])\n",
    "xtime,event_sweeps = expt.get_sweepsmat('SIU',base_df['time'].values,eventDur)\n",
    "event_0_Amp = np.median(np.asarray([np.max(sweep) for sweep in event_sweeps.T]))\n",
    "\n",
    "ampshift = np.asarray([np.round(((A/event_0_Amp)*100)-100) for A in event_Amp]).reshape(-1, 1)\n",
    "trial_df.insert(np.shape(trial_df)[1],'ampshift',ampshift)\n",
    "    \n",
    "trialmat = []\n",
    "for a in np.unique(trial_df['ampshift']):\n",
    "    theseT = trial_df[trial_df['ampshift']==a].time.values - 0.005\n",
    "    xtime, R = expt.get_sweepsmat('lowgain',theseT,sweepdur)\n",
    "    trialmat.append(np.mean(R,1))\n",
    "trialmat = np.asarray(trialmat).T \n",
    "trialmat = np.asarray([sweep-sweep[0] for sweep in trialmat.T]).T\n",
    "\n",
    "hfig,ax = create_fig()\n",
    "trialmat = trialmat[:,restrict_inds]\n",
    "trialmat = array([sweep for sweep in reversed(trialmat.T)]).T\n",
    "for i,sweep in enumerate(trialmat.T):\n",
    "    ax.plot(xtime,sweep,color = colinds[i],lw = 0.5);\n",
    "ax.set_xlim(0,50)\n",
    "ax.set_ylim(-5,25)\n",
    "ax.set_xticks([0,10])\n",
    "ax.set_yticks([5,15])\n",
    "ax.vlines(5,0,5)\n",
    "figsave(figure_folder,'Fig4_grcExample2_coupled')\n",
    "\n",
    "Ramp_c = []\n",
    "for sweep in trialmat[r_onset:,:].T:\n",
    "    Ramp_c.append(np.max(sweep))\n",
    "Ramp_c = np.asarray(Ramp_c)\n",
    "\n",
    "hfig,ax = create_fig_tuning()\n",
    "plt.scatter(stim_ampshift[restrict_inds],[a for a in reversed(Ramp_uc)],color = 'green')\n",
    "plt.scatter(stim_ampshift[restrict_inds],[a for a in reversed(Ramp_p)],color = 'gray')\n",
    "plt.scatter(stim_ampshift[restrict_inds],[a for a in reversed(Ramp_c)],color = 'orange')\n",
    "ax.set_ylabel('Peak response (mV)')\n",
    "ax.set_xlabel('Stimulus amplitude \\n (% change)',linespacing=0.75)\n",
    "ax.set_xlim(-17,47)\n",
    "xticks([0,20,40]);\n",
    "sns.despine(hfig)\n",
    "figsave(figure_folder,'Fig4_grcExample2_scatter')\n",
    "\n"
   ]
  },
  {
   "cell_type": "markdown",
   "metadata": {},
   "source": [
    "#### DGC 20200607_002"
   ]
  },
  {
   "cell_type": "code",
   "execution_count": 37,
   "metadata": {},
   "outputs": [
    {
     "name": "stdout",
     "output_type": "stream",
     "text": [
      "/Users/kperks/mnt/engram/spikedata/data_raw/20200607/20200607_002.smr\n"
     ]
    },
    {
     "data": {
      "image/png": "[encoded data removed]",
      "text/plain": [
       "<Figure size 108x108 with 1 Axes>"
      ]
     },
     "metadata": {},
     "output_type": "display_data"
    },
    {
     "data": {
      "image/png": "[encoded data removed]",
      "text/plain": [
       "<Figure size 108x108 with 1 Axes>"
      ]
     },
     "metadata": {},
     "output_type": "display_data"
    },
    {
     "data": {
      "image/png": "[encoded data removed]",
      "text/plain": [
       "<Figure size 108x108 with 1 Axes>"
      ]
     },
     "metadata": {},
     "output_type": "display_data"
    },
    {
     "data": {
      "image/png": "[encoded data removed]",
      "text/plain": [
       "<Figure size 108x108 with 1 Axes>"
      ]
     },
     "metadata": {},
     "output_type": "display_data"
    },
    {
     "data": {
      "image/png": "[encoded data removed]",
      "text/plain": [
       "<Figure size 86.4x108 with 1 Axes>"
      ]
     },
     "metadata": {},
     "output_type": "display_data"
    }
   ],
   "source": [
    "exptname = '20200607_002'\n",
    "colinds = plt.cm.plasma(np.linspace(0.2,0.85,11))\n",
    "colinds = array([c for c in reversed(colinds)])\n",
    "expt = AmpShift_Stable()\n",
    "expt.load_expt(exptname, data_folder)\n",
    "dt = expt.get_dt('lowgain')\n",
    "expt.set_amps(11,[-40,-30,-20,-10,-5,0,5,10,20,30,40])\n",
    "expt.set_channels('CmdTrig','lowgain','spikes','SIU','DigMark')\n",
    "marker_df = expt.get_marker_table()\n",
    "\n",
    "bout_uc = [expt.get_bout_win('R','Keyboard')[0],\n",
    "           expt.get_bout_win('R','Keyboard')[1]]\n",
    "bout_c = [expt.get_bout_win('N','Keyboard')[0]]\n",
    "\n",
    "sweepdur = 0.05\n",
    "r_onset = int(0.006/dt)\n",
    "\n",
    "bout_df = expt.filter_marker_df_time(marker_df,bout_uc)\n",
    "trial_df = expt.filter_marker_df_code(bout_df,['T'])\n",
    "stim_t = trial_df.time.values\n",
    "\n",
    "eventDur = 0.001\n",
    "xtime,event_sweeps = expt.get_sweepsmat('SIU',trial_df['time'].values,eventDur)\n",
    "event_Amp = np.asarray([np.max(sweep) for sweep in event_sweeps.T])\n",
    "\n",
    "base_df = expt.filter_marker_df_code(bout_df,['U'])\n",
    "xtime,event_sweeps = expt.get_sweepsmat('SIU',base_df['time'].values,eventDur)\n",
    "event_0_Amp = np.median(np.asarray([np.max(sweep) for sweep in event_sweeps.T]))\n",
    "\n",
    "ampshift = np.asarray([np.round(((A/event_0_Amp)*100)-100) for A in event_Amp]).reshape(-1, 1)\n",
    "trial_df.insert(np.shape(trial_df)[1],'ampshift',ampshift)\n",
    "    \n",
    "trialmat = []\n",
    "for a in np.unique(trial_df['ampshift']):\n",
    "    theseT = trial_df[trial_df['ampshift']==a].time.values - 0.005\n",
    "    xtime, R = expt.get_sweepsmat('lowgain',theseT,sweepdur)\n",
    "    trialmat.append(np.mean(R,1))\n",
    "trialmat = np.asarray(trialmat).T \n",
    "trialmat = np.asarray([sweep-sweep[0] for sweep in trialmat.T]).T\n",
    "\n",
    "stim_ampshift = np.unique(trial_df['ampshift'])\n",
    "restrict_inds = stim_ampshift>-20\n",
    "\n",
    "hfig,ax = create_fig()\n",
    "trialmat = trialmat[:,restrict_inds]\n",
    "trialmat = array([sweep for sweep in reversed(trialmat.T)]).T\n",
    "for i,sweep in enumerate(trialmat.T):\n",
    "    ax.plot(xtime,sweep,color = colinds[i],lw = 0.5);\n",
    "ax.set_xlim(0,50)\n",
    "ax.set_ylim(-5,25)\n",
    "ax.set_xticks([0,10])\n",
    "ax.set_yticks([5,15])\n",
    "ax.vlines(5,0,5)\n",
    "figsave(figure_folder,'Fig4_grcExample3_uncoupled')\n",
    "\n",
    "Ramp_uc = []\n",
    "for sweep in trialmat[r_onset:,:].T:\n",
    "    Ramp_uc.append(np.max(sweep))\n",
    "Ramp_uc = np.asarray(Ramp_uc)\n",
    "\n",
    "#get CD offset pre-coupled stim\n",
    "bout_df = expt.filter_marker_df_time(marker_df,bout_c)\n",
    "trial_df = expt.filter_marker_df_code(bout_df,['T'])\n",
    "stim_t = trial_df.time.values\n",
    "trial_df = expt.filter_marker_df_code(bout_df,['B'])\n",
    "cd_t = trial_df.time.values\n",
    "cd_offset = np.mean([s-np.max(cd_t[cd_t<s]) for s in stim_t])\n",
    "# offset = np.mean(stim_t-cd_t)\n",
    "\n",
    "#get CD response\n",
    "bout_df = expt.filter_marker_df_time(marker_df,bout_uc)\n",
    "\n",
    "trial_df = expt.filter_marker_df_code(bout_df,['U'])\n",
    "stim_t = trial_df.time.values\n",
    "trial_df = expt.filter_marker_df_code(bout_df,['B'])\n",
    "cd_t_all = trial_df.time.values\n",
    "cd_t = np.asarray([np.max(cd_t_all[cd_t_all<s]) for s in stim_t]) - (0.005 - cd_offset)\n",
    "\n",
    "xtime, R = expt.get_sweepsmat('lowgain',cd_t,sweepdur)\n",
    "cd_R = np.mean(R,1)-np.mean(R,1)[0]\n",
    "\n",
    "hfig,ax = create_fig()\n",
    "ax.plot(xtime,cd_R,color = 'black',lw = 0.5);\n",
    "ax.set_xlim(0,50)\n",
    "ax.set_ylim(-5,25)\n",
    "ax.set_xticks([0,10])\n",
    "ax.set_yticks([5,15])\n",
    "ax.vlines((0.005 - cd_offset)*1000,0,3)\n",
    "figsave(figure_folder,'Fig4_grcExample3_cd')\n",
    "\n",
    "Ramp_p = []\n",
    "cd_restrict = cd_R[r_onset:]\n",
    "for sweep in trialmat[r_onset:,:].T:\n",
    "    Ramp_p.append(np.max(sweep+cd_restrict))\n",
    "Ramp_p = np.asarray(Ramp_p)\n",
    "\n",
    "hfig,ax = create_fig()\n",
    "for i,sweep in enumerate(trialmat.T):\n",
    "    ax.plot(xtime,sweep+cd_R,color = colinds[i],lw = 0.5);\n",
    "ax.set_xlim(0,50)\n",
    "ax.set_ylim(-5,25)\n",
    "ax.set_xticks([0,10])\n",
    "ax.set_yticks([5,15])\n",
    "ax.vlines(5,0,5)\n",
    "figsave(figure_folder,'Fig4_grcExample3_predicted')\n",
    "\n",
    "bout_df = expt.filter_marker_df_time(marker_df,bout_c)\n",
    "trial_df = expt.filter_marker_df_code(bout_df,['T'])\n",
    "stim_t = trial_df.time.values\n",
    "\n",
    "eventDur = 0.001\n",
    "xtime,event_sweeps = expt.get_sweepsmat('SIU',trial_df['time'].values,eventDur)\n",
    "event_Amp = np.asarray([np.max(sweep) for sweep in event_sweeps.T])\n",
    "\n",
    "base_df = expt.filter_marker_df_code(bout_df,['C'])\n",
    "xtime,event_sweeps = expt.get_sweepsmat('SIU',base_df['time'].values,eventDur)\n",
    "event_0_Amp = np.median(np.asarray([np.max(sweep) for sweep in event_sweeps.T]))\n",
    "\n",
    "ampshift = np.asarray([np.round(((A/event_0_Amp)*100)-100) for A in event_Amp]).reshape(-1, 1)\n",
    "trial_df.insert(np.shape(trial_df)[1],'ampshift',ampshift)\n",
    "    \n",
    "trialmat = []\n",
    "for a in np.unique(trial_df['ampshift']):\n",
    "    theseT = trial_df[trial_df['ampshift']==a].time.values - 0.005\n",
    "    xtime, R = expt.get_sweepsmat('lowgain',theseT,sweepdur)\n",
    "    trialmat.append(np.mean(R,1))\n",
    "trialmat = np.asarray(trialmat).T \n",
    "trialmat = np.asarray([sweep-sweep[0] for sweep in trialmat.T]).T\n",
    "\n",
    "hfig,ax = create_fig()\n",
    "trialmat = trialmat[:,restrict_inds]\n",
    "trialmat = array([sweep for sweep in reversed(trialmat.T)]).T\n",
    "for i,sweep in enumerate(trialmat.T):\n",
    "    ax.plot(xtime,sweep,color = colinds[i],lw = 0.5);\n",
    "ax.set_xlim(0,50)\n",
    "ax.set_ylim(-5,25)\n",
    "ax.set_xticks([0,10])\n",
    "ax.set_yticks([5,15])\n",
    "ax.vlines(5,0,5)\n",
    "figsave(figure_folder,'Fig4_grcExample3_coupled')\n",
    "\n",
    "Ramp_c = []\n",
    "for sweep in trialmat[r_onset:,:].T:\n",
    "    Ramp_c.append(np.max(sweep))\n",
    "Ramp_c = np.asarray(Ramp_c)\n",
    "\n",
    "hfig,ax = create_fig_tuning()\n",
    "plt.scatter(stim_ampshift[restrict_inds],[a for a in reversed(Ramp_uc)],color = 'green')\n",
    "plt.scatter(stim_ampshift[restrict_inds],[a for a in reversed(Ramp_p)],color = 'gray')\n",
    "plt.scatter(stim_ampshift[restrict_inds],[a for a in reversed(Ramp_c)],color = 'orange')\n",
    "ax.set_ylabel('Peak response (mV)')\n",
    "ax.set_xlabel('Stimulus amplitude \\n (% change)',linespacing=0.75)\n",
    "ax.set_xlim(-17,47)\n",
    "xticks([0,20,40]);\n",
    "sns.despine(hfig)\n",
    "figsave(figure_folder,'Fig4_grcExample3_scatter')\n",
    "\n"
   ]
  },
  {
   "cell_type": "markdown",
   "metadata": {},
   "source": [
    "#### output cell 20200614_002 (_ampshift)"
   ]
  },
  {
   "cell_type": "code",
   "execution_count": 38,
   "metadata": {},
   "outputs": [
    {
     "name": "stdout",
     "output_type": "stream",
     "text": [
      "/Users/kperks/mnt/engram/spikedata/data_raw/20200614/20200614_002_ampshift.smr\n"
     ]
    },
    {
     "data": {
      "image/png": "[encoded data removed]",
      "text/plain": [
       "<Figure size 108x108 with 1 Axes>"
      ]
     },
     "metadata": {},
     "output_type": "display_data"
    },
    {
     "data": {
      "image/png": "[encoded data removed]",
      "text/plain": [
       "<Figure size 108x108 with 1 Axes>"
      ]
     },
     "metadata": {},
     "output_type": "display_data"
    },
    {
     "data": {
      "image/png": "[encoded data removed]",
      "text/plain": [
       "<Figure size 108x108 with 1 Axes>"
      ]
     },
     "metadata": {},
     "output_type": "display_data"
    },
    {
     "data": {
      "image/png": "[encoded data removed]",
      "text/plain": [
       "<Figure size 108x108 with 1 Axes>"
      ]
     },
     "metadata": {},
     "output_type": "display_data"
    },
    {
     "data": {
      "image/png": "[encoded data removed]",
      "text/plain": [
       "<Figure size 86.4x108 with 1 Axes>"
      ]
     },
     "metadata": {},
     "output_type": "display_data"
    }
   ],
   "source": [
    "exptname = '20200614_002_ampshift'\n",
    "colinds = plt.cm.plasma(np.linspace(0.2,0.85,11))\n",
    "colinds = array([c for c in reversed(colinds)])\n",
    "expt = AmpShift_Stable()\n",
    "expt.load_expt(exptname, data_folder)\n",
    "dt = expt.get_dt('lowgain')\n",
    "expt.set_amps(11,[-40,-30,-20,-10,-5,0,5,10,20,30,40])\n",
    "expt.set_channels('CmdTrig','lowgain','spikes','SIU','DigMark')\n",
    "marker_df = expt.get_marker_table()\n",
    "\n",
    "bout_uc = [expt.get_bout_win('R','Keyboard')[0]]\n",
    "bout_c = [expt.get_bout_win('N','Keyboard')[0]]\n",
    "bout_cmd = [expt.get_bout_win('R','Keyboard')[0]]\n",
    "\n",
    "sweepdur = 0.05\n",
    "r_onset = int(0.006/dt)\n",
    "\n",
    "filtwin = int(0.002/dt)\n",
    "if filtwin % 2 == 0:\n",
    "    filtwin +=1\n",
    "\n",
    "bout_df = expt.filter_marker_df_time(marker_df,bout_uc)\n",
    "trial_df = expt.filter_marker_df_code(bout_df,['T'])\n",
    "stim_t = trial_df.time.values\n",
    "\n",
    "eventDur = 0.001\n",
    "xtime,event_sweeps = expt.get_sweepsmat('SIU',trial_df['time'].values,eventDur)\n",
    "event_Amp = np.asarray([np.max(sweep) for sweep in event_sweeps.T])\n",
    "\n",
    "base_df = expt.filter_marker_df_code(bout_df,['U'])\n",
    "xtime,event_sweeps = expt.get_sweepsmat('SIU',base_df['time'].values,eventDur)\n",
    "event_0_Amp = np.median(np.asarray([np.max(sweep) for sweep in event_sweeps.T]))\n",
    "\n",
    "ampshift = np.asarray([np.round(((A/event_0_Amp)*100)-100) for A in event_Amp]).reshape(-1, 1)\n",
    "trial_df.insert(np.shape(trial_df)[1],'ampshift',ampshift)\n",
    "    \n",
    "trialmat = []\n",
    "for a in np.unique(trial_df['ampshift']):\n",
    "    theseT = trial_df[trial_df['ampshift']==a].time.values - 0.005\n",
    "    xtime, R = expt.get_sweepsmat('lowgain',theseT,sweepdur)\n",
    "    R = np.asarray([sweep-sweep[0] for sweep in R.T]).T\n",
    "    R = np.asarray([signal.medfilt(sweep,filtwin) for sweep in R.T]).T\n",
    "    trialmat.append(np.mean(R,1))\n",
    "trialmat = np.asarray(trialmat).T \n",
    "\n",
    "stim_ampshift = np.unique(trial_df['ampshift'])\n",
    "restrict_inds = stim_ampshift>-20\n",
    "\n",
    "hfig,ax = create_fig()\n",
    "trialmat = trialmat[:,restrict_inds]\n",
    "trialmat = array([sweep for sweep in reversed(trialmat.T)]).T\n",
    "for i,sweep in enumerate(trialmat.T):\n",
    "    ax.plot(xtime,sweep,color = colinds[i],lw = 0.5);\n",
    "ax.set_xlim(0,50)\n",
    "ax.set_ylim(-5,25)\n",
    "ax.set_xticks([0,10])\n",
    "ax.set_yticks([5,15])\n",
    "ax.vlines(5,0,5)\n",
    "figsave(figure_folder,'Fig4_outputcellExample2_uncoupled')\n",
    "\n",
    "Ramp_uc = []\n",
    "for sweep in trialmat[r_onset:,:].T:\n",
    "    Ramp_uc.append(np.max(sweep))\n",
    "Ramp_uc = np.asarray(Ramp_uc)\n",
    "\n",
    "#get CD offset pre-coupled stim\n",
    "bout_df = expt.filter_marker_df_time(marker_df,bout_c)\n",
    "trial_df = expt.filter_marker_df_code(bout_df,['T'])\n",
    "stim_t = trial_df.time.values\n",
    "trial_df = expt.filter_marker_df_code(bout_df,['B'])\n",
    "cd_t = trial_df.time.values\n",
    "cd_offset = np.mean([s-np.max(cd_t[cd_t<s]) for s in stim_t])\n",
    "# offset = np.mean(stim_t-cd_t)\n",
    "\n",
    "#get CD response\n",
    "bout_df = expt.filter_marker_df_time(marker_df,bout_cmd)\n",
    "\n",
    "trial_df = expt.filter_marker_df_code(bout_df,['U'])\n",
    "stim_t = trial_df.time.values\n",
    "trial_df = expt.filter_marker_df_code(bout_df,['B'])\n",
    "cd_t_all = trial_df.time.values\n",
    "cd_t = np.asarray([np.max(cd_t_all[cd_t_all<s]) for s in stim_t]) - (0.005 - cd_offset)\n",
    "\n",
    "xtime, R = expt.get_sweepsmat('lowgain',cd_t,sweepdur)\n",
    "\n",
    "R = np.asarray([sweep-sweep[0] for sweep in R.T]).T\n",
    "R = np.asarray([signal.medfilt(sweep,filtwin) for sweep in R.T]).T\n",
    "cd_R = np.mean(R,1)\n",
    "\n",
    "\n",
    "hfig,ax = create_fig()\n",
    "ax.plot(xtime,cd_R,color = 'black',lw = 0.5);\n",
    "ax.set_xlim(0,50)\n",
    "ax.set_ylim(-5,25)\n",
    "ax.set_xticks([0,10])\n",
    "ax.set_yticks([5,15])\n",
    "ax.vlines((0.005 - cd_offset)*1000,0,3)\n",
    "figsave(figure_folder,'Fig4_outputcellExample2_cd')\n",
    "\n",
    "Ramp_p = []\n",
    "cd_restrict = cd_R[r_onset:]\n",
    "for sweep in trialmat[r_onset:,:].T:\n",
    "    Ramp_p.append(np.max(sweep+cd_restrict))\n",
    "Ramp_p = np.asarray(Ramp_p)\n",
    "\n",
    "hfig,ax = create_fig()\n",
    "for i,sweep in enumerate(trialmat.T):\n",
    "    ax.plot(xtime,sweep+cd_R,color = colinds[i],lw = 0.5);\n",
    "ax.set_xlim(0,50)\n",
    "ax.set_ylim(-5,25)\n",
    "ax.set_xticks([0,10])\n",
    "ax.set_yticks([5,15])\n",
    "ax.vlines(5,0,5)\n",
    "figsave(figure_folder,'Fig4_outputcellExample2_predicted')\n",
    "\n",
    "bout_df = expt.filter_marker_df_time(marker_df,bout_c)\n",
    "trial_df = expt.filter_marker_df_code(bout_df,['T'])\n",
    "stim_t = trial_df.time.values\n",
    "\n",
    "eventDur = 0.001\n",
    "xtime,event_sweeps = expt.get_sweepsmat('SIU',trial_df['time'].values,eventDur)\n",
    "event_Amp = np.asarray([np.max(sweep) for sweep in event_sweeps.T])\n",
    "\n",
    "base_df = expt.filter_marker_df_code(bout_df,['C'])\n",
    "xtime,event_sweeps = expt.get_sweepsmat('SIU',base_df['time'].values,eventDur)\n",
    "event_0_Amp = np.median(np.asarray([np.max(sweep) for sweep in event_sweeps.T]))\n",
    "\n",
    "ampshift = np.asarray([np.round(((A/event_0_Amp)*100)-100) for A in event_Amp]).reshape(-1, 1)\n",
    "trial_df.insert(np.shape(trial_df)[1],'ampshift',ampshift)\n",
    "    \n",
    "trialmat = []\n",
    "for a in np.unique(trial_df['ampshift']):\n",
    "    theseT = trial_df[trial_df['ampshift']==a].time.values - 0.005\n",
    "    xtime, R = expt.get_sweepsmat('lowgain',theseT,sweepdur)\n",
    "    R = np.asarray([sweep-sweep[0] for sweep in R.T]).T\n",
    "    R = np.asarray([signal.medfilt(sweep,filtwin) for sweep in R.T]).T\n",
    "    trialmat.append(np.mean(R,1))\n",
    "trialmat = np.asarray(trialmat).T \n",
    "trialmat = np.asarray([sweep-sweep[0] for sweep in trialmat.T]).T\n",
    "\n",
    "hfig,ax = create_fig()\n",
    "trialmat = trialmat[:,restrict_inds]\n",
    "trialmat = array([sweep for sweep in reversed(trialmat.T)]).T\n",
    "for i,sweep in enumerate(trialmat.T):\n",
    "    ax.plot(xtime,sweep,color = colinds[i],lw = 0.5);\n",
    "ax.set_xlim(0,50)\n",
    "ax.set_ylim(-5,25)\n",
    "ax.set_xticks([0,10])\n",
    "ax.set_yticks([5,15])\n",
    "ax.vlines(5,0,5)\n",
    "figsave(figure_folder,'Fig4_outputcellExample2_coupled')\n",
    "\n",
    "Ramp_c = []\n",
    "for sweep in trialmat[r_onset:,:].T:\n",
    "    Ramp_c.append(np.max(sweep))\n",
    "Ramp_c = np.asarray(Ramp_c)\n",
    "\n",
    "hfig,ax = create_fig_tuning()\n",
    "plt.scatter(stim_ampshift[restrict_inds],[a for a in reversed(Ramp_uc)],color = 'green')\n",
    "plt.scatter(stim_ampshift[restrict_inds],[a for a in reversed(Ramp_p)],color = 'gray')\n",
    "plt.scatter(stim_ampshift[restrict_inds],[a for a in reversed(Ramp_c)],color = 'orange')\n",
    "ax.set_ylabel('Peak response (mV)')\n",
    "ax.set_xlabel('Stimulus amplitude \\n (% change)',linespacing=0.75)\n",
    "ax.set_xlim(-17,47)\n",
    "xticks([0,20,40]);\n",
    "sns.despine(hfig)\n",
    "figsave(figure_folder,'Fig4_outputcellExample2_scatter')"
   ]
  },
  {
   "cell_type": "markdown",
   "metadata": {},
   "source": [
    "#### output cell 20200712_000"
   ]
  },
  {
   "cell_type": "code",
   "execution_count": 39,
   "metadata": {},
   "outputs": [
    {
     "name": "stdout",
     "output_type": "stream",
     "text": [
      "/Users/kperks/mnt/engram/spikedata/data_raw/20200712/20200712_000.smr\n"
     ]
    },
    {
     "data": {
      "image/png": "[encoded data removed]",
      "text/plain": [
       "<Figure size 108x108 with 1 Axes>"
      ]
     },
     "metadata": {},
     "output_type": "display_data"
    },
    {
     "data": {
      "image/png": "[encoded data removed]",
      "text/plain": [
       "<Figure size 108x108 with 1 Axes>"
      ]
     },
     "metadata": {},
     "output_type": "display_data"
    },
    {
     "data": {
      "image/png": "[encoded data removed]",
      "text/plain": [
       "<Figure size 108x108 with 1 Axes>"
      ]
     },
     "metadata": {},
     "output_type": "display_data"
    },
    {
     "data": {
      "image/png": "[encoded data removed]",
      "text/plain": [
       "<Figure size 108x108 with 1 Axes>"
      ]
     },
     "metadata": {},
     "output_type": "display_data"
    },
    {
     "data": {
      "image/png": "[encoded data removed]",
      "text/plain": [
       "<Figure size 86.4x108 with 1 Axes>"
      ]
     },
     "metadata": {},
     "output_type": "display_data"
    }
   ],
   "source": [
    "exptname = '20200712_000'\n",
    "colinds = plt.cm.plasma(np.linspace(0.2,0.85,11))\n",
    "colinds = array([c for c in reversed(colinds)])\n",
    "expt = AmpShift_Stable()\n",
    "expt.load_expt(exptname, data_folder)\n",
    "dt = expt.get_dt('lowgain')\n",
    "expt.set_amps(11,[-40,-30,-20,-10,-5,0,5,10,20,30,40])\n",
    "expt.set_channels('CmdTrig','lowgain','spikes','SIU','DigMark')\n",
    "marker_df = expt.get_marker_table()\n",
    "\n",
    "bout_uc = [expt.get_bout_win('R','Keyboard')[6]]\n",
    "bout_c = [expt.get_bout_win('N','Keyboard')[5]]\n",
    "bout_cmd = [expt.get_bout_win(\"B\",\"Keyboard\")[2],expt.get_bout_win(\"B\",\"Keyboard\")[3]]\n",
    "\n",
    "sweepdur = 0.05\n",
    "r_onset = int(0.006/dt)\n",
    "\n",
    "filtwin = int(0.003/dt)\n",
    "if filtwin % 2 == 0:\n",
    "    filtwin +=1\n",
    "\n",
    "bout_df = expt.filter_marker_df_time(marker_df,bout_uc)\n",
    "trial_df = expt.filter_marker_df_code(bout_df,['T'])\n",
    "stim_t = trial_df.time.values\n",
    "\n",
    "eventDur = 0.001\n",
    "xtime,event_sweeps = expt.get_sweepsmat('SIU',trial_df['time'].values,eventDur)\n",
    "event_Amp = np.asarray([np.max(sweep) for sweep in event_sweeps.T])\n",
    "\n",
    "base_df = expt.filter_marker_df_code(bout_df,['U'])\n",
    "xtime,event_sweeps = expt.get_sweepsmat('SIU',base_df['time'].values,eventDur)\n",
    "event_0_Amp = np.median(np.asarray([np.max(sweep) for sweep in event_sweeps.T]))\n",
    "\n",
    "ampshift = np.asarray([np.round(((A/event_0_Amp)*100)-100) for A in event_Amp]).reshape(-1, 1)\n",
    "trial_df.insert(np.shape(trial_df)[1],'ampshift',ampshift)\n",
    "    \n",
    "trialmat = []\n",
    "for a in np.unique(trial_df['ampshift']):\n",
    "    theseT = trial_df[trial_df['ampshift']==a].time.values - 0.005\n",
    "    xtime, R = expt.get_sweepsmat('lowgain',theseT,sweepdur)\n",
    "    R = np.asarray([sweep-sweep[0] for sweep in R.T]).T\n",
    "    R = np.asarray([signal.medfilt(sweep,filtwin) for sweep in R.T]).T\n",
    "    trialmat.append(np.mean(R,1))\n",
    "trialmat = np.asarray(trialmat).T \n",
    "\n",
    "stim_ampshift = np.unique(trial_df['ampshift'])\n",
    "restrict_inds = stim_ampshift>-20\n",
    "\n",
    "hfig,ax = create_fig()\n",
    "trialmat = trialmat[:,restrict_inds]\n",
    "trialmat = array([sweep for sweep in reversed(trialmat.T)]).T\n",
    "for i,sweep in enumerate(trialmat.T):\n",
    "    ax.plot(xtime,sweep,color = colinds[i],lw = 0.5);\n",
    "ax.set_xlim(0,50)\n",
    "ax.set_ylim(-5,25)\n",
    "ax.set_xticks([0,10])\n",
    "ax.set_yticks([5,15])\n",
    "ax.vlines(5,0,5)\n",
    "figsave(figure_folder,'Fig4_outputcellExample3_uncoupled')\n",
    "\n",
    "Ramp_uc = []\n",
    "for sweep in trialmat[r_onset:,:].T:\n",
    "    Ramp_uc.append(np.max(sweep))\n",
    "Ramp_uc = np.asarray(Ramp_uc)\n",
    "\n",
    "#get CD offset pre-coupled stim\n",
    "bout_df = expt.filter_marker_df_time(marker_df,bout_c)\n",
    "trial_df = expt.filter_marker_df_code(bout_df,['T'])\n",
    "stim_t = trial_df.time.values\n",
    "trial_df = expt.filter_marker_df_code(bout_df,['B'])\n",
    "cd_t = trial_df.time.values\n",
    "cd_offset = np.mean([s-np.max(cd_t[cd_t<s]) for s in stim_t])\n",
    "# offset = np.mean(stim_t-cd_t)\n",
    "\n",
    "#get CD response\n",
    "bout_df = expt.filter_marker_df_time(marker_df,bout_cmd)\n",
    "\n",
    "# trial_df = expt.filter_marker_df_code(bout_df,['U'])\n",
    "# stim_t = trial_df.time.values\n",
    "trial_df = expt.filter_marker_df_code(bout_df,['B'])\n",
    "cd_t = trial_df.time.values - (0.005 - cd_offset)\n",
    "# cd_t = np.asarray([np.max(cd_t_all[cd_t_all<s]) for s in stim_t]) - (0.005 - cd_offset)\n",
    "\n",
    "xtime, R = expt.get_sweepsmat('lowgain',cd_t,sweepdur)\n",
    "\n",
    "R = np.asarray([sweep-sweep[0] for sweep in R.T]).T\n",
    "R = np.asarray([signal.medfilt(sweep,filtwin) for sweep in R.T]).T\n",
    "cd_R = np.mean(R,1)\n",
    "\n",
    "hfig,ax = create_fig()\n",
    "ax.plot(xtime,cd_R,color = 'black',lw = 0.5);\n",
    "ax.set_xlim(0,50)\n",
    "ax.set_ylim(-5,25)\n",
    "ax.set_xticks([0,10])\n",
    "ax.set_yticks([5,15])\n",
    "ax.vlines((0.005 - cd_offset)*1000,0,3)\n",
    "figsave(figure_folder,'Fig4_outputcellExample3_cd')\n",
    "\n",
    "Ramp_p = []\n",
    "cd_restrict = cd_R[r_onset:]\n",
    "for sweep in trialmat[r_onset:,:].T:\n",
    "    Ramp_p.append(np.max(sweep+cd_restrict))\n",
    "Ramp_p = np.asarray(Ramp_p)\n",
    "\n",
    "hfig,ax = create_fig()\n",
    "for i,sweep in enumerate(trialmat.T):\n",
    "    ax.plot(xtime,sweep+cd_R,color = colinds[i],lw = 0.5);\n",
    "ax.set_xlim(0,50)\n",
    "ax.set_ylim(-5,25)\n",
    "ax.set_xticks([0,10])\n",
    "ax.set_yticks([5,15])\n",
    "ax.vlines(5,0,5)\n",
    "figsave(figure_folder,'Fig4_outputcellExample3_predicted')\n",
    "\n",
    "bout_df = expt.filter_marker_df_time(marker_df,bout_c)\n",
    "trial_df = expt.filter_marker_df_code(bout_df,['T'])\n",
    "stim_t = trial_df.time.values\n",
    "\n",
    "eventDur = 0.001\n",
    "xtime,event_sweeps = expt.get_sweepsmat('SIU',trial_df['time'].values,eventDur)\n",
    "event_Amp = np.asarray([np.max(sweep) for sweep in event_sweeps.T])\n",
    "\n",
    "base_df = expt.filter_marker_df_code(bout_df,['C'])\n",
    "xtime,event_sweeps = expt.get_sweepsmat('SIU',base_df['time'].values,eventDur)\n",
    "event_0_Amp = np.median(np.asarray([np.max(sweep) for sweep in event_sweeps.T]))\n",
    "\n",
    "ampshift = np.asarray([np.round(((A/event_0_Amp)*100)-100) for A in event_Amp]).reshape(-1, 1)\n",
    "trial_df.insert(np.shape(trial_df)[1],'ampshift',ampshift)\n",
    "    \n",
    "trialmat = []\n",
    "for a in np.unique(trial_df['ampshift']):\n",
    "    theseT = trial_df[trial_df['ampshift']==a].time.values - 0.005\n",
    "    xtime, R = expt.get_sweepsmat('lowgain',theseT,sweepdur)\n",
    "    R = np.asarray([sweep-sweep[0] for sweep in R.T]).T\n",
    "    R = np.asarray([signal.medfilt(sweep,filtwin) for sweep in R.T]).T\n",
    "    trialmat.append(np.mean(R,1))\n",
    "trialmat = np.asarray(trialmat).T \n",
    "trialmat = np.asarray([sweep-sweep[0] for sweep in trialmat.T]).T\n",
    "\n",
    "hfig,ax = create_fig()\n",
    "trialmat = trialmat[:,restrict_inds]\n",
    "trialmat = array([sweep for sweep in reversed(trialmat.T)]).T\n",
    "for i,sweep in enumerate(trialmat.T):\n",
    "    ax.plot(xtime,sweep,color = colinds[i],lw = 0.5);\n",
    "ax.set_xlim(0,50)\n",
    "ax.set_ylim(-5,25)\n",
    "ax.set_xticks([0,10])\n",
    "ax.set_yticks([5,15])\n",
    "ax.vlines(5,0,5)\n",
    "figsave(figure_folder,'Fig4_outputcellExample3_coupled')\n",
    "\n",
    "Ramp_c = []\n",
    "for sweep in trialmat[r_onset:,:].T:\n",
    "    Ramp_c.append(np.max(sweep))\n",
    "Ramp_c = np.asarray(Ramp_c)\n",
    "\n",
    "hfig,ax = create_fig_tuning()\n",
    "plt.scatter(stim_ampshift[restrict_inds],[a for a in reversed(Ramp_uc)],color = 'green')\n",
    "plt.scatter(stim_ampshift[restrict_inds],[a for a in reversed(Ramp_p)],color = 'gray')\n",
    "plt.scatter(stim_ampshift[restrict_inds],[a for a in reversed(Ramp_c)],color = 'orange')\n",
    "ax.set_ylabel('Peak response (mV)')\n",
    "ax.set_xlabel('Stimulus amplitude \\n (% change)',linespacing=0.75)\n",
    "ax.set_xlim(-17,47)\n",
    "xticks([0,20,40]);\n",
    "sns.despine(hfig)\n",
    "figsave(figure_folder,'Fig4_outputcellExample3_scatter')"
   ]
  },
  {
   "cell_type": "markdown",
   "metadata": {},
   "source": [
    "#### output cell 20200107_004 (_ampshift2) *(coupled to Jlm)"
   ]
  },
  {
   "cell_type": "code",
   "execution_count": 40,
   "metadata": {},
   "outputs": [
    {
     "name": "stdout",
     "output_type": "stream",
     "text": [
      "/Users/kperks/mnt/engram/spikedata/data_raw/20200107/20200107_004_ampshift2.smr\n"
     ]
    },
    {
     "data": {
      "image/png": "[encoded data removed]",
      "text/plain": [
       "<Figure size 108x108 with 1 Axes>"
      ]
     },
     "metadata": {},
     "output_type": "display_data"
    },
    {
     "data": {
      "image/png": "[encoded data removed]",
      "text/plain": [
       "<Figure size 108x108 with 1 Axes>"
      ]
     },
     "metadata": {},
     "output_type": "display_data"
    },
    {
     "data": {
      "image/png": "[encoded data removed]",
      "text/plain": [
       "<Figure size 108x108 with 1 Axes>"
      ]
     },
     "metadata": {},
     "output_type": "display_data"
    },
    {
     "data": {
      "image/png": "[encoded data removed]",
      "text/plain": [
       "<Figure size 108x108 with 1 Axes>"
      ]
     },
     "metadata": {},
     "output_type": "display_data"
    },
    {
     "data": {
      "image/png": "[encoded data removed]",
      "text/plain": [
       "<Figure size 86.4x108 with 1 Axes>"
      ]
     },
     "metadata": {},
     "output_type": "display_data"
    }
   ],
   "source": [
    "exptname = '20200107_004_ampshift2'\n",
    "colinds = plt.cm.plasma(np.linspace(0.2,0.85,11))\n",
    "colinds = array([c for c in reversed(colinds)])\n",
    "expt = AmpShift_Stable()\n",
    "expt.load_expt(exptname, data_folder)\n",
    "dt = expt.get_dt('lowgain')\n",
    "expt.set_amps(11,[-40,-30,-20,-10,-5,0,5,10,20,30,40])\n",
    "expt.set_channels('CmdTrig','lowgain','spikes','SIU','DigMark')\n",
    "marker_df = expt.get_marker_table()\n",
    "\n",
    "bout_uc = [expt.get_bout_win('R','Keyboard')[0]]\n",
    "bout_c = [expt.get_bout_win('K','Keyboard')[0]]\n",
    "bout_cmd = [expt.get_bout_win('J','Keyboard')[0]]\n",
    "\n",
    "sweepdur = 0.05\n",
    "r_onset = int(0.006/dt)\n",
    "\n",
    "filtwin = int(0.002/dt)\n",
    "if filtwin % 2 == 0:\n",
    "    filtwin +=1\n",
    "\n",
    "bout_df = expt.filter_marker_df_time(marker_df,bout_uc)\n",
    "trial_df = expt.filter_marker_df_code(bout_df,['T'])\n",
    "stim_t = trial_df.time.values\n",
    "\n",
    "eventDur = 0.001\n",
    "xtime,event_sweeps = expt.get_sweepsmat('SIU',trial_df['time'].values,eventDur)\n",
    "event_Amp = np.asarray([np.max(sweep) for sweep in event_sweeps.T])\n",
    "\n",
    "base_df = expt.filter_marker_df_code(bout_df,['U'])\n",
    "xtime,event_sweeps = expt.get_sweepsmat('SIU',base_df['time'].values,eventDur)\n",
    "event_0_Amp = np.median(np.asarray([np.max(sweep) for sweep in event_sweeps.T]))\n",
    "\n",
    "ampshift = np.asarray([np.round(((A/event_0_Amp)*100)-100) for A in event_Amp]).reshape(-1, 1)\n",
    "trial_df.insert(np.shape(trial_df)[1],'ampshift',ampshift)\n",
    "    \n",
    "trialmat = []\n",
    "for a in np.unique(trial_df['ampshift']):\n",
    "    theseT = trial_df[trial_df['ampshift']==a].time.values - 0.005\n",
    "    xtime, R = expt.get_sweepsmat('lowgain',theseT,sweepdur)\n",
    "    R = np.asarray([sweep-sweep[0] for sweep in R.T]).T\n",
    "#     R = np.asarray([signal.medfilt(sweep,filtwin) for sweep in R.T]).T\n",
    "    trialmat.append(np.mean(R,1))\n",
    "trialmat = np.asarray(trialmat).T \n",
    "trialmat = np.asarray([sweep-sweep[0] for sweep in trialmat.T]).T\n",
    "\n",
    "stim_ampshift = np.unique(trial_df['ampshift'])\n",
    "restrict_inds = stim_ampshift>-20\n",
    "\n",
    "hfig,ax = create_fig()\n",
    "trialmat = trialmat[:,restrict_inds]\n",
    "trialmat = array([sweep for sweep in reversed(trialmat.T)]).T\n",
    "for i,sweep in enumerate(trialmat.T):\n",
    "    ax.plot(xtime,sweep,color = colinds[i],lw = 0.5);\n",
    "ax.set_xlim(0,50)\n",
    "ax.set_ylim(-5,25)\n",
    "ax.set_xticks([0,10])\n",
    "ax.set_yticks([5,15])\n",
    "ax.vlines(5,0,5)\n",
    "# figsave(figure_folder,'Fig4_outputcellExample_uncoupled')\n",
    "\n",
    "Ramp_uc = []\n",
    "for sweep in trialmat[r_onset:,:].T:\n",
    "    Ramp_uc.append(np.max(sweep))\n",
    "Ramp_uc = np.asarray(Ramp_uc)\n",
    "\n",
    "#get CD offset pre-coupled stim\n",
    "bout_df = expt.filter_marker_df_time(marker_df,bout_c)\n",
    "trial_df = expt.filter_marker_df_code(bout_df,['t'])\n",
    "stim_t = trial_df.time.values\n",
    "trial_df = expt.filter_marker_df_code(bout_df,['J'])\n",
    "cd_t = trial_df.time.values\n",
    "cd_offset = np.mean([s-np.max(cd_t[cd_t<s]) for s in stim_t])\n",
    "# offset = np.mean(stim_t-cd_t)\n",
    "\n",
    "#get CD response\n",
    "bout_df = expt.filter_marker_df_time(marker_df,bout_cmd)\n",
    "\n",
    "# trial_df = expt.filter_marker_df_code(bout_df,['U'])\n",
    "# stim_t = trial_df.time.values\n",
    "trial_df = expt.filter_marker_df_code(bout_df,['J'])\n",
    "cd_t = trial_df.time.values - (0.005 - cd_offset)\n",
    "# cd_t = np.asarray([np.max(cd_t_all[cd_t_all<s]) for s in stim_t]) - (0.005 - cd_offset)\n",
    "\n",
    "xtime, R = expt.get_sweepsmat('lowgain',cd_t,sweepdur)\n",
    "\n",
    "R = np.asarray([sweep-sweep[0] for sweep in R.T]).T\n",
    "# R = np.asarray([signal.medfilt(sweep,filtwin) for sweep in R.T]).T\n",
    "cd_R = np.mean(R,1)\n",
    "\n",
    "hfig,ax = create_fig()\n",
    "ax.plot(xtime,cd_R,color = 'black',lw = 0.5);\n",
    "ax.set_xlim(0,50)\n",
    "ax.set_ylim(-5,25)\n",
    "ax.set_xticks([0,10])\n",
    "ax.set_yticks([5,15])\n",
    "ax.vlines((0.005 - cd_offset)*1000,0,3)\n",
    "figsave(figure_folder,'Fig4_outputcellExample_cd')\n",
    "\n",
    "Ramp_p = []\n",
    "cd_restrict = cd_R[r_onset:]\n",
    "for sweep in trialmat[r_onset:,:].T:\n",
    "    Ramp_p.append(np.max(sweep+cd_restrict))\n",
    "Ramp_p = np.asarray(Ramp_p)\n",
    "\n",
    "hfig,ax = create_fig()\n",
    "for i,sweep in enumerate(trialmat.T):\n",
    "    ax.plot(xtime,sweep+cd_R,color = colinds[i],lw = 0.5);\n",
    "ax.set_xlim(0,50)\n",
    "ax.set_ylim(-5,25)\n",
    "ax.set_xticks([0,10])\n",
    "ax.set_yticks([5,15])\n",
    "ax.vlines(5,0,5)\n",
    "figsave(figure_folder,'Fig4_outputcellExample_predicted')\n",
    "\n",
    "bout_df = expt.filter_marker_df_time(marker_df,bout_c)\n",
    "trial_df = expt.filter_marker_df_code(bout_df,['t'])\n",
    "stim_t = trial_df.time.values\n",
    "\n",
    "eventDur = 0.001\n",
    "xtime,event_sweeps = expt.get_sweepsmat('SIU',trial_df['time'].values,eventDur)\n",
    "event_Amp = np.asarray([np.max(sweep) for sweep in event_sweeps.T])\n",
    "\n",
    "base_df = expt.filter_marker_df_code(bout_df,['c'])\n",
    "xtime,event_sweeps = expt.get_sweepsmat('SIU',base_df['time'].values,eventDur)\n",
    "event_0_Amp = np.median(np.asarray([np.max(sweep) for sweep in event_sweeps.T]))\n",
    "\n",
    "ampshift = np.asarray([np.round(((A/event_0_Amp)*100)-100) for A in event_Amp]).reshape(-1, 1)\n",
    "trial_df.insert(np.shape(trial_df)[1],'ampshift',ampshift)\n",
    "    \n",
    "trialmat = []\n",
    "for a in np.unique(trial_df['ampshift']):\n",
    "    theseT = trial_df[trial_df['ampshift']==a].time.values - 0.005\n",
    "    xtime, R = expt.get_sweepsmat('lowgain',theseT,sweepdur)\n",
    "    R = np.asarray([sweep-sweep[0] for sweep in R.T]).T\n",
    "#     R = np.asarray([signal.medfilt(sweep,filtwin) for sweep in R.T]).T\n",
    "    trialmat.append(np.mean(R,1))\n",
    "trialmat = np.asarray(trialmat).T \n",
    "trialmat = np.asarray([sweep-sweep[0] for sweep in trialmat.T]).T\n",
    "\n",
    "hfig,ax = create_fig()\n",
    "trialmat = trialmat[:,restrict_inds]\n",
    "trialmat = array([sweep for sweep in reversed(trialmat.T)]).T\n",
    "for i,sweep in enumerate(trialmat.T):\n",
    "    ax.plot(xtime,sweep,color = colinds[i],lw = 0.5);\n",
    "ax.set_xlim(0,50)\n",
    "ax.set_ylim(-5,25)\n",
    "ax.set_xticks([0,10])\n",
    "ax.set_yticks([5,15])\n",
    "ax.vlines(5,0,5)\n",
    "figsave(figure_folder,'Fig4_outputcellExample_coupled')\n",
    "\n",
    "Ramp_c = []\n",
    "for sweep in trialmat[r_onset:,:].T:\n",
    "    Ramp_c.append(np.max(sweep))\n",
    "Ramp_c = np.asarray(Ramp_c)\n",
    "\n",
    "hfig,ax = create_fig_tuning()\n",
    "plt.scatter(stim_ampshift[restrict_inds],[a for a in reversed(Ramp_uc)],color = 'green')\n",
    "plt.scatter(stim_ampshift[restrict_inds],[a for a in reversed(Ramp_p)],color = 'gray')\n",
    "plt.scatter(stim_ampshift[restrict_inds],[a for a in reversed(Ramp_c)],color = 'orange')\n",
    "ax.set_ylabel('Peak response (mV)')\n",
    "ax.set_xlabel('Stimulus amplitude \\n (% change)',linespacing=0.75)\n",
    "ax.set_xlim(-17,47)\n",
    "xticks([0,20,40]);\n",
    "sns.despine(hfig)\n",
    "figsave(figure_folder,'Fig4_outputcellExample_scatter')"
   ]
  },
  {
   "cell_type": "markdown",
   "metadata": {},
   "source": [
    "# Various supplemental"
   ]
  },
  {
   "cell_type": "markdown",
   "metadata": {},
   "source": [
    "## MODEL DGC effects of cd inhib in dgrc (evoked like es inhib)"
   ]
  },
  {
   "cell_type": "code",
   "execution_count": 8,
   "metadata": {},
   "outputs": [],
   "source": [
    "def initialize_model(namespace_sim):    \n",
    "    start_scope()\n",
    "    ################################################################################\n",
    "    # Model definition\n",
    "    ################################################################################\n",
    "    IinjWav = namespace_sim['IinjWav']# TimedArray([0]*pA,dt=20*ms) #TimedArray([0,10,10,10,10,10,0]*pA,dt=20*ms) #\n",
    "    invpeak = (namespace_sim['tau_e2'] / namespace_sim['tau_e1']) ** \\\n",
    "            (namespace_sim['tau_e1'] / (namespace_sim['tau_e2'] - namespace_sim['tau_e1']))\n",
    "    namespace_sim['invpeak'] = invpeak\n",
    "    ### Neurons\n",
    "    neuron_eq = '''\n",
    "    dv/dt = (g_l*(E_l-v) + g_e*(E_e-v) + g_e_lmi*(E_e_lmi-v) + g_cd*(E_cd-v) + g_cd_i*(E_cd_i-v) + g_cd_lmi*(E_cd_lmi-v) + Iinj)/Cm    : volt (unless refractory)\n",
    "    dg_e/dt = (invpeak * s - g_e)/tau_e1 : siemens\n",
    "    ds/dt = -s/tau_e2 : siemens\n",
    "    dg_e_lmi/dt = -g_e_lmi/tau_e_lmi  : siemens  # post-synaptic electrosensory inhibitory conductance\n",
    "    dg_cd/dt = -g_cd/tau_cd : siemens  # post-synaptic CD excitatory conductance\n",
    "    dg_cd_i/dt = -g_cd_i/tau_cd_i : siemens  # post-synaptic CD inhibitory conductance\n",
    "    dg_cd_lmi/dt = -g_cd_lmi/tau_cd_lmi : siemens  # post-synaptic CD lmi-driven inhib conductance\n",
    "    Iinj = IinjWav(t) : amp # injected current\n",
    "    maxas = 3.5 : 1\n",
    "    minas = 0 : 1\n",
    "    midpt = 2 : 1\n",
    "    slp = 3 : 1\n",
    "    '''\n",
    "        \n",
    "    neurons = NeuronGroup(1, model=neuron_eq,\n",
    "                          threshold='v>V_th', reset='v=V_r',\n",
    "                          refractory='tau_r', method='euler',\n",
    "                         name = 'grc',namespace=namespace_sim)\n",
    "    neurons.v = namespace_sim['E_l']\n",
    "    # set up monitor of post-synaptic neuron parameters\n",
    "    state_mon = StateMonitor(neurons, ['v', 'g_e', 'g_cd','g_e_lmi','g_cd_i','g_cd_lmi','Iinj'], \n",
    "                             record=0, name = 'state_mon')\n",
    "    \n",
    "    ######### \n",
    "    #create and connect command input (direct and indirect via lmi)\n",
    "    #########\n",
    "    t_cd = array([namespace_sim['cmd_onset']])*ms\n",
    "    t_cd_i = array([namespace_sim['cmd_i_onset']])*ms\n",
    "    t_cd_lmi = array([namespace_sim['cmd_onset']+ namespace_sim['cmd_lmi_delay']])*ms\n",
    "    G_cd = SpikeGeneratorGroup(1, array([0]), t_cd, name='jxl_input')\n",
    "    G_cd_i = SpikeGeneratorGroup(1, array([0]), t_cd_i, name = 'cd_inhib_input')\n",
    "    G_cd_lmi = SpikeGeneratorGroup(1, array([0]), t_cd_lmi, name = 'cd_lmi_input')\n",
    "    #connect spike generator to neuron:\n",
    "    syn_cd = Synapses(G_cd, neurons,on_pre='g_cd_post += w_cd',\n",
    "                      name = 'jxl_syn',namespace=namespace_sim)\n",
    "    syn_cd_i = Synapses(G_cd_i, neurons,on_pre='g_cd_i_post += w_cd_i',\n",
    "                        name = 'cd_inhib_syn',namespace=namespace_sim)\n",
    "    syn_cd_lmi = Synapses(G_cd_lmi, neurons,on_pre='g_cd_lmi_post += w_cd_lmi',\n",
    "                          name = 'cd_lmi_syn',namespace=namespace_sim)\n",
    "    #Now connect the synapses...\n",
    "    syn_cd.connect(i=0,j=0)\n",
    "    syn_cd_i.connect(i=0,j=0)\n",
    "    syn_cd_lmi.connect(i=0,j=0)\n",
    "\n",
    "    ######### \n",
    "    #create and connect afferent input (direct and indirect via lmi)\n",
    "    #########\n",
    "    aff_t_default = array(np.zeros(namespace_sim['N_inputs']))*ms\n",
    "    N_aff = len(aff_t_default)\n",
    "    neuron_ind = np.arange(N_aff)\n",
    "    G_e = SpikeGeneratorGroup(N_aff, neuron_ind,aff_t_default,name='aff_input')\n",
    "    G_e_lmi = SpikeGeneratorGroup(1, array([0]),array([0])*ms,name = 'aff_lmi_input')\n",
    "    #connect spike generator to neuron:\n",
    "    syn_e = Synapses(G_e, neurons,on_pre='s += w_e',name='aff_syn',namespace=namespace_sim)\n",
    "    syn_e_lmi = Synapses(G_e_lmi, neurons,on_pre='g_e_lmi_post += \\\n",
    "                         w_e_lmi*(maxas+((minas-maxas)/(1+(((v-E_l)/mV)/midpt)**slp)))*nS',\n",
    "                         delay=namespace_sim['e_lmi_delay']*ms,\n",
    "                      name='aff_lmi_syn',namespace=namespace_sim)\n",
    "\n",
    "    #Now connect the synapses...\n",
    "    syn_e.connect(i=neuron_ind, j = 0)\n",
    "    syn_e_lmi.connect(i=0, j = 0)\n",
    "\n",
    "    net = Network(collect())\n",
    "    return net, namespace_sim\n",
    "\n",
    "def reset_namespace_defaults():\n",
    "    namespace_sim = {\n",
    "        'N_inputs' : 1,\n",
    "        'N_runs' : 1,\n",
    "        'sim_dt' : 0.1*ms,\n",
    "        'duration' : 0.05*second,\n",
    "        'Cm' : 6*pF,\n",
    "        'E_l' : -70*mV,\n",
    "        'g_l' : 1*nS, # a 1MOhm cell has gl = 1*nS\n",
    "        'E_e' : 0*mV,\n",
    "        'E_cd' : 0*mV,\n",
    "        'E_cd_i' : -80*mV,\n",
    "        'E_cd_lmi' : -80*mV,\n",
    "        'E_e_lmi' : -80*mV,\n",
    "        'V_th' : 0*mV,\n",
    "        'V_r' : -70*mV,\n",
    "        'tau_r' : 1*ms,\n",
    "        'w_e' : 0*nS,\n",
    "        'w_e_lmi' : 0,#either on and off... weight by logistic 0*nS,\n",
    "        'w_cd' : 0*nS,\n",
    "        'w_cd_i' : 0*nS,\n",
    "        'w_cd_lmi' : 0*nS,  \n",
    "        'tau_e1' : 4*ms,\n",
    "        'tau_e2' : 1*ms,\n",
    "        'tau_e_lmi' : 10*ms,\n",
    "        'tau_cd' : 2*ms,\n",
    "        'tau_cd_i' : 5*ms,\n",
    "        'tau_cd_lmi' : 5*ms,\n",
    "        'cmd_onset' : 5, #ms\n",
    "        'cmd_i_onset' : 4.5,\n",
    "        'cmd_lmi_delay' : 4, #ms\n",
    "        'aff_cmd_offset' : 5, # 5msec is for figure making because data plotted with 5msec pre-stimonset #4.5, #ms, time of normal stimulus onset relative to cmd\n",
    "        'e_lmi_delay' : 2, #ms\n",
    "        'IinjWav' : TimedArray([0]*pA,dt=20*ms),\n",
    "        'invpeak' : 1\n",
    "    }\n",
    "    return namespace_sim"
   ]
  },
  {
   "cell_type": "code",
   "execution_count": 61,
   "metadata": {},
   "outputs": [
    {
     "data": {
      "image/png": "[encoded data removed]",
      "text/plain": [
       "<Figure size 108x108 with 1 Axes>"
      ]
     },
     "metadata": {},
     "output_type": "display_data"
    }
   ],
   "source": [
    "x = np.asarray([-10,-5,0,5,10,20,30,40])\n",
    "\n",
    "namespace_sim = reset_namespace_defaults()\n",
    "\n",
    "namespace_sim['Cm'] = 6*pF\n",
    "namespace_sim['w_e'] = 0.1*nS\n",
    "namespace_sim['N_runs'] = 15\n",
    "namespace_sim['N_inputs'] = 8\n",
    "namespace_sim['w_e_lmi'] = 1\n",
    "namespace_sim['e_lmi_delay'] = 2\n",
    "\n",
    "net, namespace_sim = initialize_model(namespace_sim)\n",
    "net.store('intialized',filename=sim_filepath)\n",
    "\n",
    "xtime,R_wavs = example_ampshift_wavs(x,net,namespace_sim,sim_filepath)\n",
    "\n",
    "hfig,ax = create_fig()\n",
    "colinds = plt.cm.plasma(np.linspace(0.2,0.85,np.shape(R_wavs)[1]))\n",
    "\n",
    "for i,sweep in enumerate(R_wavs.T):\n",
    "    ax.plot(xtime,sweep-sweep[0],color = colinds[i],lw = 0.5);\n",
    "ax.set_xlim(0,50)\n",
    "ax.set_xticks([0,10])\n",
    "ax.set_yticks([5,10])\n",
    "ax.vlines(5,0,5)\n",
    "\n",
    "x, R_amp = model_ampshift(x,net,namespace_sim,sim_filepath)\n",
    "R_deep_inhib = np.asarray([r for r in R_amp.T]).T\n",
    "R_norm_deep_inhib = np.asarray([r/np.max(r) for r in R_amp.T]).T"
   ]
  },
  {
   "cell_type": "code",
   "execution_count": 9,
   "metadata": {},
   "outputs": [],
   "source": [
    "exptname = '20200719_004'\n",
    "boutstr = '''[expt.get_bout_win('R','Keyboard')[0],\n",
    "           expt.get_bout_win('R','Keyboard')[1],\n",
    "            expt.get_bout_win('N','Keyboard')[0]]'''\n",
    "sweepdur = 0.05\n",
    "# xtime_cmd_inh, cmd_inh_ = get_example_cmd(exptname,boutstr,sweepdur)\n",
    "\n",
    "filepath = Path.cwd() / 'grc_model_simulations' / (exptname + '_cmd.npy')\n",
    "# stacked_arr = np.stack([xtime_cmd,cmd_])\n",
    "# np.save(filepath,stacked_arr)\n",
    "stacked_arr = np.load(filepath)\n",
    "xtime_cmd_inh = stacked_arr[0,:]\n",
    "cmd_inh_ = stacked_arr[1,:]"
   ]
  },
  {
   "cell_type": "code",
   "execution_count": 40,
   "metadata": {},
   "outputs": [
    {
     "data": {
      "image/png": "[encoded data removed]",
      "text/plain": [
       "<Figure size 432x288 with 1 Axes>"
      ]
     },
     "metadata": {},
     "output_type": "display_data"
    }
   ],
   "source": [
    "plt.figure()\n",
    "\n",
    "plt.plot(xtime_cmd_inh,cmd_inh_,color = 'purple')\n",
    "\n",
    "aff_t = [2]\n",
    "\n",
    "namespace_sim = reset_namespace_defaults()\n",
    "namespace_sim['N_inputs'] = 1\n",
    "namespace_sim['Cm'] = 6*pF\n",
    "namespace_sim['w_cd'] = 0.2*nS\n",
    "namespace_sim['tau_cd'] = 10*ms\n",
    "namespace_sim['w_cd_lmi'] = 3*nS\n",
    "namespace_sim['tau_cd_lmi'] = 2*ms\n",
    "namespace_sim['cmd_onset'] = 6.5\n",
    "namespace_sim['cmd_lmi_delay'] = 4\n",
    "\n",
    "net, namespace_sim = initialize_model(namespace_sim)\n",
    "net.store('intialized',filename=sim_filepath)\n",
    "xtime,R = model_single_run(net,namespace_sim,sim_filepath,aff_t)\n",
    "plt.plot(xtime,(R-R[0]),color = 'brown',linestyle = '-')\n",
    "\n",
    "# figsave(figure_folder,'Fig4_deep_cd_stronginhib_modelVScell')\n",
    "\n",
    "cmd_inh_model = R\n",
    "xtime_cmd_inh_model = xtime"
   ]
  },
  {
   "cell_type": "code",
   "execution_count": 62,
   "metadata": {},
   "outputs": [],
   "source": [
    "namespace_sim = reset_namespace_defaults()\n",
    "\n",
    "namespace_sim['Cm'] = 6*pF\n",
    "namespace_sim['w_e'] = 0.1*nS\n",
    "namespace_sim['N_runs'] = 15\n",
    "namespace_sim['N_inputs'] = 8\n",
    "namespace_sim['w_e_lmi'] = 1\n",
    "namespace_sim['e_lmi_delay'] = 2\n",
    "\n",
    "net, namespace_sim = initialize_model(namespace_sim)\n",
    "net.store('intialized',filename=sim_filepath)\n",
    "\n",
    "R_amp_predict = []\n",
    "for i in range(15):\n",
    "    net.restore('intialized',filename=sim_filepath)\n",
    "    xtime,R_wavs = example_ampshift_wavs(x,net,namespace_sim,sim_filepath)\n",
    "    r_amp_predict = []\n",
    "    for sweep in R_wavs.T:\n",
    "        R_predict = sweep+cmd_inh_model\n",
    "#         plt.plot(xtime_cmd_inh_model,R_predict)\n",
    "        r_amp_predict.append(np.max(sweep))\n",
    "    r_amp_predict = np.asarray(r_amp_predict).T\n",
    "    R_amp_predict.append(r_amp_predict)\n",
    "R_amp_predict = np.asarray(R_amp_predict).T\n",
    "R_amp_predict = np.asarray([r for r in R_amp_predict.T]).T\n",
    "R_amp_predict_norm = np.asarray([r/np.max(r) for r in R_amp_predict.T]).T"
   ]
  },
  {
   "cell_type": "code",
   "execution_count": 63,
   "metadata": {},
   "outputs": [
    {
     "data": {
      "image/png": "[encoded data removed]",
      "text/plain": [
       "<Figure size 432x288 with 1 Axes>"
      ]
     },
     "metadata": {},
     "output_type": "display_data"
    }
   ],
   "source": [
    "for sweep in R_wavs.T:\n",
    "    R_predict = sweep+cmd_inh_model\n",
    "    plt.plot(xtime_cmd_inh_model,R_predict)"
   ]
  },
  {
   "cell_type": "code",
   "execution_count": 64,
   "metadata": {},
   "outputs": [
    {
     "data": {
      "image/png": "[encoded data removed]",
      "text/plain": [
       "<Figure size 108x108 with 1 Axes>"
      ]
     },
     "metadata": {},
     "output_type": "display_data"
    }
   ],
   "source": [
    "namespace_sim['w_cd'] = 0.2*nS\n",
    "namespace_sim['tau_cd'] = 10*ms\n",
    "namespace_sim['w_cd_lmi'] = 3*nS\n",
    "namespace_sim['tau_cd_lmi'] = 2*ms\n",
    "namespace_sim['cmd_onset'] = 6.5\n",
    "namespace_sim['cmd_lmi_delay'] = 4\n",
    "\n",
    "net, namespace_sim = initialize_model(namespace_sim)\n",
    "net.store('intialized',filename=sim_filepath)\n",
    "\n",
    "xtime,R_wavs = example_ampshift_wavs(x,net,namespace_sim,sim_filepath)\n",
    "\n",
    "hfig,ax = create_fig()\n",
    "colinds = plt.cm.plasma(np.linspace(0.2,0.85,np.shape(R_wavs)[1]))\n",
    "\n",
    "for i,sweep in enumerate(R_wavs.T):\n",
    "    ax.plot(xtime,sweep-sweep[0],color = colinds[i],lw = 0.5);\n",
    "ax.set_xlim(0,50)\n",
    "ax.set_xticks([0,10])\n",
    "ax.set_yticks([5,10])\n",
    "ax.vlines(5,0,5)\n",
    "\n",
    "x, R_amp = model_ampshift(x,net,namespace_sim,sim_filepath)\n",
    "R_deep_inhib_CD = np.asarray([r for r in R_amp.T]).T\n",
    "R_norm_deep_inhib_CD = np.asarray([r/np.max(r) for r in R_amp.T]).T"
   ]
  },
  {
   "cell_type": "code",
   "execution_count": 73,
   "metadata": {},
   "outputs": [
    {
     "data": {
      "text/plain": [
       "<matplotlib.collections.PathCollection at 0x1a29e48630>"
      ]
     },
     "execution_count": 73,
     "metadata": {},
     "output_type": "execute_result"
    },
    {
     "data": {
      "image/png": "[encoded data removed]",
      "text/plain": [
       "<Figure size 86.4x108 with 1 Axes>"
      ]
     },
     "metadata": {},
     "output_type": "display_data"
    }
   ],
   "source": [
    "hfig,ax = create_fig_tuning()\n",
    "\n",
    "plt.errorbar(x,np.mean(R_amp_predict,1),yerr=stats.sem(R_amp_predict,1),linestyle=\"None\",color = 'gray', capsize=2)\n",
    "ax.scatter(x,np.mean(R_amp_predict,1),color = 'gray',s=10)"
   ]
  },
  {
   "cell_type": "code",
   "execution_count": 74,
   "metadata": {},
   "outputs": [
    {
     "data": {
      "image/png": "[encoded data removed]",
      "text/plain": [
       "<Figure size 86.4x108 with 1 Axes>"
      ]
     },
     "metadata": {},
     "output_type": "display_data"
    }
   ],
   "source": [
    "hfig,ax = create_fig_tuning()\n",
    "\n",
    "plt.errorbar(x,np.mean(R_deep_inhib,1),yerr=stats.sem(R_deep_inhib,1),linestyle=\"None\",color = 'green', capsize=2)\n",
    "ax.scatter(x,np.mean(R_deep_inhib,1),color = 'green',s=10)\n",
    "plt.errorbar(x,np.mean(R_amp_predict,1),yerr=stats.sem(R_amp_predict,1),linestyle=\"None\",color = 'gray', capsize=2)\n",
    "ax.scatter(x,np.mean(R_amp_predict,1),color = 'gray',s=10)\n",
    "plt.errorbar(x,np.mean(R_deep_inhib_CD,1),yerr=stats.sem(R_deep_inhib_CD,1),linestyle=\"None\",color = 'orange', capsize=2)\n",
    "ax.scatter(x,np.mean(R_deep_inhib_CD,1),color = 'orange',s=10)\n",
    "\n",
    "ax.set_ylabel('Mean peak response \\n (normalized)',linespacing=0.75)\n",
    "ax.set_xlabel('Stimulus amplitude \\n (% change)',linespacing=0.75)\n",
    "ax.set_xlim(-17,47)\n",
    "xticks([0,20,40]);\n",
    "# plt.ylim(0.3,1.05)\n",
    "sns.despine(hfig)\n",
    "figsave(figure_folder,'Fig4_deep_norm_cdVSnot')"
   ]
  },
  {
   "cell_type": "markdown",
   "metadata": {},
   "source": [
    "### and with less striking inhibition..."
   ]
  },
  {
   "cell_type": "code",
   "execution_count": 84,
   "metadata": {},
   "outputs": [],
   "source": [
    "exptname = '20191218_009'\n",
    "sweepdur = 0.05\n",
    "boutstr = '''[expt.get_bout_win('R','Keyboard')[0],\n",
    "        expt.get_bout_win('R','Keyboard')[1],\n",
    "        expt.get_bout_win('N','Keyboard')[0],\n",
    "        expt.get_bout_win('N','Keyboard')[1]]'''\n",
    "\n",
    "# xtime_cmd, cmd_ = get_example_cmd(exptname,boutstr,sweepdur)\n",
    "filepath = Path.cwd() / 'grc_model_simulations' / (exptname + '_cmd.npy')\n",
    "# stacked_arr = np.stack([xtime_cmd,cmd_])\n",
    "# np.save(filepath,stacked_arr)\n",
    "stacked_arr = np.load(filepath)\n",
    "xtime_cmd = stacked_arr[0,:]\n",
    "cmd_ = stacked_arr[1,:]\n"
   ]
  },
  {
   "cell_type": "code",
   "execution_count": 85,
   "metadata": {},
   "outputs": [
    {
     "data": {
      "text/plain": [
       "[<matplotlib.lines.Line2D at 0x1a29ff6668>]"
      ]
     },
     "execution_count": 85,
     "metadata": {},
     "output_type": "execute_result"
    },
    {
     "data": {
      "image/png": "[encoded data removed]",
      "text/plain": [
       "<Figure size 432x288 with 1 Axes>"
      ]
     },
     "metadata": {},
     "output_type": "display_data"
    }
   ],
   "source": [
    "plt.plot(xtime_cmd,cmd_/np.max(cmd_),color = 'purple')\n",
    "\n",
    "namespace_sim = reset_namespace_defaults()\n",
    "namespace_sim['N_inputs'] = 1\n",
    "namespace_sim['w_cd'] = 0.4*nS\n",
    "namespace_sim['Cm'] = 6*pF\n",
    "net, namespace_sim = initialize_model(namespace_sim)\n",
    "net.store('intialized',filename=sim_filepath)\n",
    "xtime,R = model_single_run(net,namespace_sim,sim_filepath,aff_t)\n",
    "\n",
    "plt.plot(xtime,(R-R[0])/np.max(R-R[0]),color = 'brown',linestyle = '--')\n",
    "\n",
    "namespace_sim['w_cd_lmi'] = 0.15*nS\n",
    "namespace_sim['cmd_lmi_delay'] = 4\n",
    "net, namespace_sim = initialize_model(namespace_sim)\n",
    "net.store('intialized',filename=sim_filepath)\n",
    "xtime,R = model_single_run(net,namespace_sim,sim_filepath,aff_t)\n",
    "plt.plot(xtime,(R-R[0])/np.max(R-R[0]),color = 'brown',linestyle = '-')"
   ]
  },
  {
   "cell_type": "markdown",
   "metadata": {},
   "source": [
    "## import GC properties dataframe and adjust Vm vals based on offset, etc"
   ]
  },
  {
   "cell_type": "code",
   "execution_count": null,
   "metadata": {},
   "outputs": [],
   "source": [
    "#@title import dataframe for GRC bais properties quantifications \n",
    "df_folder = exptpath / 'data_processed' / 'Figures_GRC_properties' / 'Unsubtracted_CvsU' / 'df_cmdintact'\n",
    "path = df_folder\n",
    "files = [e for e in path.iterdir() if e.is_file() and e.suffix=='.csv']\n",
    "keys = [f.name[0:-4] for f in sorted(files)]\n",
    "\n",
    "meta_df = pd.DataFrame(columns = None)\n",
    "for f in files:\n",
    "    thisdf = pd.read_csv(f)\n",
    "    meta_df = meta_df.append(thisdf,ignore_index = True)\n",
    "meta_df['cell_type'] = meta_df['exptname'].map(cell_type)\n",
    "\n",
    "#create new column with Vm_baseline adjusted based on Vm_offset manually measured from each recording\n",
    "for name, val in Vm_offset.items():\n",
    "#     print(name,val)\n",
    "    adjusted_val = meta_df[meta_df['exptname'].str.contains(name)]['Vm_baseline'] + val\n",
    "    meta_df.loc[meta_df['exptname'].str.contains(name),'Vm_base_adj'] = adjusted_val\n",
    "\n",
    "#create new column with Vm_baseline adjusted based on Vm_offset manually measured from each recording\n",
    "for name, val in Vm_offset.items():\n",
    "    meta_df.loc[meta_df['exptname'].str.contains(name),'Vm_offset'] = val\n",
    "\n",
    "#remove estim ipsp from superficial cells because erroneous (not true inhibition... just algorithm glitch)\n",
    "meta_df.loc[meta_df['cell_type'] == 's', 'u_ipsp_onset'] = np.NaN\n",
    "meta_df.loc[meta_df['cell_type'] == 's', 'c_ipsp_onset'] = np.NaN\n",
    "\n",
    "meta_df = meta_df.set_index('exptname',append=False)"
   ]
  },
  {
   "cell_type": "markdown",
   "metadata": {},
   "source": [
    "## Afferents population properties all fish"
   ]
  },
  {
   "cell_type": "code",
   "execution_count": 172,
   "metadata": {},
   "outputs": [],
   "source": [
    "p_active=[]\n",
    "for i,animal in enumerate(np.unique(filtered_df['animalID'])):\n",
    "    animal_df = filtered_df[filtered_df['animalID'] == animal]\n",
    "\n",
    "    n_active = []\n",
    "    for a in np.unique(animal_df['ampshift']):\n",
    "        subdf = animal_df[animal_df['ampshift']==a].groupby('exptname')\n",
    "        n_active.append(len(np.where(subdf.fsl.count().values>0)[0]))\n",
    "    n_active = np.asarray(n_active)\n",
    "\n",
    "    ntotal = len(subdf.fsl.count())\n",
    "    p_active.append(100*(n_active/ntotal))"
   ]
  },
  {
   "cell_type": "code",
   "execution_count": 174,
   "metadata": {},
   "outputs": [
    {
     "data": {
      "text/plain": [
       "array([ 23.03030303,  48.87445887,  84.15584416,  94.39393939,\n",
       "       100.        , 100.        , 100.        , 100.        ,\n",
       "       100.        , 100.        , 100.        ])"
      ]
     },
     "execution_count": 174,
     "metadata": {},
     "output_type": "execute_result"
    }
   ],
   "source": [
    "np.mean(p_active,0)"
   ]
  },
  {
   "cell_type": "code",
   "execution_count": 169,
   "metadata": {},
   "outputs": [],
   "source": [
    "p_active=[]\n",
    "\n",
    "n_active = []\n",
    "for a in np.unique(filtered_df['ampshift']):\n",
    "    subdf = filtered_df[filtered_df['ampshift']==a].groupby('exptname')\n",
    "    n_active = len(np.where(subdf.fsl.count().values>0)[0])\n",
    "    ntotal = len(subdf.fsl.count())\n",
    "    p_active.append(100*(n_active/ntotal))\n",
    "\n"
   ]
  },
  {
   "cell_type": "code",
   "execution_count": 170,
   "metadata": {},
   "outputs": [
    {
     "data": {
      "text/plain": [
       "[22.22222222222222,\n",
       " 48.148148148148145,\n",
       " 81.48148148148148,\n",
       " 94.44444444444444,\n",
       " 100.0,\n",
       " 100.0,\n",
       " 100.0,\n",
       " 100.0,\n",
       " 100.0,\n",
       " 100.0,\n",
       " 100.0]"
      ]
     },
     "execution_count": 170,
     "metadata": {},
     "output_type": "execute_result"
    }
   ],
   "source": [
    "p_active"
   ]
  },
  {
   "cell_type": "code",
   "execution_count": 160,
   "metadata": {},
   "outputs": [
    {
     "name": "stdout",
     "output_type": "stream",
     "text": [
      "20200129(blue) has a total of 11 afferents recorded\n",
      "20200204(orange) has a total of 11 afferents recorded\n",
      "20200531(brown) has a total of 27 afferents recorded\n",
      "20200621(green) has a total of 15 afferents recorded\n",
      "number afferents excluded because first fsl threshold too high or could not be fit: 3\n",
      "number afferents included (spike thresh at least 0%): 61\n",
      "        exptname    animal   stretch       tau    offset    max_fsl  \\\n",
      "1   20200129_003  20200129  5.002921 -0.017816  1.000000   9.532944   \n",
      "4   20200129_006  20200129  5.715809 -0.022154  1.000000   9.858215   \n",
      "7   20200129_009  20200129  5.451725 -0.015384  1.000000   9.357798   \n",
      "10  20200129_012  20200129  6.623366 -0.019459  1.000000  12.010008   \n",
      "1   20200531_001  20200531  6.964934 -0.020705  1.000000  11.347565   \n",
      "7   20200531_007  20200531  3.842939 -0.038101  2.673761  11.087392   \n",
      "\n",
      "           sse   df  \n",
      "1   103.435863   94  \n",
      "4    48.310496  108  \n",
      "7    43.739012   40  \n",
      "10   91.976468   85  \n",
      "1    56.609527  105  \n",
      "7   109.099794  105  \n"
     ]
    },
    {
     "data": {
      "image/png": "[encoded data removed]",
      "text/plain": [
       "<Figure size 144x288 with 1 Axes>"
      ]
     },
     "metadata": {},
     "output_type": "display_data"
    },
    {
     "data": {
      "image/png": "[encoded data removed]",
      "text/plain": [
       "<Figure size 576x360 with 2 Axes>"
      ]
     },
     "metadata": {},
     "output_type": "display_data"
    },
    {
     "data": {
      "image/png": "[encoded data removed]",
      "text/plain": [
       "<Figure size 576x360 with 2 Axes>"
      ]
     },
     "metadata": {},
     "output_type": "display_data"
    }
   ],
   "source": [
    "hfig = plt.figure(figsize=(8,5))\n",
    "ax1 = hfig.add_axes([0.1,0.1,0.3,0.8])\n",
    "ax2 = hfig.add_axes([0.6,0.1,0.3,0.8])\n",
    "ax2.set_ylabel('% afferents online')\n",
    "ax2.set_xlabel('stimulus amplitude shift')\n",
    "colors = ['blue','orange','green','red']\n",
    "# animal = np.unique(well_fit['animal'])[2]\n",
    "\n",
    "for i,animal in enumerate(np.unique(filtered_df['animalID'])):\n",
    "    animal_df = filtered_df[filtered_df['animalID'] == animal]\n",
    "\n",
    "    n_active = []\n",
    "    for a in np.unique(animal_df['ampshift']):\n",
    "        subdf = animal_df[animal_df['ampshift']==a].groupby('exptname')\n",
    "        n_active.append(len(np.where(subdf.fsl.count().values>0)[0]))\n",
    "    n_active = np.asarray(n_active)\n",
    "\n",
    "    ntotal = len(subdf.fsl.count())\n",
    "    ax2.scatter(np.unique(animal_df['ampshift']),100*(n_active/ntotal),\n",
    "               color=colors[i],s=50)\n",
    "\n",
    "hfig = plt.figure(figsize=(8,5))\n",
    "ax1 = hfig.add_axes([0.1,0.1,0.3,0.8])\n",
    "ax2 = hfig.add_axes([0.6,0.1,0.3,0.8])\n",
    "x = [-40,-30,-20,-10,-5,0,5,10,20,30,40]\n",
    "# animal = np.unique(well_fit['animal'])[2]\n",
    "for i,animal in enumerate(np.unique(filtered_df['animalID'])):\n",
    "    animal_df = well_fit[well_fit['animal'] == animal]\n",
    "    y_fit = []\n",
    "    y_fit_ext = []\n",
    "\n",
    "    for name in np.unique(animal_df['exptname']):\n",
    "        expt_df = animal_df[animal_df['exptname'] == name]\n",
    "        y = exp_fit(x,expt_df['stretch'].values,expt_df['tau'].values,expt_df['offset'].values)\n",
    "        y[y>expt_df['max_fsl'].values] = np.NaN\n",
    "        y_ext = exp_fit(x,expt_df['stretch'].values,expt_df['tau'].values,expt_df['offset'].values)  \n",
    "\n",
    "        y_fit.append(y)\n",
    "        y_fit_ext.append(y_ext)\n",
    "\n",
    "    y_fit = np.asarray(y_fit).T\n",
    "    y_fit_ext = np.asarray(y_fit_ext).T\n",
    "\n",
    "    ax1.plot(x,y_fit,color = colors[i]);\n",
    "    ax1.set_ylabel('fsl each afferent with max cutoff')\n",
    "    ax2.scatter(x,np.nanstd(y_fit,1),color = colors[i]);\n",
    "    ax2.set_ylabel('population std(fsl) with max cutoff')\n",
    "\n",
    "\n",
    "  "
   ]
  },
  {
   "cell_type": "markdown",
   "metadata": {},
   "source": [
    "## preservation of latency code preserved in peak response time"
   ]
  },
  {
   "cell_type": "markdown",
   "metadata": {},
   "source": [
    "### SGC"
   ]
  },
  {
   "cell_type": "code",
   "execution_count": 9,
   "metadata": {},
   "outputs": [],
   "source": [
    "all_exptname_uc = {\n",
    "    '20200718_000' : '[expt.get_bout_win(\"R\",\"Keyboard\")[0],expt.get_bout_win(\"R\",\"Keyboard\")[1]]',\n",
    "    '20200606_001' : '[expt.get_bout_win(\"R\",\"Keyboard\")[1]]',\n",
    "    '20200607_000' : '[expt.get_bout_win(\"R\",\"Keyboard\")[1],expt.get_bout_win(\"R\",\"Keyboard\")[2]]',\n",
    "    '20200524_002' : '[expt.get_bout_win(\"R\",\"Keyboard\")[1]]',\n",
    "    '20200109_004' : '[expt.get_bout_win(\"R\",\"Keyboard\")[2]]'\n",
    "#     '20200607_003' : '[expt.get_bout_win('R',\"Keyboard\")[0]]' is this an sGRC?\n",
    "}"
   ]
  },
  {
   "cell_type": "code",
   "execution_count": 10,
   "metadata": {},
   "outputs": [
    {
     "name": "stdout",
     "output_type": "stream",
     "text": [
      "/Users/kperks/mnt/engram/spikedata/data_raw/20200718/20200718_000.smr\n",
      "/Users/kperks/mnt/engram/spikedata/data_raw/20200606/20200606_001.smr\n",
      "/Users/kperks/mnt/engram/spikedata/data_raw/20200607/20200607_000.smr\n",
      "/Users/kperks/mnt/engram/spikedata/data_raw/20200524/20200524_002.smr\n",
      "/Users/kperks/mnt/engram/spikedata/data_raw/20200109/20200109_004.smr\n"
     ]
    }
   ],
   "source": [
    "# save array of uncoupled avg for each cell as a dictionary entry...\n",
    "# then save dictionary\n",
    "sweepdur = 0.1\n",
    "wavmat = {}\n",
    "meta_df = pd.DataFrame()\n",
    "for exptname,boutstr in all_exptname_uc.items():\n",
    "    expt = AmpShift_Stable()\n",
    "    expt.load_expt(exptname, data_folder)\n",
    "\n",
    "    expt.set_amps(11,[-40,-30,-20,-10,-5,0,5,10,20,30,40])\n",
    "    expt.set_channels('CmdTrig','lowgain','spikes','SIU','DigMark')\n",
    "\n",
    "    marker_df = expt.get_marker_table() #access with : getattr(expt,'marker_df')\n",
    "    \n",
    "    bout_uc = eval(boutstr)\n",
    "    bout_df = expt.filter_marker_df_time(marker_df,bout_uc)\n",
    "    trial_df = expt.filter_marker_df_code(bout_df,['T'])\n",
    "\n",
    "    eventDur = 0.001\n",
    "    xtime,event_sweeps = expt.get_sweepsmat('SIU',trial_df['time'].values,eventDur)\n",
    "    event_Amp = np.asarray([np.max(sweep) for sweep in event_sweeps.T])\n",
    "\n",
    "    base_df = expt.filter_marker_df_code(bout_df,['U'])\n",
    "    xtime,event_sweeps = expt.get_sweepsmat('SIU',base_df['time'].values,eventDur)\n",
    "    event_0_Amp = np.median(np.asarray([np.max(sweep) for sweep in event_sweeps.T]))\n",
    "\n",
    "    ampshift = np.asarray([np.round(((A/event_0_Amp)*100)-100) for A in event_Amp]).reshape(-1, 1)\n",
    "    trial_df.insert(np.shape(trial_df)[1],'ampshift',ampshift)\n",
    "\n",
    "    min_peakt = 0.002 #(s)\n",
    "    threshold_h = 1 #(mV)\n",
    "    subsweepdur = 0.05\n",
    "    dt = expt.get_dt('lowgain')\n",
    "\n",
    "    xtime,sweeps = expt.get_sweepsmat('lowgain',trial_df.time.values,sweepdur)\n",
    "    peakAmp = []\n",
    "    peakT = []\n",
    "    sweeps = np.asarray([sweep[int(min_peakt/dt):int(subsweepdur/dt)]-sweep[0] for sweep in sweeps.T]).T\n",
    "    xtime = xtime[int(min_peakt/dt):]\n",
    "    for sweep in sweeps.T:\n",
    "        peakAmp.append(sweep[np.argmax(sweep)])\n",
    "        if sweep[np.argmax(sweep)]>=threshold_h:\n",
    "            peakT.append(xtime[np.argmax(sweep)])\n",
    "        if sweep[np.argmax(sweep)]<threshold_h:\n",
    "            peakT.append(np.NaN)\n",
    "        \n",
    "    trial_df.insert(np.shape(trial_df)[1],'peakAmp',peakAmp)\n",
    "    trial_df.insert(np.shape(trial_df)[1],'peakT',peakT)\n",
    "    trial_df.insert(np.shape(trial_df)[1],'exptname',exptname)\n",
    "    meta_df = meta_df.append(trial_df,sort = False,ignore_index = False)\n",
    "    \n",
    "    trialmat = []\n",
    "    for a in np.unique(trial_df['ampshift']):\n",
    "        theseT = trial_df[trial_df['ampshift']==a].time.values - 0.005\n",
    "        xtime, R = expt.get_sweepsmat('lowgain',theseT,sweepdur)\n",
    "        trialmat.append(np.mean(R,1))\n",
    "    trialmat = np.asarray(trialmat).T \n",
    "    trialmat = np.asarray([sweep-sweep[0] for sweep in trialmat.T]).T\n",
    "    wavmat[exptname] = trialmat\n"
   ]
  },
  {
   "cell_type": "code",
   "execution_count": 14,
   "metadata": {},
   "outputs": [],
   "source": [
    "pickle_out = open(df_folder / 'SGC_uncoupled_wavmat.pickle','wb')\n",
    "pickle.dump(wavmat, pickle_out)\n",
    "pickle_out.close()\n",
    "\n",
    "meta_df.to_csv('DF_SGC_UncoupledAmpShift_revised10Sept.csv')\n"
   ]
  },
  {
   "cell_type": "markdown",
   "metadata": {},
   "source": [
    "### DGC"
   ]
  },
  {
   "cell_type": "code",
   "execution_count": 98,
   "metadata": {},
   "outputs": [],
   "source": [
    "all_exptname_uc = {\n",
    "    '20200719_004' : '[expt.get_bout_win(\"R\",\"Keyboard\")[3]]',\n",
    "    '20200719_001' : '[expt.get_bout_win(\"R\",\"Keyboard\")[0]]',\n",
    "    '20200606_005' : '[expt.get_bout_win(\"R\",\"Keyboard\")[1]]',\n",
    "    '20200607_005' : '[expt.get_bout_win(\"R\",\"Keyboard\")[0],expt.get_bout_win(\"R\",\"Keyboard\")[1]]',\n",
    "    '20200607_004' : '[expt.get_bout_win(\"R\",\"Keyboard\")[0]]',\n",
    "    '20200607_002' : '[expt.get_bout_win(\"R\",\"Keyboard\")[0],expt.get_bout_win(\"R\",\"Keyboard\")[1]]',\n",
    "    '20200525_001' : '[expt.get_bout_win(\"R\",\"Keyboard\")[0],expt.get_bout_win(\"R\",\"Keyboard\")[1]]',\n",
    "    '20200525_006' : '[expt.get_bout_win(\"R\",\"Keyboard\")[0]]',\n",
    "    '20200312_002' : '[expt.get_bout_win(\"R\",\"Keyboard\")[0]]',\n",
    "    '20200227_000' : '[expt.get_bout_win(\"R\",\"Keyboard\")[0]]',\n",
    "    '20200226_002' : '[expt.get_bout_win(\"R\",\"Keyboard\")[0]]',\n",
    "    '20200225_000' : '[expt.get_bout_win(\"R\",\"Keyboard\")[0]]',\n",
    "    '20200115_002' : '[expt.get_bout_win(\"R\",\"Keyboard\")[0]]'\n",
    "}"
   ]
  },
  {
   "cell_type": "code",
   "execution_count": 99,
   "metadata": {},
   "outputs": [
    {
     "name": "stdout",
     "output_type": "stream",
     "text": [
      "/Users/kperks/mnt/engram/spikedata/data_raw/20200719/20200719_004.smr\n",
      "/Users/kperks/mnt/engram/spikedata/data_raw/20200719/20200719_001.smr\n",
      "/Users/kperks/mnt/engram/spikedata/data_raw/20200606/20200606_005.smr\n",
      "/Users/kperks/mnt/engram/spikedata/data_raw/20200607/20200607_005.smr\n",
      "/Users/kperks/mnt/engram/spikedata/data_raw/20200607/20200607_004.smr\n",
      "/Users/kperks/mnt/engram/spikedata/data_raw/20200607/20200607_002.smr\n",
      "/Users/kperks/mnt/engram/spikedata/data_raw/20200525/20200525_001.smr\n",
      "/Users/kperks/mnt/engram/spikedata/data_raw/20200525/20200525_006.smr\n",
      "/Users/kperks/mnt/engram/spikedata/data_raw/20200312/20200312_002.smr\n",
      "/Users/kperks/mnt/engram/spikedata/data_raw/20200227/20200227_000.smr\n",
      "/Users/kperks/mnt/engram/spikedata/data_raw/20200226/20200226_002.smr\n",
      "/Users/kperks/mnt/engram/spikedata/data_raw/20200225/20200225_000.smr\n",
      "/Users/kperks/mnt/engram/spikedata/data_raw/20200115/20200115_002.smr\n"
     ]
    }
   ],
   "source": [
    "# save array of uncoupled avg for each cell as a dictionary entry...\n",
    "# then save dictionary\n",
    "sweepdur = 0.1\n",
    "wavmat = {}\n",
    "meta_df = pd.DataFrame()\n",
    "for exptname,boutstr in all_exptname_uc.items():\n",
    "    expt = AmpShift_Stable()\n",
    "    expt.load_expt(exptname, data_folder)\n",
    "\n",
    "    expt.set_amps(11,[-40,-30,-20,-10,-5,0,5,10,20,30,40])\n",
    "    expt.set_channels('CmdTrig','lowgain','spikes','SIU','DigMark')\n",
    "\n",
    "    marker_df = expt.get_marker_table() #access with : getattr(expt,'marker_df')\n",
    "    \n",
    "    bout_uc = eval(boutstr)\n",
    "    bout_df = expt.filter_marker_df_time(marker_df,bout_uc)\n",
    "    trial_df = expt.filter_marker_df_code(bout_df,['T'])\n",
    "\n",
    "    eventDur = 0.001\n",
    "    xtime,event_sweeps = expt.get_sweepsmat('SIU',trial_df['time'].values,eventDur)\n",
    "    event_Amp = np.asarray([np.max(sweep) for sweep in event_sweeps.T])\n",
    "\n",
    "    base_df = expt.filter_marker_df_code(bout_df,['U'])\n",
    "    xtime,event_sweeps = expt.get_sweepsmat('SIU',base_df['time'].values,eventDur)\n",
    "    event_0_Amp = np.median(np.asarray([np.max(sweep) for sweep in event_sweeps.T]))\n",
    "\n",
    "    ampshift = np.asarray([np.round(((A/event_0_Amp)*100)-100) for A in event_Amp]).reshape(-1, 1)\n",
    "    trial_df.insert(np.shape(trial_df)[1],'ampshift',ampshift)\n",
    "\n",
    "    min_peakt = 0.002 #(s)\n",
    "    threshold_h = 1 #(mV)\n",
    "    subsweepdur = 0.05\n",
    "    dt = expt.get_dt('lowgain')\n",
    "\n",
    "    xtime,sweeps = expt.get_sweepsmat('lowgain',trial_df.time.values,sweepdur)\n",
    "    peakAmp = []\n",
    "    peakT = []\n",
    "    sweeps = np.asarray([sweep[int(min_peakt/dt):int(subsweepdur/dt)]-sweep[0] for sweep in sweeps.T]).T\n",
    "    xtime = xtime[int(min_peakt/dt):]\n",
    "    for sweep in sweeps.T:\n",
    "        peakAmp.append(sweep[np.argmax(sweep)])\n",
    "        if sweep[np.argmax(sweep)]>=threshold_h:\n",
    "            peakT.append(xtime[np.argmax(sweep)])\n",
    "        if sweep[np.argmax(sweep)]<threshold_h:\n",
    "            peakT.append(np.NaN)\n",
    "        \n",
    "    trial_df.insert(np.shape(trial_df)[1],'peakAmp',peakAmp)\n",
    "    trial_df.insert(np.shape(trial_df)[1],'peakT',peakT)\n",
    "    trial_df.insert(np.shape(trial_df)[1],'exptname',exptname)\n",
    "    meta_df = meta_df.append(trial_df,sort = False,ignore_index = False)\n",
    "    \n",
    "    trialmat = []\n",
    "    for a in np.unique(trial_df['ampshift']):\n",
    "        theseT = trial_df[trial_df['ampshift']==a].time.values - 0.005\n",
    "        xtime, R = expt.get_sweepsmat('lowgain',theseT,sweepdur)\n",
    "        trialmat.append(np.mean(R,1))\n",
    "    trialmat = np.asarray(trialmat).T \n",
    "    trialmat = np.asarray([sweep-sweep[0] for sweep in trialmat.T]).T\n",
    "    wavmat[exptname] = trialmat\n"
   ]
  },
  {
   "cell_type": "code",
   "execution_count": 100,
   "metadata": {},
   "outputs": [],
   "source": [
    "pickle_out = open(df_folder / 'DGC_uncoupled_wavmat.pickle','wb')\n",
    "pickle.dump(wavmat, pickle_out)\n",
    "pickle_out.close()\n",
    "\n",
    "meta_df.to_csv('DF_DGC_UncoupledAmpShift_revised10Sept.csv')\n"
   ]
  },
  {
   "cell_type": "markdown",
   "metadata": {},
   "source": [
    "### aferents"
   ]
  },
  {
   "cell_type": "code",
   "execution_count": 49,
   "metadata": {},
   "outputs": [
    {
     "name": "stdout",
     "output_type": "stream",
     "text": [
      "20200129(blue) has a total of 11 afferents recorded\n",
      "20200204(orange) has a total of 11 afferents recorded\n",
      "20200531(brown) has a total of 27 afferents recorded\n",
      "20200621(green) has a total of 15 afferents recorded\n",
      "number afferents excluded because first fsl threshold too high or could not be fit: 3\n",
      "number afferents included (spike thresh at least 0%): 61\n",
      "        exptname    animal   stretch       tau    offset    max_fsl  \\\n",
      "1   20200129_003  20200129  5.002921 -0.017816  1.000000   9.532944   \n",
      "4   20200129_006  20200129  5.715809 -0.022154  1.000000   9.858215   \n",
      "7   20200129_009  20200129  5.451725 -0.015384  1.000000   9.357798   \n",
      "10  20200129_012  20200129  6.623366 -0.019459  1.000000  12.010008   \n",
      "1   20200531_001  20200531  6.964934 -0.020705  1.000000  11.347565   \n",
      "7   20200531_007  20200531  3.842939 -0.038101  2.673761  11.087392   \n",
      "\n",
      "           sse   df  \n",
      "1   103.435863   94  \n",
      "4    48.310496  108  \n",
      "7    43.739012   40  \n",
      "10   91.976468   85  \n",
      "1    56.609527  105  \n",
      "7   109.099794  105  \n"
     ]
    },
    {
     "data": {
      "image/png": "[encoded data removed]",
      "text/plain": [
       "<Figure size 144x288 with 1 Axes>"
      ]
     },
     "metadata": {},
     "output_type": "display_data"
    }
   ],
   "source": [
    "exptdate = 'all'\n",
    "# meta_df.to_csv('DF_AfferentPopulation_' + exptdate + '.csv')\n",
    "meta_df = pd.read_csv('DF_AfferentPopulation_' + exptdate + '.csv')\n",
    "\n",
    "meta_params_df,expt_excluded = exclude_HighThreshAff(meta_df)\n",
    "\n",
    "well_fit,un_fit = assess_fits(meta_params_df)\n",
    "\n",
    "# meta_params_df = meta_params_df.dropna()\n",
    "data_df = well_fit\n",
    "dataset = list(zip(\n",
    "    data_df['stretch'],\n",
    "    data_df['tau'],\n",
    "    data_df['offset'],\n",
    "    data_df['max_fsl']\n",
    "    ))\n",
    "dataset = np.asarray(dataset)\n",
    "# dataset = dataset[:,0:3]\n",
    "\n",
    "rv = gaussian_kde(dataset[:,0:3].T)\n",
    "\n",
    "max_fsl_global = np.max(meta_params_df['max_fsl'])\n",
    "\n",
    "# plot_corr_matrix_multigauss(rv)\n",
    "# filtered_df = meta_df[meta_df.exptname.str.match('|'.join(well_fit.exptname.values))]"
   ]
  },
  {
   "cell_type": "markdown",
   "metadata": {},
   "source": [
    "### plot GC and afferent populations together mean/sem"
   ]
  },
  {
   "cell_type": "code",
   "execution_count": 33,
   "metadata": {},
   "outputs": [
    {
     "name": "stderr",
     "output_type": "stream",
     "text": [
      "WARNING    /anaconda3/envs/grc_study/lib/python3.6/site-packages/ipykernel_launcher.py:42: RuntimeWarning: Mean of empty slice\n",
      " [py.warnings]\n"
     ]
    },
    {
     "name": "stdout",
     "output_type": "stream",
     "text": [
      "afferent tuning: mean ms change -2.0 sem 0.2\n"
     ]
    },
    {
     "name": "stderr",
     "output_type": "stream",
     "text": [
      "WARNING    /anaconda3/envs/grc_study/lib/python3.6/site-packages/ipykernel_launcher.py:69: RuntimeWarning: Mean of empty slice\n",
      " [py.warnings]\n"
     ]
    },
    {
     "name": "stdout",
     "output_type": "stream",
     "text": [
      "DGC tuning: mean ms change -2.6 sem 0.4\n",
      "SGC tuning: mean ms change -3.8 sem 1.1\n"
     ]
    },
    {
     "name": "stderr",
     "output_type": "stream",
     "text": [
      "WARNING    /anaconda3/envs/grc_study/lib/python3.6/site-packages/ipykernel_launcher.py:96: RuntimeWarning: Mean of empty slice\n",
      " [py.warnings]\n",
      "WARNING    /anaconda3/envs/grc_study/lib/python3.6/site-packages/ipykernel_launcher.py:101: RuntimeWarning: Mean of empty slice\n",
      " [py.warnings]\n",
      "WARNING    /anaconda3/envs/grc_study/lib/python3.6/site-packages/ipykernel_launcher.py:104: RuntimeWarning: Mean of empty slice\n",
      " [py.warnings]\n",
      "WARNING    /anaconda3/envs/grc_study/lib/python3.6/site-packages/ipykernel_launcher.py:105: RuntimeWarning: Mean of empty slice\n",
      " [py.warnings]\n"
     ]
    },
    {
     "name": "stdout",
     "output_type": "stream",
     "text": [
      "MF tuning: mean ms change -1.6 sem 0.2\n"
     ]
    },
    {
     "data": {
      "image/png": "[encoded data removed]",
      "text/plain": [
       "<Figure size 86.4x108 with 1 Axes>"
      ]
     },
     "metadata": {},
     "output_type": "display_data"
    }
   ],
   "source": [
    "\n",
    "hfig,ax = create_fig_tuning()\n",
    "\n",
    "x = array([-40,-30,-20,-10,-5,0,5,10,20,30,40])\n",
    "\n",
    "restrict_inds = x>-20\n",
    "\n",
    "y_fit = []\n",
    "for i,animal in enumerate(np.unique(data_df['animal'])):\n",
    "    animal_df = data_df[data_df['animal'] == animal]\n",
    "    for name in np.unique(animal_df['exptname']):\n",
    "        expt_df = animal_df[animal_df['exptname'] == name]\n",
    "        y = exp_fit(x,expt_df['stretch'].values,expt_df['tau'].values,expt_df['offset'].values)\n",
    "        y[y>11] = np.NaN\n",
    "        y_fit.append(y)\n",
    "y_fit = np.asarray(y_fit).T\n",
    "\n",
    "ax.plot(x[restrict_inds],np.nanmean(y_fit,1)[restrict_inds],color = 'green');\n",
    "ax.fill_between(x[restrict_inds],\n",
    "                np.nanmean(y_fit,1)[restrict_inds]-stats.sem(y_fit,1,nan_policy='omit')[restrict_inds],\n",
    "                np.nanmean(y_fit,1)[restrict_inds]+stats.sem(y_fit,1,nan_policy='omit')[restrict_inds],\n",
    "               color='green',alpha=0.3)\n",
    "\n",
    "dt_aff = []\n",
    "for r in y_fit.T:\n",
    "    dt_aff.append(r[restrict_inds][-1] - r[restrict_inds][0])\n",
    "dt_aff = np.asarray(dt_aff).T\n",
    "                \n",
    "\n",
    "print('afferent tuning: mean ms change ' + str(np.round(np.nanmean(dt_aff),1)) + ' sem ' \n",
    "      + str(np.round(stats.sem(dt_aff,nan_policy='omit'),1)))\n",
    "\n",
    "\n",
    "\n",
    "\n",
    "##########\n",
    "meta_df = pd.read_csv('DF_DGC_UncoupledAmpShift_revised10Sept.csv')\n",
    "pop_peakT = []\n",
    "for name in np.unique(meta_df['exptname']):\n",
    "    exptdf = meta_df[meta_df['exptname']==name]\n",
    "    peakT = []\n",
    "    for a in np.unique(exptdf.ampshift):\n",
    "        peakT.append(np.nanmean(exptdf[exptdf['ampshift']==a].peakT))\n",
    "    peakT = np.asarray(peakT).T\n",
    "    pop_peakT.append(peakT)\n",
    "pop_peakT = np.asarray(pop_peakT).T\n",
    "\n",
    "ax.plot(x[restrict_inds],np.nanmean(pop_peakT,1)[restrict_inds],color = 'brown');\n",
    "\n",
    "ax.fill_between(x[restrict_inds],\n",
    "                np.nanmean(pop_peakT,1)[restrict_inds]-stats.sem(pop_peakT,1)[restrict_inds],\n",
    "                np.nanmean(pop_peakT,1)[restrict_inds]+stats.sem(pop_peakT,1)[restrict_inds],\n",
    "               color='brown',alpha=0.3)\n",
    "\n",
    "dt_DGC = []\n",
    "for r in pop_peakT.T:\n",
    "    dt_DGC.append(r[restrict_inds][-1] - r[restrict_inds][0])\n",
    "dt_DGC = np.asarray(dt_DGC).T\n",
    "\n",
    "print('DGC tuning: mean ms change ' + str(np.round(np.nanmean(dt_DGC),1)) + ' sem ' \n",
    "      + str(np.round(stats.sem(dt_DGC,nan_policy='omit'),1)))\n",
    "\n",
    "##########\n",
    "meta_df = pd.read_csv('DF_SGC_UncoupledAmpShift_revised10Sept.csv')\n",
    "pop_peakT = []\n",
    "for name in np.unique(meta_df['exptname']):\n",
    "    exptdf = meta_df[meta_df['exptname']==name]\n",
    "    peakT = []\n",
    "    for a in np.unique(exptdf.ampshift):\n",
    "        peakT.append(np.nanmean(exptdf[exptdf['ampshift']==a].peakT))\n",
    "    peakT = np.asarray(peakT).T\n",
    "    pop_peakT.append(peakT)\n",
    "pop_peakT = np.asarray(pop_peakT).T\n",
    "\n",
    "ax.plot(x[restrict_inds],np.nanmean(pop_peakT,1)[restrict_inds],color = 'red');\n",
    "\n",
    "ax.fill_between(x[restrict_inds],\n",
    "                np.nanmean(pop_peakT,1)[restrict_inds]-stats.sem(pop_peakT,1)[restrict_inds],\n",
    "                np.nanmean(pop_peakT,1)[restrict_inds]+stats.sem(pop_peakT,1)[restrict_inds],\n",
    "               color='red',alpha=0.3)\n",
    "\n",
    "dt_SGC = []\n",
    "for r in pop_peakT.T:\n",
    "    dt_SGC.append(r[restrict_inds][-1] - r[restrict_inds][0])\n",
    "dt_SGC = np.asarray(dt_SGC).T\n",
    "\n",
    "print('SGC tuning: mean ms change ' + str(np.round(np.nanmean(dt_SGC),1)) + ' sem ' \n",
    "      + str(np.round(stats.sem(dt_SGC,nan_policy='omit'),1)))\n",
    "\n",
    "# ##########\n",
    "meta_df = pd.read_csv('DF_MFPopulation_UncoupledAmpShift.csv')\n",
    "pop_peakT = []\n",
    "for name in np.unique(meta_df['exptname']):\n",
    "    exptdf = meta_df[meta_df['exptname']==name]\n",
    "    peakT = []\n",
    "    for a in np.unique(exptdf.ampshift):\n",
    "        peakT.append(np.nanmean(exptdf[exptdf['ampshift']==a].fsl))\n",
    "    peakT = np.asarray(peakT).T\n",
    "    pop_peakT.append(peakT)\n",
    "pop_peakT = np.asarray(pop_peakT).T\n",
    "\n",
    "ax.plot(x[restrict_inds],np.nanmean(pop_peakT,1)[restrict_inds],color = 'gray');\n",
    "\n",
    "ax.fill_between(x[restrict_inds],\n",
    "                np.nanmean(pop_peakT,1)[restrict_inds]-stats.sem(pop_peakT,1)[restrict_inds],\n",
    "                np.nanmean(pop_peakT,1)[restrict_inds]+stats.sem(pop_peakT,1)[restrict_inds],\n",
    "               color='gray',alpha=0.3)\n",
    "\n",
    "dt_MF = []\n",
    "for r in pop_peakT.T:\n",
    "    dt_MF.append(r[restrict_inds][-1] - r[restrict_inds][0])\n",
    "dt_MF = np.asarray(dt_MF).T\n",
    "\n",
    "print('MF tuning: mean ms change ' + str(np.round(np.nanmean(dt_MF),1)) + ' sem ' \n",
    "      + str(np.round(stats.sem(dt_MF,nan_policy='omit'),1)))\n",
    "\n",
    "ax.set_ylabel('Response Latency (ms)',linespacing=0.75)\n",
    "ax.set_xlabel('Stimulus amplitude \\n (% change)',linespacing=0.75)\n",
    "ax.set_xlim(-17,47)\n",
    "xticks([0,20,40]);\n",
    "# plt.ylim(0.3,1.05)\n",
    "sns.despine(hfig)\n",
    "figsave(figure_folder,'Supp_PopMean_LatencyShift')"
   ]
  },
  {
   "cell_type": "markdown",
   "metadata": {},
   "source": [
    "# re-do sgrc and dgrc coupled"
   ]
  },
  {
   "cell_type": "code",
   "execution_count": 105,
   "metadata": {},
   "outputs": [],
   "source": [
    "#DGC\n",
    "all_exptname_c = {\n",
    "    '20200719_004' : '[expt.get_bout_win(\"N\",\"Keyboard\")[1]]',\n",
    "    '20200719_001' : '[expt.get_bout_win(\"N\",\"Keyboard\")[0]]',\n",
    "    '20200606_005' : '[expt.get_bout_win(\"N\",\"Keyboard\")[0]]',\n",
    "    '20200607_005' : '[expt.get_bout_win(\"N\",\"Keyboard\")[0]]',\n",
    "    '20200607_004' : '[expt.get_bout_win(\"N\",\"Keyboard\")[0]]',\n",
    "    '20200607_002' : '[expt.get_bout_win(\"N\",\"Keyboard\")[0]]',\n",
    "    '20200525_001' : '[expt.get_bout_win(\"N\",\"Keyboard\")[0]]',\n",
    "    '20200525_006' : '[expt.get_bout_win(\"N\",\"Keyboard\")[0]]',\n",
    "    '20200312_002' : '[expt.get_bout_win(\"N\",\"Keyboard\")[0],expt.get_bout_win(\"N\",\"Keyboard\")[1]]',\n",
    "    '20200227_000' : '[expt.get_bout_win(\"N\",\"Keyboard\")[0]]',\n",
    "    '20200226_002' : '[expt.get_bout_win(\"N\",\"Keyboard\")[0]]',\n",
    "    '20200225_000' : '[expt.get_bout_win(\"N\",\"Keyboard\")[0]]',\n",
    "    '20200115_002' : '[expt.get_bout_win(\"N\",\"Keyboard\")[0]]'\n",
    "}"
   ]
  },
  {
   "cell_type": "code",
   "execution_count": 106,
   "metadata": {},
   "outputs": [
    {
     "name": "stdout",
     "output_type": "stream",
     "text": [
      "/Users/kperks/mnt/engram/spikedata/data_raw/20200719/20200719_004.smr\n",
      "/Users/kperks/mnt/engram/spikedata/data_raw/20200719/20200719_001.smr\n",
      "/Users/kperks/mnt/engram/spikedata/data_raw/20200606/20200606_005.smr\n",
      "/Users/kperks/mnt/engram/spikedata/data_raw/20200607/20200607_005.smr\n",
      "/Users/kperks/mnt/engram/spikedata/data_raw/20200607/20200607_004.smr\n",
      "/Users/kperks/mnt/engram/spikedata/data_raw/20200607/20200607_002.smr\n",
      "/Users/kperks/mnt/engram/spikedata/data_raw/20200525/20200525_001.smr\n",
      "/Users/kperks/mnt/engram/spikedata/data_raw/20200525/20200525_006.smr\n",
      "/Users/kperks/mnt/engram/spikedata/data_raw/20200312/20200312_002.smr\n",
      "/Users/kperks/mnt/engram/spikedata/data_raw/20200227/20200227_000.smr\n",
      "/Users/kperks/mnt/engram/spikedata/data_raw/20200226/20200226_002.smr\n",
      "/Users/kperks/mnt/engram/spikedata/data_raw/20200225/20200225_000.smr\n",
      "/Users/kperks/mnt/engram/spikedata/data_raw/20200115/20200115_002.smr\n"
     ]
    }
   ],
   "source": [
    "# save array of uncoupled avg for each cell as a dictionary entry...\n",
    "# then save dictionary\n",
    "sweepdur = 0.1\n",
    "wavmat = {}\n",
    "meta_df = pd.DataFrame()\n",
    "for exptname,boutstr in all_exptname_c.items():\n",
    "    expt = AmpShift_Stable()\n",
    "    expt.load_expt(exptname, data_folder)\n",
    "\n",
    "    expt.set_amps(11,[-40,-30,-20,-10,-5,0,5,10,20,30,40])\n",
    "    expt.set_channels('CmdTrig','lowgain','spikes','SIU','DigMark')\n",
    "\n",
    "    marker_df = expt.get_marker_table() #access with : getattr(expt,'marker_df')\n",
    "    \n",
    "    bout_uc = eval(boutstr)\n",
    "    bout_df = expt.filter_marker_df_time(marker_df,bout_uc)\n",
    "    trial_df = expt.filter_marker_df_code(bout_df,['T'])\n",
    "\n",
    "    eventDur = 0.001\n",
    "    xtime,event_sweeps = expt.get_sweepsmat('SIU',trial_df['time'].values,eventDur)\n",
    "    event_Amp = np.asarray([np.max(sweep) for sweep in event_sweeps.T])\n",
    "\n",
    "    base_df = expt.filter_marker_df_code(bout_df,['C'])\n",
    "    xtime,event_sweeps = expt.get_sweepsmat('SIU',base_df['time'].values,eventDur)\n",
    "    event_0_Amp = np.median(np.asarray([np.max(sweep) for sweep in event_sweeps.T]))\n",
    "\n",
    "    ampshift = np.asarray([np.round(((A/event_0_Amp)*100)-100) for A in event_Amp]).reshape(-1, 1)\n",
    "    trial_df.insert(np.shape(trial_df)[1],'ampshift',ampshift)\n",
    "\n",
    "    min_peakt = 0.002 #(s)\n",
    "    threshold_h = 1 #(mV)\n",
    "    subsweepdur = 0.05\n",
    "    dt = expt.get_dt('lowgain')\n",
    "\n",
    "    xtime,sweeps = expt.get_sweepsmat('lowgain',trial_df.time.values,sweepdur)\n",
    "    peakAmp = []\n",
    "    peakT = []\n",
    "    sweeps = np.asarray([sweep[int(min_peakt/dt):int(subsweepdur/dt)]-sweep[0] for sweep in sweeps.T]).T\n",
    "    xtime = xtime[int(min_peakt/dt):]\n",
    "    for sweep in sweeps.T:\n",
    "        peakAmp.append(sweep[np.argmax(sweep)])\n",
    "        if sweep[np.argmax(sweep)]>=threshold_h:\n",
    "            peakT.append(xtime[np.argmax(sweep)])\n",
    "        if sweep[np.argmax(sweep)]<threshold_h:\n",
    "            peakT.append(np.NaN)\n",
    "        \n",
    "    trial_df.insert(np.shape(trial_df)[1],'peakAmp',peakAmp)\n",
    "    trial_df.insert(np.shape(trial_df)[1],'peakT',peakT)\n",
    "    trial_df.insert(np.shape(trial_df)[1],'exptname',exptname)\n",
    "    meta_df = meta_df.append(trial_df,sort = False,ignore_index = False)\n",
    "    \n",
    "    trialmat = []\n",
    "    for a in np.unique(trial_df['ampshift']):\n",
    "        theseT = trial_df[trial_df['ampshift']==a].time.values - 0.005\n",
    "        xtime, R = expt.get_sweepsmat('lowgain',theseT,sweepdur)\n",
    "        trialmat.append(np.mean(R,1))\n",
    "    trialmat = np.asarray(trialmat).T \n",
    "    trialmat = np.asarray([sweep-sweep[0] for sweep in trialmat.T]).T\n",
    "    wavmat[exptname] = trialmat\n"
   ]
  },
  {
   "cell_type": "code",
   "execution_count": 107,
   "metadata": {},
   "outputs": [],
   "source": [
    "pickle_out = open(df_folder / 'DGC_coupled_wavmat.pickle','wb')\n",
    "pickle.dump(wavmat, pickle_out)\n",
    "pickle_out.close()\n",
    "\n",
    "meta_df.to_csv('DF_DGC_CoupledAmpShift_revised10Sept.csv')"
   ]
  },
  {
   "cell_type": "code",
   "execution_count": 108,
   "metadata": {},
   "outputs": [],
   "source": [
    "#SGC\n",
    "all_exptname_c = {\n",
    "    '20200718_000' : '[expt.get_bout_win(\"N\",\"Keyboard\")[0]]',\n",
    "    '20200606_001' : '[expt.get_bout_win(\"N\",\"Keyboard\")[1]]',\n",
    "    '20200607_000' : '[expt.get_bout_win(\"N\",\"Keyboard\")[1],expt.get_bout_win(\"N\",\"Keyboard\")[2]]',\n",
    "    '20200524_002' : '[expt.get_bout_win(\"N\",\"Keyboard\")[1]]',\n",
    "    '20200109_004' : '[expt.get_bout_win(\"N\",\"Keyboard\")[1]]'\n",
    "}"
   ]
  },
  {
   "cell_type": "code",
   "execution_count": 109,
   "metadata": {},
   "outputs": [
    {
     "name": "stdout",
     "output_type": "stream",
     "text": [
      "/Users/kperks/mnt/engram/spikedata/data_raw/20200718/20200718_000.smr\n",
      "/Users/kperks/mnt/engram/spikedata/data_raw/20200606/20200606_001.smr\n",
      "/Users/kperks/mnt/engram/spikedata/data_raw/20200607/20200607_000.smr\n",
      "/Users/kperks/mnt/engram/spikedata/data_raw/20200524/20200524_002.smr\n",
      "/Users/kperks/mnt/engram/spikedata/data_raw/20200109/20200109_004.smr\n"
     ]
    }
   ],
   "source": [
    "# save array of uncoupled avg for each cell as a dictionary entry...\n",
    "# then save dictionary\n",
    "sweepdur = 0.1\n",
    "wavmat = {}\n",
    "meta_df = pd.DataFrame()\n",
    "for exptname,boutstr in all_exptname_c.items():\n",
    "    expt = AmpShift_Stable()\n",
    "    expt.load_expt(exptname, data_folder)\n",
    "\n",
    "    expt.set_amps(11,[-40,-30,-20,-10,-5,0,5,10,20,30,40])\n",
    "    expt.set_channels('CmdTrig','lowgain','spikes','SIU','DigMark')\n",
    "\n",
    "    marker_df = expt.get_marker_table() #access with : getattr(expt,'marker_df')\n",
    "    \n",
    "    bout_uc = eval(boutstr)\n",
    "    bout_df = expt.filter_marker_df_time(marker_df,bout_uc)\n",
    "    trial_df = expt.filter_marker_df_code(bout_df,['T'])\n",
    "\n",
    "    eventDur = 0.001\n",
    "    xtime,event_sweeps = expt.get_sweepsmat('SIU',trial_df['time'].values,eventDur)\n",
    "    event_Amp = np.asarray([np.max(sweep) for sweep in event_sweeps.T])\n",
    "\n",
    "    base_df = expt.filter_marker_df_code(bout_df,['C'])\n",
    "    xtime,event_sweeps = expt.get_sweepsmat('SIU',base_df['time'].values,eventDur)\n",
    "    event_0_Amp = np.median(np.asarray([np.max(sweep) for sweep in event_sweeps.T]))\n",
    "\n",
    "    ampshift = np.asarray([np.round(((A/event_0_Amp)*100)-100) for A in event_Amp]).reshape(-1, 1)\n",
    "    trial_df.insert(np.shape(trial_df)[1],'ampshift',ampshift)\n",
    "\n",
    "    min_peakt = 0.002 #(s)\n",
    "    threshold_h = 1 #(mV)\n",
    "    subsweepdur = 0.05\n",
    "    dt = expt.get_dt('lowgain')\n",
    "\n",
    "    xtime,sweeps = expt.get_sweepsmat('lowgain',trial_df.time.values,sweepdur)\n",
    "    peakAmp = []\n",
    "    peakT = []\n",
    "    sweeps = np.asarray([sweep[int(min_peakt/dt):int(subsweepdur/dt)]-sweep[0] for sweep in sweeps.T]).T\n",
    "    xtime = xtime[int(min_peakt/dt):]\n",
    "    for sweep in sweeps.T:\n",
    "        peakAmp.append(sweep[np.argmax(sweep)])\n",
    "        if sweep[np.argmax(sweep)]>=threshold_h:\n",
    "            peakT.append(xtime[np.argmax(sweep)])\n",
    "        if sweep[np.argmax(sweep)]<threshold_h:\n",
    "            peakT.append(np.NaN)\n",
    "        \n",
    "    trial_df.insert(np.shape(trial_df)[1],'peakAmp',peakAmp)\n",
    "    trial_df.insert(np.shape(trial_df)[1],'peakT',peakT)\n",
    "    trial_df.insert(np.shape(trial_df)[1],'exptname',exptname)\n",
    "    meta_df = meta_df.append(trial_df,sort = False,ignore_index = False)\n",
    "    \n",
    "    trialmat = []\n",
    "    for a in np.unique(trial_df['ampshift']):\n",
    "        theseT = trial_df[trial_df['ampshift']==a].time.values - 0.005\n",
    "        xtime, R = expt.get_sweepsmat('lowgain',theseT,sweepdur)\n",
    "        trialmat.append(np.mean(R,1))\n",
    "    trialmat = np.asarray(trialmat).T \n",
    "    trialmat = np.asarray([sweep-sweep[0] for sweep in trialmat.T]).T\n",
    "    wavmat[exptname] = trialmat\n"
   ]
  },
  {
   "cell_type": "code",
   "execution_count": 110,
   "metadata": {},
   "outputs": [],
   "source": [
    "pickle_out = open(df_folder / 'SGC_coupled_wavmat.pickle','wb')\n",
    "pickle.dump(wavmat, pickle_out)\n",
    "pickle_out.close()\n",
    "\n",
    "meta_df.to_csv('DF_SGC_CoupledAmpShift_revised10Sept.csv')"
   ]
  }
 ],
 "metadata": {
  "celltoolbar": "Raw Cell Format",
  "kernelspec": {
   "display_name": "Python 3",
   "language": "python",
   "name": "python3"
  },
  "language_info": {
   "codemirror_mode": {
    "name": "ipython",
    "version": 3
   },
   "file_extension": ".py",
   "mimetype": "text/x-python",
   "name": "python",
   "nbconvert_exporter": "python",
   "pygments_lexer": "ipython3",
   "version": "3.6.10"
  },
  "toc": {
   "base_numbering": 1,
   "nav_menu": {},
   "number_sections": true,
   "sideBar": true,
   "skip_h1_title": false,
   "title_cell": "Table of Contents",
   "title_sidebar": "Contents",
   "toc_cell": false,
   "toc_position": {
    "height": "calc(100% - 180px)",
    "left": "10px",
    "top": "150px",
    "width": "344.219px"
   },
   "toc_section_display": true,
   "toc_window_display": true
  }
 },
 "nbformat": 4,
 "nbformat_minor": 4
}
